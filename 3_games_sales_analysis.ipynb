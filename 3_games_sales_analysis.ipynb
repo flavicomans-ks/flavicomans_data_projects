{
 "cells": [
  {
   "cell_type": "markdown",
   "metadata": {},
   "source": [
    "## Описание проекта\n",
    "Из открытых источников доступны исторические данные о продажах игр, оценки пользователей и экспертов, жанры и платформы (например, Xbox или PlayStation). Нужно выявить определяющие успешность игры закономерности. Это позволит сделать ставку на потенциально популярный продукт и спланировать рекламные кампании.\n",
    "Перед нами данные до 2016 года. Нужно спланировать кампанию на 2017-й.\n",
    "\n",
    "#### Описание данных\n",
    "- 'Name' — название игры\n",
    "- 'Platform' — платформа\n",
    "- 'Year_of_Release' — год выпуска\n",
    "- 'Genre' — жанр игры\n",
    "- 'NA_sales' — продажи в Северной Америке (миллионы долларов)\n",
    "- 'EU_sales' — продажи в Европе (миллионы долларов)\n",
    "- 'JP_sales' — продажи в Японии (миллионы долларов)\n",
    "- 'Other_sales' — продажи в других странах (миллионы долларов)\n",
    "- 'Critic_Score' — оценка критиков (максимум 100)\n",
    "- 'User_Score' — оценка пользователей (максимум 10)\n",
    "- 'Rating' — рейтинг от организации ESRB (англ. Entertainment Software Rating Board). Эта ассоциация определяет рейтинг компьютерных игр и присваивает им подходящую возрастную категорию."
   ]
  },
  {
   "cell_type": "markdown",
   "metadata": {},
   "source": [
    "### 1. Первичное ознакомление с данными"
   ]
  },
  {
   "cell_type": "code",
   "execution_count": 302,
   "metadata": {},
   "outputs": [],
   "source": [
    "import pandas as pd\n",
    "import numpy as np\n",
    "import matplotlib.pyplot as plt\n",
    "from scipy import stats as st\n",
    "import seaborn as sns\n",
    "import pylab as pl\n",
    "%matplotlib inline\n",
    "data_games = pd.read_csv('/datasets/games.csv')"
   ]
  },
  {
   "cell_type": "code",
   "execution_count": 303,
   "metadata": {},
   "outputs": [
    {
     "data": {
      "text/html": [
       "<div>\n",
       "<style scoped>\n",
       "    .dataframe tbody tr th:only-of-type {\n",
       "        vertical-align: middle;\n",
       "    }\n",
       "\n",
       "    .dataframe tbody tr th {\n",
       "        vertical-align: top;\n",
       "    }\n",
       "\n",
       "    .dataframe thead th {\n",
       "        text-align: right;\n",
       "    }\n",
       "</style>\n",
       "<table border=\"1\" class=\"dataframe\">\n",
       "  <thead>\n",
       "    <tr style=\"text-align: right;\">\n",
       "      <th></th>\n",
       "      <th>Name</th>\n",
       "      <th>Platform</th>\n",
       "      <th>Year_of_Release</th>\n",
       "      <th>Genre</th>\n",
       "      <th>NA_sales</th>\n",
       "      <th>EU_sales</th>\n",
       "      <th>JP_sales</th>\n",
       "      <th>Other_sales</th>\n",
       "      <th>Critic_Score</th>\n",
       "      <th>User_Score</th>\n",
       "      <th>Rating</th>\n",
       "    </tr>\n",
       "  </thead>\n",
       "  <tbody>\n",
       "    <tr>\n",
       "      <td>0</td>\n",
       "      <td>Wii Sports</td>\n",
       "      <td>Wii</td>\n",
       "      <td>2006.0</td>\n",
       "      <td>Sports</td>\n",
       "      <td>41.36</td>\n",
       "      <td>28.96</td>\n",
       "      <td>3.77</td>\n",
       "      <td>8.45</td>\n",
       "      <td>76.0</td>\n",
       "      <td>8</td>\n",
       "      <td>E</td>\n",
       "    </tr>\n",
       "    <tr>\n",
       "      <td>1</td>\n",
       "      <td>Super Mario Bros.</td>\n",
       "      <td>NES</td>\n",
       "      <td>1985.0</td>\n",
       "      <td>Platform</td>\n",
       "      <td>29.08</td>\n",
       "      <td>3.58</td>\n",
       "      <td>6.81</td>\n",
       "      <td>0.77</td>\n",
       "      <td>NaN</td>\n",
       "      <td>NaN</td>\n",
       "      <td>NaN</td>\n",
       "    </tr>\n",
       "    <tr>\n",
       "      <td>2</td>\n",
       "      <td>Mario Kart Wii</td>\n",
       "      <td>Wii</td>\n",
       "      <td>2008.0</td>\n",
       "      <td>Racing</td>\n",
       "      <td>15.68</td>\n",
       "      <td>12.76</td>\n",
       "      <td>3.79</td>\n",
       "      <td>3.29</td>\n",
       "      <td>82.0</td>\n",
       "      <td>8.3</td>\n",
       "      <td>E</td>\n",
       "    </tr>\n",
       "    <tr>\n",
       "      <td>3</td>\n",
       "      <td>Wii Sports Resort</td>\n",
       "      <td>Wii</td>\n",
       "      <td>2009.0</td>\n",
       "      <td>Sports</td>\n",
       "      <td>15.61</td>\n",
       "      <td>10.93</td>\n",
       "      <td>3.28</td>\n",
       "      <td>2.95</td>\n",
       "      <td>80.0</td>\n",
       "      <td>8</td>\n",
       "      <td>E</td>\n",
       "    </tr>\n",
       "    <tr>\n",
       "      <td>4</td>\n",
       "      <td>Pokemon Red/Pokemon Blue</td>\n",
       "      <td>GB</td>\n",
       "      <td>1996.0</td>\n",
       "      <td>Role-Playing</td>\n",
       "      <td>11.27</td>\n",
       "      <td>8.89</td>\n",
       "      <td>10.22</td>\n",
       "      <td>1.00</td>\n",
       "      <td>NaN</td>\n",
       "      <td>NaN</td>\n",
       "      <td>NaN</td>\n",
       "    </tr>\n",
       "    <tr>\n",
       "      <td>...</td>\n",
       "      <td>...</td>\n",
       "      <td>...</td>\n",
       "      <td>...</td>\n",
       "      <td>...</td>\n",
       "      <td>...</td>\n",
       "      <td>...</td>\n",
       "      <td>...</td>\n",
       "      <td>...</td>\n",
       "      <td>...</td>\n",
       "      <td>...</td>\n",
       "      <td>...</td>\n",
       "    </tr>\n",
       "    <tr>\n",
       "      <td>16710</td>\n",
       "      <td>Samurai Warriors: Sanada Maru</td>\n",
       "      <td>PS3</td>\n",
       "      <td>2016.0</td>\n",
       "      <td>Action</td>\n",
       "      <td>0.00</td>\n",
       "      <td>0.00</td>\n",
       "      <td>0.01</td>\n",
       "      <td>0.00</td>\n",
       "      <td>NaN</td>\n",
       "      <td>NaN</td>\n",
       "      <td>NaN</td>\n",
       "    </tr>\n",
       "    <tr>\n",
       "      <td>16711</td>\n",
       "      <td>LMA Manager 2007</td>\n",
       "      <td>X360</td>\n",
       "      <td>2006.0</td>\n",
       "      <td>Sports</td>\n",
       "      <td>0.00</td>\n",
       "      <td>0.01</td>\n",
       "      <td>0.00</td>\n",
       "      <td>0.00</td>\n",
       "      <td>NaN</td>\n",
       "      <td>NaN</td>\n",
       "      <td>NaN</td>\n",
       "    </tr>\n",
       "    <tr>\n",
       "      <td>16712</td>\n",
       "      <td>Haitaka no Psychedelica</td>\n",
       "      <td>PSV</td>\n",
       "      <td>2016.0</td>\n",
       "      <td>Adventure</td>\n",
       "      <td>0.00</td>\n",
       "      <td>0.00</td>\n",
       "      <td>0.01</td>\n",
       "      <td>0.00</td>\n",
       "      <td>NaN</td>\n",
       "      <td>NaN</td>\n",
       "      <td>NaN</td>\n",
       "    </tr>\n",
       "    <tr>\n",
       "      <td>16713</td>\n",
       "      <td>Spirits &amp; Spells</td>\n",
       "      <td>GBA</td>\n",
       "      <td>2003.0</td>\n",
       "      <td>Platform</td>\n",
       "      <td>0.01</td>\n",
       "      <td>0.00</td>\n",
       "      <td>0.00</td>\n",
       "      <td>0.00</td>\n",
       "      <td>NaN</td>\n",
       "      <td>NaN</td>\n",
       "      <td>NaN</td>\n",
       "    </tr>\n",
       "    <tr>\n",
       "      <td>16714</td>\n",
       "      <td>Winning Post 8 2016</td>\n",
       "      <td>PSV</td>\n",
       "      <td>2016.0</td>\n",
       "      <td>Simulation</td>\n",
       "      <td>0.00</td>\n",
       "      <td>0.00</td>\n",
       "      <td>0.01</td>\n",
       "      <td>0.00</td>\n",
       "      <td>NaN</td>\n",
       "      <td>NaN</td>\n",
       "      <td>NaN</td>\n",
       "    </tr>\n",
       "  </tbody>\n",
       "</table>\n",
       "<p>16715 rows × 11 columns</p>\n",
       "</div>"
      ],
      "text/plain": [
       "                                Name Platform  Year_of_Release         Genre  \\\n",
       "0                         Wii Sports      Wii           2006.0        Sports   \n",
       "1                  Super Mario Bros.      NES           1985.0      Platform   \n",
       "2                     Mario Kart Wii      Wii           2008.0        Racing   \n",
       "3                  Wii Sports Resort      Wii           2009.0        Sports   \n",
       "4           Pokemon Red/Pokemon Blue       GB           1996.0  Role-Playing   \n",
       "...                              ...      ...              ...           ...   \n",
       "16710  Samurai Warriors: Sanada Maru      PS3           2016.0        Action   \n",
       "16711               LMA Manager 2007     X360           2006.0        Sports   \n",
       "16712        Haitaka no Psychedelica      PSV           2016.0     Adventure   \n",
       "16713               Spirits & Spells      GBA           2003.0      Platform   \n",
       "16714            Winning Post 8 2016      PSV           2016.0    Simulation   \n",
       "\n",
       "       NA_sales  EU_sales  JP_sales  Other_sales  Critic_Score User_Score  \\\n",
       "0         41.36     28.96      3.77         8.45          76.0          8   \n",
       "1         29.08      3.58      6.81         0.77           NaN        NaN   \n",
       "2         15.68     12.76      3.79         3.29          82.0        8.3   \n",
       "3         15.61     10.93      3.28         2.95          80.0          8   \n",
       "4         11.27      8.89     10.22         1.00           NaN        NaN   \n",
       "...         ...       ...       ...          ...           ...        ...   \n",
       "16710      0.00      0.00      0.01         0.00           NaN        NaN   \n",
       "16711      0.00      0.01      0.00         0.00           NaN        NaN   \n",
       "16712      0.00      0.00      0.01         0.00           NaN        NaN   \n",
       "16713      0.01      0.00      0.00         0.00           NaN        NaN   \n",
       "16714      0.00      0.00      0.01         0.00           NaN        NaN   \n",
       "\n",
       "      Rating  \n",
       "0          E  \n",
       "1        NaN  \n",
       "2          E  \n",
       "3          E  \n",
       "4        NaN  \n",
       "...      ...  \n",
       "16710    NaN  \n",
       "16711    NaN  \n",
       "16712    NaN  \n",
       "16713    NaN  \n",
       "16714    NaN  \n",
       "\n",
       "[16715 rows x 11 columns]"
      ]
     },
     "execution_count": 303,
     "metadata": {},
     "output_type": "execute_result"
    }
   ],
   "source": [
    "data_games"
   ]
  },
  {
   "cell_type": "code",
   "execution_count": 304,
   "metadata": {},
   "outputs": [
    {
     "name": "stdout",
     "output_type": "stream",
     "text": [
      "<class 'pandas.core.frame.DataFrame'>\n",
      "RangeIndex: 16715 entries, 0 to 16714\n",
      "Data columns (total 11 columns):\n",
      "Name               16713 non-null object\n",
      "Platform           16715 non-null object\n",
      "Year_of_Release    16446 non-null float64\n",
      "Genre              16713 non-null object\n",
      "NA_sales           16715 non-null float64\n",
      "EU_sales           16715 non-null float64\n",
      "JP_sales           16715 non-null float64\n",
      "Other_sales        16715 non-null float64\n",
      "Critic_Score       8137 non-null float64\n",
      "User_Score         10014 non-null object\n",
      "Rating             9949 non-null object\n",
      "dtypes: float64(6), object(5)\n",
      "memory usage: 1.4+ MB\n"
     ]
    }
   ],
   "source": [
    "data_games.info()"
   ]
  },
  {
   "cell_type": "code",
   "execution_count": 305,
   "metadata": {},
   "outputs": [],
   "source": [
    "#для удобства приведем названия столбцов к нижнему регистру\n",
    "data_games.columns = ['name', 'platform', 'year_of_release', 'genre', 'na_sales', 'eu_sales', 'jp_sales', 'other_sales', 'critic_score', 'user_score', 'rating']"
   ]
  },
  {
   "cell_type": "code",
   "execution_count": 306,
   "metadata": {},
   "outputs": [
    {
     "data": {
      "text/plain": [
       "critic_score       8578\n",
       "rating             6766\n",
       "user_score         6701\n",
       "year_of_release     269\n",
       "genre                 2\n",
       "name                  2\n",
       "other_sales           0\n",
       "jp_sales              0\n",
       "eu_sales              0\n",
       "na_sales              0\n",
       "platform              0\n",
       "dtype: int64"
      ]
     },
     "execution_count": 306,
     "metadata": {},
     "output_type": "execute_result"
    }
   ],
   "source": [
    "#выведем столбцы с количеством пропусков по убыванию\n",
    "data_games.isnull().sum().sort_values(ascending=False)"
   ]
  },
  {
   "cell_type": "code",
   "execution_count": 307,
   "metadata": {},
   "outputs": [
    {
     "name": "stdout",
     "output_type": "stream",
     "text": [
      "<class 'pandas.core.frame.DataFrame'>\n",
      "Int64Index: 16446 entries, 0 to 16714\n",
      "Data columns (total 11 columns):\n",
      "name               16444 non-null object\n",
      "platform           16446 non-null object\n",
      "year_of_release    16446 non-null float64\n",
      "genre              16444 non-null object\n",
      "na_sales           16446 non-null float64\n",
      "eu_sales           16446 non-null float64\n",
      "jp_sales           16446 non-null float64\n",
      "other_sales        16446 non-null float64\n",
      "critic_score       7983 non-null float64\n",
      "user_score         9839 non-null object\n",
      "rating             9768 non-null object\n",
      "dtypes: float64(6), object(5)\n",
      "memory usage: 1.5+ MB\n"
     ]
    }
   ],
   "source": [
    "#в колонке ['year_of_release'] 269 пропущенных значений. Количество не критичное, можно удалить\n",
    "data_games.dropna(subset = ['year_of_release'], inplace = True)\n",
    "data_games.info()"
   ]
  },
  {
   "cell_type": "code",
   "execution_count": 308,
   "metadata": {},
   "outputs": [
    {
     "data": {
      "text/plain": [
       "year_of_release\n",
       "1980.0       9\n",
       "1981.0      46\n",
       "1982.0      36\n",
       "1983.0      17\n",
       "1984.0      14\n",
       "1985.0      14\n",
       "1986.0      21\n",
       "1987.0      16\n",
       "1988.0      15\n",
       "1989.0      17\n",
       "1990.0      16\n",
       "1991.0      41\n",
       "1992.0      43\n",
       "1993.0      62\n",
       "1994.0     121\n",
       "1995.0     219\n",
       "1996.0     263\n",
       "1997.0     289\n",
       "1998.0     379\n",
       "1999.0     338\n",
       "2000.0     350\n",
       "2001.0     482\n",
       "2002.0     829\n",
       "2003.0     775\n",
       "2004.0     762\n",
       "2005.0     939\n",
       "2006.0    1006\n",
       "2007.0    1197\n",
       "2008.0    1427\n",
       "2009.0    1426\n",
       "2010.0    1255\n",
       "2011.0    1136\n",
       "2012.0     653\n",
       "2013.0     544\n",
       "2014.0     581\n",
       "2015.0     606\n",
       "2016.0     502\n",
       "Name: rating, dtype: int64"
      ]
     },
     "execution_count": 308,
     "metadata": {},
     "output_type": "execute_result"
    }
   ],
   "source": [
    "#навскидку посмотрим как распределены  нулевые строки по годам выпуска игр\n",
    "data_games['rating'].isnull().groupby(data_games['year_of_release']).count()"
   ]
  },
  {
   "cell_type": "code",
   "execution_count": 309,
   "metadata": {},
   "outputs": [
    {
     "data": {
      "text/html": [
       "<div>\n",
       "<style scoped>\n",
       "    .dataframe tbody tr th:only-of-type {\n",
       "        vertical-align: middle;\n",
       "    }\n",
       "\n",
       "    .dataframe tbody tr th {\n",
       "        vertical-align: top;\n",
       "    }\n",
       "\n",
       "    .dataframe thead th {\n",
       "        text-align: right;\n",
       "    }\n",
       "</style>\n",
       "<table border=\"1\" class=\"dataframe\">\n",
       "  <thead>\n",
       "    <tr style=\"text-align: right;\">\n",
       "      <th></th>\n",
       "      <th>name</th>\n",
       "      <th>platform</th>\n",
       "      <th>year_of_release</th>\n",
       "      <th>genre</th>\n",
       "      <th>na_sales</th>\n",
       "      <th>eu_sales</th>\n",
       "      <th>jp_sales</th>\n",
       "      <th>other_sales</th>\n",
       "      <th>critic_score</th>\n",
       "      <th>user_score</th>\n",
       "      <th>rating</th>\n",
       "    </tr>\n",
       "  </thead>\n",
       "  <tbody>\n",
       "    <tr>\n",
       "      <td>600</td>\n",
       "      <td>Super Mario All-Stars: Limited Edition</td>\n",
       "      <td>Wii</td>\n",
       "      <td>2010.0</td>\n",
       "      <td>Platform</td>\n",
       "      <td>0.99</td>\n",
       "      <td>0.52</td>\n",
       "      <td>0.92</td>\n",
       "      <td>0.14</td>\n",
       "      <td>NaN</td>\n",
       "      <td>NaN</td>\n",
       "      <td>NaN</td>\n",
       "    </tr>\n",
       "    <tr>\n",
       "      <td>651</td>\n",
       "      <td>Dino Crisis</td>\n",
       "      <td>PS</td>\n",
       "      <td>1998.0</td>\n",
       "      <td>Action</td>\n",
       "      <td>0.81</td>\n",
       "      <td>0.76</td>\n",
       "      <td>0.70</td>\n",
       "      <td>0.14</td>\n",
       "      <td>NaN</td>\n",
       "      <td>NaN</td>\n",
       "      <td>NaN</td>\n",
       "    </tr>\n",
       "    <tr>\n",
       "      <td>731</td>\n",
       "      <td>The Legend of Zelda: Link's Awakening DX</td>\n",
       "      <td>GB</td>\n",
       "      <td>1998.0</td>\n",
       "      <td>Adventure</td>\n",
       "      <td>1.00</td>\n",
       "      <td>0.63</td>\n",
       "      <td>0.45</td>\n",
       "      <td>0.13</td>\n",
       "      <td>NaN</td>\n",
       "      <td>NaN</td>\n",
       "      <td>NaN</td>\n",
       "    </tr>\n",
       "    <tr>\n",
       "      <td>779</td>\n",
       "      <td>Golf</td>\n",
       "      <td>GB</td>\n",
       "      <td>1989.0</td>\n",
       "      <td>Sports</td>\n",
       "      <td>0.83</td>\n",
       "      <td>0.33</td>\n",
       "      <td>0.92</td>\n",
       "      <td>0.04</td>\n",
       "      <td>NaN</td>\n",
       "      <td>NaN</td>\n",
       "      <td>NaN</td>\n",
       "    </tr>\n",
       "    <tr>\n",
       "      <td>807</td>\n",
       "      <td>Mario &amp; Luigi: Dream Team</td>\n",
       "      <td>3DS</td>\n",
       "      <td>2013.0</td>\n",
       "      <td>Role-Playing</td>\n",
       "      <td>0.89</td>\n",
       "      <td>0.58</td>\n",
       "      <td>0.46</td>\n",
       "      <td>0.14</td>\n",
       "      <td>NaN</td>\n",
       "      <td>NaN</td>\n",
       "      <td>NaN</td>\n",
       "    </tr>\n",
       "    <tr>\n",
       "      <td>...</td>\n",
       "      <td>...</td>\n",
       "      <td>...</td>\n",
       "      <td>...</td>\n",
       "      <td>...</td>\n",
       "      <td>...</td>\n",
       "      <td>...</td>\n",
       "      <td>...</td>\n",
       "      <td>...</td>\n",
       "      <td>...</td>\n",
       "      <td>...</td>\n",
       "      <td>...</td>\n",
       "    </tr>\n",
       "    <tr>\n",
       "      <td>16710</td>\n",
       "      <td>Samurai Warriors: Sanada Maru</td>\n",
       "      <td>PS3</td>\n",
       "      <td>2016.0</td>\n",
       "      <td>Action</td>\n",
       "      <td>0.00</td>\n",
       "      <td>0.00</td>\n",
       "      <td>0.01</td>\n",
       "      <td>0.00</td>\n",
       "      <td>NaN</td>\n",
       "      <td>NaN</td>\n",
       "      <td>NaN</td>\n",
       "    </tr>\n",
       "    <tr>\n",
       "      <td>16711</td>\n",
       "      <td>LMA Manager 2007</td>\n",
       "      <td>X360</td>\n",
       "      <td>2006.0</td>\n",
       "      <td>Sports</td>\n",
       "      <td>0.00</td>\n",
       "      <td>0.01</td>\n",
       "      <td>0.00</td>\n",
       "      <td>0.00</td>\n",
       "      <td>NaN</td>\n",
       "      <td>NaN</td>\n",
       "      <td>NaN</td>\n",
       "    </tr>\n",
       "    <tr>\n",
       "      <td>16712</td>\n",
       "      <td>Haitaka no Psychedelica</td>\n",
       "      <td>PSV</td>\n",
       "      <td>2016.0</td>\n",
       "      <td>Adventure</td>\n",
       "      <td>0.00</td>\n",
       "      <td>0.00</td>\n",
       "      <td>0.01</td>\n",
       "      <td>0.00</td>\n",
       "      <td>NaN</td>\n",
       "      <td>NaN</td>\n",
       "      <td>NaN</td>\n",
       "    </tr>\n",
       "    <tr>\n",
       "      <td>16713</td>\n",
       "      <td>Spirits &amp; Spells</td>\n",
       "      <td>GBA</td>\n",
       "      <td>2003.0</td>\n",
       "      <td>Platform</td>\n",
       "      <td>0.01</td>\n",
       "      <td>0.00</td>\n",
       "      <td>0.00</td>\n",
       "      <td>0.00</td>\n",
       "      <td>NaN</td>\n",
       "      <td>NaN</td>\n",
       "      <td>NaN</td>\n",
       "    </tr>\n",
       "    <tr>\n",
       "      <td>16714</td>\n",
       "      <td>Winning Post 8 2016</td>\n",
       "      <td>PSV</td>\n",
       "      <td>2016.0</td>\n",
       "      <td>Simulation</td>\n",
       "      <td>0.00</td>\n",
       "      <td>0.00</td>\n",
       "      <td>0.01</td>\n",
       "      <td>0.00</td>\n",
       "      <td>NaN</td>\n",
       "      <td>NaN</td>\n",
       "      <td>NaN</td>\n",
       "    </tr>\n",
       "  </tbody>\n",
       "</table>\n",
       "<p>6278 rows × 11 columns</p>\n",
       "</div>"
      ],
      "text/plain": [
       "                                           name platform  year_of_release  \\\n",
       "600      Super Mario All-Stars: Limited Edition      Wii           2010.0   \n",
       "651                                 Dino Crisis       PS           1998.0   \n",
       "731    The Legend of Zelda: Link's Awakening DX       GB           1998.0   \n",
       "779                                        Golf       GB           1989.0   \n",
       "807                   Mario & Luigi: Dream Team      3DS           2013.0   \n",
       "...                                         ...      ...              ...   \n",
       "16710             Samurai Warriors: Sanada Maru      PS3           2016.0   \n",
       "16711                          LMA Manager 2007     X360           2006.0   \n",
       "16712                   Haitaka no Psychedelica      PSV           2016.0   \n",
       "16713                          Spirits & Spells      GBA           2003.0   \n",
       "16714                       Winning Post 8 2016      PSV           2016.0   \n",
       "\n",
       "              genre  na_sales  eu_sales  jp_sales  other_sales  critic_score  \\\n",
       "600        Platform      0.99      0.52      0.92         0.14           NaN   \n",
       "651          Action      0.81      0.76      0.70         0.14           NaN   \n",
       "731       Adventure      1.00      0.63      0.45         0.13           NaN   \n",
       "779          Sports      0.83      0.33      0.92         0.04           NaN   \n",
       "807    Role-Playing      0.89      0.58      0.46         0.14           NaN   \n",
       "...             ...       ...       ...       ...          ...           ...   \n",
       "16710        Action      0.00      0.00      0.01         0.00           NaN   \n",
       "16711        Sports      0.00      0.01      0.00         0.00           NaN   \n",
       "16712     Adventure      0.00      0.00      0.01         0.00           NaN   \n",
       "16713      Platform      0.01      0.00      0.00         0.00           NaN   \n",
       "16714    Simulation      0.00      0.00      0.01         0.00           NaN   \n",
       "\n",
       "      user_score rating  \n",
       "600          NaN    NaN  \n",
       "651          NaN    NaN  \n",
       "731          NaN    NaN  \n",
       "779          NaN    NaN  \n",
       "807          NaN    NaN  \n",
       "...          ...    ...  \n",
       "16710        NaN    NaN  \n",
       "16711        NaN    NaN  \n",
       "16712        NaN    NaN  \n",
       "16713        NaN    NaN  \n",
       "16714        NaN    NaN  \n",
       "\n",
       "[6278 rows x 11 columns]"
      ]
     },
     "execution_count": 309,
     "metadata": {},
     "output_type": "execute_result"
    }
   ],
   "source": [
    "#выведем строки, отфильтрованные по пропущенным значениям рейтинга и доходов с продаж меньше 1 млн.\n",
    "data_games.loc[(data_games['rating'].isnull()) & (data_games['na_sales'] <= 1) & (data_games['eu_sales'] <= 1) & (data_games['jp_sales'] <= 1) & (data_games['other_sales'] <= 1)]"
   ]
  },
  {
   "cell_type": "code",
   "execution_count": 310,
   "metadata": {},
   "outputs": [
    {
     "data": {
      "text/plain": [
       "0"
      ]
     },
     "execution_count": 310,
     "metadata": {},
     "output_type": "execute_result"
    }
   ],
   "source": [
    "data_games.duplicated().sum()"
   ]
  },
  {
   "cell_type": "code",
   "execution_count": 311,
   "metadata": {},
   "outputs": [
    {
     "data": {
      "text/html": [
       "<div>\n",
       "<style scoped>\n",
       "    .dataframe tbody tr th:only-of-type {\n",
       "        vertical-align: middle;\n",
       "    }\n",
       "\n",
       "    .dataframe tbody tr th {\n",
       "        vertical-align: top;\n",
       "    }\n",
       "\n",
       "    .dataframe thead th {\n",
       "        text-align: right;\n",
       "    }\n",
       "</style>\n",
       "<table border=\"1\" class=\"dataframe\">\n",
       "  <thead>\n",
       "    <tr style=\"text-align: right;\">\n",
       "      <th></th>\n",
       "      <th>name</th>\n",
       "      <th>platform</th>\n",
       "      <th>year_of_release</th>\n",
       "      <th>genre</th>\n",
       "      <th>na_sales</th>\n",
       "      <th>eu_sales</th>\n",
       "      <th>jp_sales</th>\n",
       "      <th>other_sales</th>\n",
       "      <th>critic_score</th>\n",
       "      <th>user_score</th>\n",
       "      <th>rating</th>\n",
       "    </tr>\n",
       "  </thead>\n",
       "  <tbody>\n",
       "    <tr>\n",
       "      <td>15771</td>\n",
       "      <td>Spirits &amp; Spells</td>\n",
       "      <td>GC</td>\n",
       "      <td>2003.0</td>\n",
       "      <td>Platform</td>\n",
       "      <td>0.01</td>\n",
       "      <td>0.0</td>\n",
       "      <td>0.0</td>\n",
       "      <td>0.0</td>\n",
       "      <td>NaN</td>\n",
       "      <td>NaN</td>\n",
       "      <td>NaN</td>\n",
       "    </tr>\n",
       "    <tr>\n",
       "      <td>16713</td>\n",
       "      <td>Spirits &amp; Spells</td>\n",
       "      <td>GBA</td>\n",
       "      <td>2003.0</td>\n",
       "      <td>Platform</td>\n",
       "      <td>0.01</td>\n",
       "      <td>0.0</td>\n",
       "      <td>0.0</td>\n",
       "      <td>0.0</td>\n",
       "      <td>NaN</td>\n",
       "      <td>NaN</td>\n",
       "      <td>NaN</td>\n",
       "    </tr>\n",
       "  </tbody>\n",
       "</table>\n",
       "</div>"
      ],
      "text/plain": [
       "                   name platform  year_of_release     genre  na_sales  \\\n",
       "15771  Spirits & Spells       GC           2003.0  Platform      0.01   \n",
       "16713  Spirits & Spells      GBA           2003.0  Platform      0.01   \n",
       "\n",
       "       eu_sales  jp_sales  other_sales  critic_score user_score rating  \n",
       "15771       0.0       0.0          0.0           NaN        NaN    NaN  \n",
       "16713       0.0       0.0          0.0           NaN        NaN    NaN  "
      ]
     },
     "execution_count": 311,
     "metadata": {},
     "output_type": "execute_result"
    }
   ],
   "source": [
    "#как пример возможных дубликатов по столбцу 'name'\n",
    "data_games['name'].duplicated()\n",
    "data_games.loc[16713:]\n",
    "data_games.loc[data_games['name'] == 'Spirits & Spells']"
   ]
  },
  {
   "cell_type": "markdown",
   "metadata": {},
   "source": [
    "### - Выводы по результатам первичного знакомства с данными\n",
    "#### Общее описание\n",
    "- Таблица data_games состоит из 16715 строк и 11 столбцов.\n",
    "- В 4-х столбцах содержатся котегориальные переменные: название игры ('name'), название платформы ('platform'), жанр ('genre') и рейтинг ('rating'). Столбец с рейтингом имеет буквенную обозначение градации присвоенного рейтинга. Остальные столбцы содержат количественные переменные.\n",
    "\n",
    "#### Типы данных\n",
    "В столбце 'year_of_release' неверно отражен тип данных. Необходимо привести к временному типу datetime и целочисленному значению. В остальном типы данных можно считать корректными.\n",
    "\n",
    "#### Пропуски\n",
    "В шести столбцах содержатся пропуски, однако для рассмотрения критичными по количеству являются столбцы: 1) 'critic_score'  -   8578;  2) 'rating' - 6766; 3) 'user_score' - 6701. Как видим, количество пропусков в столбце 'user_score' по количеству практически совпадает с 'rating'.\n",
    "\n",
    "Пропуски с столбце с рейтингом 'rating' частично могли бы объясняться тем, что на момет сбора данных некоторым играм рейтинг еще не был присвоен. В этом случае, по правилам ESRB, за такими играми сохраняется статус 'Rating Pending' до момента присвоения (https://www.esrb.org/ratings-guide/). Однако доля пропущенных значений, приходящихся на 2016 г. достаточно мала и пропуски встречаются и за более ранние года. Срез данных показал, что пропущенные значения в колонках с рейтингом и оценками, как правило, приходятся на те игры, доходы от продаж которых меньше 1 млн. долл.\n",
    "\n",
    "В связи с этим можно предположить, что игры с низкими продажами не представляют инереса для критиков и прочих присвоителей рейтингов, и, следовательно, пропущенные заначения нельзя заполнить по причине отсутствия у таких рейтингов в принципе. Другим решением может быть замена пропущенных значений на низкие значения оценок, так как подобные игры вряд ли можно назвать популярными, однако такой путь вряд ли можно признать правильным.\n",
    "\n",
    "#### Дубликаты\n",
    "\n",
    "Проверка показала отсутствие полных дубликатов в таблице (совпадения строк полностью). Однако дубликаты могут присутствовать  неявно - например, в отображении названия игр в различных форматах, регистрах и тд.\n",
    "\n",
    "#### Другие проблемы\n",
    "\n",
    "В столбце 'user_score' присутствует значение 'tbd', что означает to be defined, то есть игре еще не присвоен какой-либо рейтинг. Данный тип 'str' может быть проблемой при вычислениях. Мы его заменим на NaN. В любом случае какой-либо смысловой нагрузки он не несет.\n",
    "\n"
   ]
  },
  {
   "cell_type": "markdown",
   "metadata": {},
   "source": [
    "### 2. Подготовка данных. Предобработка"
   ]
  },
  {
   "cell_type": "code",
   "execution_count": 312,
   "metadata": {},
   "outputs": [],
   "source": [
    "#заменим тип данных в столбце ['year_of_release']\n",
    "data_games['year_of_release'] = pd.to_datetime(data_games['year_of_release'], format='%Y').dt.strftime('%Y')\n",
    "data_games['year_of_release'] = pd.to_datetime(data_games['year_of_release'], format='%Y')\n",
    "#приведем к численному значению столбец ['user_score'], заменив при этом 'tbd' на нулевые значения\n",
    "data_games['user_score'] = pd.to_numeric(data_games['user_score'], errors='coerce')"
   ]
  },
  {
   "cell_type": "code",
   "execution_count": 313,
   "metadata": {},
   "outputs": [
    {
     "data": {
      "text/plain": [
       "7.8    322\n",
       "8.0    285\n",
       "8.2    276\n",
       "8.3    252\n",
       "7.5    249\n",
       "      ... \n",
       "9.6      2\n",
       "0.6      2\n",
       "1.9      2\n",
       "9.7      1\n",
       "0.0      1\n",
       "Name: user_score, Length: 95, dtype: int64"
      ]
     },
     "execution_count": 313,
     "metadata": {},
     "output_type": "execute_result"
    }
   ],
   "source": [
    "data_games['user_score'].value_counts()"
   ]
  },
  {
   "cell_type": "code",
   "execution_count": 314,
   "metadata": {},
   "outputs": [
    {
     "data": {
      "text/html": [
       "<div>\n",
       "<style scoped>\n",
       "    .dataframe tbody tr th:only-of-type {\n",
       "        vertical-align: middle;\n",
       "    }\n",
       "\n",
       "    .dataframe tbody tr th {\n",
       "        vertical-align: top;\n",
       "    }\n",
       "\n",
       "    .dataframe thead th {\n",
       "        text-align: right;\n",
       "    }\n",
       "</style>\n",
       "<table border=\"1\" class=\"dataframe\">\n",
       "  <thead>\n",
       "    <tr style=\"text-align: right;\">\n",
       "      <th></th>\n",
       "      <th>name</th>\n",
       "      <th>platform</th>\n",
       "      <th>year_of_release</th>\n",
       "      <th>genre</th>\n",
       "      <th>na_sales</th>\n",
       "      <th>eu_sales</th>\n",
       "      <th>jp_sales</th>\n",
       "      <th>other_sales</th>\n",
       "      <th>critic_score</th>\n",
       "      <th>user_score</th>\n",
       "      <th>rating</th>\n",
       "      <th>total_sales</th>\n",
       "    </tr>\n",
       "  </thead>\n",
       "  <tbody>\n",
       "    <tr>\n",
       "      <td>0</td>\n",
       "      <td>wii sports</td>\n",
       "      <td>wii</td>\n",
       "      <td>2006-01-01</td>\n",
       "      <td>sports</td>\n",
       "      <td>41.36</td>\n",
       "      <td>28.96</td>\n",
       "      <td>3.77</td>\n",
       "      <td>8.45</td>\n",
       "      <td>76.0</td>\n",
       "      <td>8.0</td>\n",
       "      <td>E</td>\n",
       "      <td>82.54</td>\n",
       "    </tr>\n",
       "    <tr>\n",
       "      <td>1</td>\n",
       "      <td>super mario bros.</td>\n",
       "      <td>nes</td>\n",
       "      <td>1985-01-01</td>\n",
       "      <td>platform</td>\n",
       "      <td>29.08</td>\n",
       "      <td>3.58</td>\n",
       "      <td>6.81</td>\n",
       "      <td>0.77</td>\n",
       "      <td>NaN</td>\n",
       "      <td>NaN</td>\n",
       "      <td>NaN</td>\n",
       "      <td>40.24</td>\n",
       "    </tr>\n",
       "    <tr>\n",
       "      <td>2</td>\n",
       "      <td>mario kart wii</td>\n",
       "      <td>wii</td>\n",
       "      <td>2008-01-01</td>\n",
       "      <td>racing</td>\n",
       "      <td>15.68</td>\n",
       "      <td>12.76</td>\n",
       "      <td>3.79</td>\n",
       "      <td>3.29</td>\n",
       "      <td>82.0</td>\n",
       "      <td>8.3</td>\n",
       "      <td>E</td>\n",
       "      <td>35.52</td>\n",
       "    </tr>\n",
       "    <tr>\n",
       "      <td>3</td>\n",
       "      <td>wii sports resort</td>\n",
       "      <td>wii</td>\n",
       "      <td>2009-01-01</td>\n",
       "      <td>sports</td>\n",
       "      <td>15.61</td>\n",
       "      <td>10.93</td>\n",
       "      <td>3.28</td>\n",
       "      <td>2.95</td>\n",
       "      <td>80.0</td>\n",
       "      <td>8.0</td>\n",
       "      <td>E</td>\n",
       "      <td>32.77</td>\n",
       "    </tr>\n",
       "    <tr>\n",
       "      <td>4</td>\n",
       "      <td>pokemon red/pokemon blue</td>\n",
       "      <td>gb</td>\n",
       "      <td>1996-01-01</td>\n",
       "      <td>role-playing</td>\n",
       "      <td>11.27</td>\n",
       "      <td>8.89</td>\n",
       "      <td>10.22</td>\n",
       "      <td>1.00</td>\n",
       "      <td>NaN</td>\n",
       "      <td>NaN</td>\n",
       "      <td>NaN</td>\n",
       "      <td>31.38</td>\n",
       "    </tr>\n",
       "    <tr>\n",
       "      <td>...</td>\n",
       "      <td>...</td>\n",
       "      <td>...</td>\n",
       "      <td>...</td>\n",
       "      <td>...</td>\n",
       "      <td>...</td>\n",
       "      <td>...</td>\n",
       "      <td>...</td>\n",
       "      <td>...</td>\n",
       "      <td>...</td>\n",
       "      <td>...</td>\n",
       "      <td>...</td>\n",
       "      <td>...</td>\n",
       "    </tr>\n",
       "    <tr>\n",
       "      <td>16710</td>\n",
       "      <td>samurai warriors: sanada maru</td>\n",
       "      <td>ps3</td>\n",
       "      <td>2016-01-01</td>\n",
       "      <td>action</td>\n",
       "      <td>0.00</td>\n",
       "      <td>0.00</td>\n",
       "      <td>0.01</td>\n",
       "      <td>0.00</td>\n",
       "      <td>NaN</td>\n",
       "      <td>NaN</td>\n",
       "      <td>NaN</td>\n",
       "      <td>0.01</td>\n",
       "    </tr>\n",
       "    <tr>\n",
       "      <td>16711</td>\n",
       "      <td>lma manager 2007</td>\n",
       "      <td>x360</td>\n",
       "      <td>2006-01-01</td>\n",
       "      <td>sports</td>\n",
       "      <td>0.00</td>\n",
       "      <td>0.01</td>\n",
       "      <td>0.00</td>\n",
       "      <td>0.00</td>\n",
       "      <td>NaN</td>\n",
       "      <td>NaN</td>\n",
       "      <td>NaN</td>\n",
       "      <td>0.01</td>\n",
       "    </tr>\n",
       "    <tr>\n",
       "      <td>16712</td>\n",
       "      <td>haitaka no psychedelica</td>\n",
       "      <td>psv</td>\n",
       "      <td>2016-01-01</td>\n",
       "      <td>adventure</td>\n",
       "      <td>0.00</td>\n",
       "      <td>0.00</td>\n",
       "      <td>0.01</td>\n",
       "      <td>0.00</td>\n",
       "      <td>NaN</td>\n",
       "      <td>NaN</td>\n",
       "      <td>NaN</td>\n",
       "      <td>0.01</td>\n",
       "    </tr>\n",
       "    <tr>\n",
       "      <td>16713</td>\n",
       "      <td>spirits &amp; spells</td>\n",
       "      <td>gba</td>\n",
       "      <td>2003-01-01</td>\n",
       "      <td>platform</td>\n",
       "      <td>0.01</td>\n",
       "      <td>0.00</td>\n",
       "      <td>0.00</td>\n",
       "      <td>0.00</td>\n",
       "      <td>NaN</td>\n",
       "      <td>NaN</td>\n",
       "      <td>NaN</td>\n",
       "      <td>0.01</td>\n",
       "    </tr>\n",
       "    <tr>\n",
       "      <td>16714</td>\n",
       "      <td>winning post 8 2016</td>\n",
       "      <td>psv</td>\n",
       "      <td>2016-01-01</td>\n",
       "      <td>simulation</td>\n",
       "      <td>0.00</td>\n",
       "      <td>0.00</td>\n",
       "      <td>0.01</td>\n",
       "      <td>0.00</td>\n",
       "      <td>NaN</td>\n",
       "      <td>NaN</td>\n",
       "      <td>NaN</td>\n",
       "      <td>0.01</td>\n",
       "    </tr>\n",
       "  </tbody>\n",
       "</table>\n",
       "<p>16446 rows × 12 columns</p>\n",
       "</div>"
      ],
      "text/plain": [
       "                                name platform year_of_release         genre  \\\n",
       "0                         wii sports      wii      2006-01-01        sports   \n",
       "1                  super mario bros.      nes      1985-01-01      platform   \n",
       "2                     mario kart wii      wii      2008-01-01        racing   \n",
       "3                  wii sports resort      wii      2009-01-01        sports   \n",
       "4           pokemon red/pokemon blue       gb      1996-01-01  role-playing   \n",
       "...                              ...      ...             ...           ...   \n",
       "16710  samurai warriors: sanada maru      ps3      2016-01-01        action   \n",
       "16711               lma manager 2007     x360      2006-01-01        sports   \n",
       "16712        haitaka no psychedelica      psv      2016-01-01     adventure   \n",
       "16713               spirits & spells      gba      2003-01-01      platform   \n",
       "16714            winning post 8 2016      psv      2016-01-01    simulation   \n",
       "\n",
       "       na_sales  eu_sales  jp_sales  other_sales  critic_score  user_score  \\\n",
       "0         41.36     28.96      3.77         8.45          76.0         8.0   \n",
       "1         29.08      3.58      6.81         0.77           NaN         NaN   \n",
       "2         15.68     12.76      3.79         3.29          82.0         8.3   \n",
       "3         15.61     10.93      3.28         2.95          80.0         8.0   \n",
       "4         11.27      8.89     10.22         1.00           NaN         NaN   \n",
       "...         ...       ...       ...          ...           ...         ...   \n",
       "16710      0.00      0.00      0.01         0.00           NaN         NaN   \n",
       "16711      0.00      0.01      0.00         0.00           NaN         NaN   \n",
       "16712      0.00      0.00      0.01         0.00           NaN         NaN   \n",
       "16713      0.01      0.00      0.00         0.00           NaN         NaN   \n",
       "16714      0.00      0.00      0.01         0.00           NaN         NaN   \n",
       "\n",
       "      rating  total_sales  \n",
       "0          E        82.54  \n",
       "1        NaN        40.24  \n",
       "2          E        35.52  \n",
       "3          E        32.77  \n",
       "4        NaN        31.38  \n",
       "...      ...          ...  \n",
       "16710    NaN         0.01  \n",
       "16711    NaN         0.01  \n",
       "16712    NaN         0.01  \n",
       "16713    NaN         0.01  \n",
       "16714    NaN         0.01  \n",
       "\n",
       "[16446 rows x 12 columns]"
      ]
     },
     "execution_count": 314,
     "metadata": {},
     "output_type": "execute_result"
    }
   ],
   "source": [
    "#приведем к нижнему регистру следующие столбцы\n",
    "data_games['name'] = data_games['name'].str.lower()\n",
    "data_games['genre'] = data_games['genre'].str.lower()\n",
    "data_games['platform'] = data_games['platform'].str.lower()\n",
    "#добавим новый столбец с общей суммой продаж ['total_sales']\n",
    "data_games['total_sales'] = data_games['na_sales'] + data_games['eu_sales'] + data_games['jp_sales'] + data_games['other_sales']\n",
    "data_games"
   ]
  },
  {
   "cell_type": "markdown",
   "metadata": {},
   "source": [
    "\n",
    "- Была проведена замена типа данных в столбце 'year_of_release' на тип datetime.\n",
    "- В столбце 'user_score' была обнаружена оценка в виде tbd. В сфере игр данная аббревиатура означает 'to be determined', то есть ретйнг (скоринг) на момент сбора данных, по-видимому, еще не был присвоен. Была проведена замена на NaN.\n",
    "- Столбцы 'name', 'genre' и 'platform' были приведены к нижнему регистру.\n",
    "- Замена пропусков или удаление таких строк не были признаны необходимыми."
   ]
  },
  {
   "cell_type": "code",
   "execution_count": 315,
   "metadata": {},
   "outputs": [
    {
     "name": "stdout",
     "output_type": "stream",
     "text": [
      "<class 'pandas.core.frame.DataFrame'>\n",
      "Int64Index: 16446 entries, 0 to 16714\n",
      "Data columns (total 12 columns):\n",
      "name               16444 non-null object\n",
      "platform           16446 non-null object\n",
      "year_of_release    16446 non-null datetime64[ns]\n",
      "genre              16444 non-null object\n",
      "na_sales           16446 non-null float64\n",
      "eu_sales           16446 non-null float64\n",
      "jp_sales           16446 non-null float64\n",
      "other_sales        16446 non-null float64\n",
      "critic_score       7983 non-null float64\n",
      "user_score         7463 non-null float64\n",
      "rating             9768 non-null object\n",
      "total_sales        16446 non-null float64\n",
      "dtypes: datetime64[ns](1), float64(7), object(4)\n",
      "memory usage: 2.3+ MB\n"
     ]
    }
   ],
   "source": [
    "data_games.info()"
   ]
  },
  {
   "cell_type": "markdown",
   "metadata": {},
   "source": [
    "### 3. Исследовательский анализ данных\n",
    "\n",
    "#### 3.1 Сколько игр выпускалось в разные годы. Важны ли данные за все периоды?"
   ]
  },
  {
   "cell_type": "code",
   "execution_count": 316,
   "metadata": {},
   "outputs": [
    {
     "data": {
      "text/plain": [
       "<matplotlib.axes._subplots.AxesSubplot at 0x7fc95ffa13d0>"
      ]
     },
     "execution_count": 316,
     "metadata": {},
     "output_type": "execute_result"
    },
    {
     "data": {
      "image/png": "[encoded data removed]",
      "text/plain": [
       "<Figure size 1080x432 with 1 Axes>"
      ]
     },
     "metadata": {
      "needs_background": "light"
     },
     "output_type": "display_data"
    }
   ],
   "source": [
    "#сгруппируем количество игр по годам\n",
    "data_games.groupby('year_of_release')['name'].count().sort_values(ascending=False).plot(kind='bar', figsize=(15, 6))"
   ]
  },
  {
   "cell_type": "code",
   "execution_count": 317,
   "metadata": {},
   "outputs": [],
   "source": [
    "#оставим только игры, выпущенные после 1995 г\n",
    "data_games = data_games.query('year_of_release > \"1995-01-01\"')"
   ]
  },
  {
   "cell_type": "markdown",
   "metadata": {},
   "source": [
    "- Как видим, продажи ранее 1994 г. были совсем небольшими. Хоть сколько-нибудь существенные показатели начинаются лишь с 1995 г.\n",
    "\n"
   ]
  },
  {
   "cell_type": "markdown",
   "metadata": {},
   "source": [
    "#### 3.2 Как менялись продажи по платформам?\n",
    "- Выбрать платформы с наибольшими суммарными продажами и постройте распределение по годам. За какой характерный срок появляются новые и исчезают старые платформы?"
   ]
  },
  {
   "cell_type": "code",
   "execution_count": 318,
   "metadata": {},
   "outputs": [
    {
     "data": {
      "text/plain": [
       "<matplotlib.axes._subplots.AxesSubplot at 0x7fc9605bc8d0>"
      ]
     },
     "execution_count": 318,
     "metadata": {},
     "output_type": "execute_result"
    },
    {
     "data": {
      "image/png": "[encoded data removed]",
      "text/plain": [
       "<Figure size 720x360 with 1 Axes>"
      ]
     },
     "metadata": {
      "needs_background": "light"
     },
     "output_type": "display_data"
    }
   ],
   "source": [
    "data_games.groupby('platform')['total_sales'].sum().sort_values(ascending=False).plot(kind='bar', figsize=(10, 5))"
   ]
  },
  {
   "cell_type": "code",
   "execution_count": 319,
   "metadata": {},
   "outputs": [
    {
     "data": {
      "text/plain": [
       "<matplotlib.axes._subplots.AxesSubplot at 0x7fc95faa51d0>"
      ]
     },
     "execution_count": 319,
     "metadata": {},
     "output_type": "execute_result"
    },
    {
     "data": {
      "image/png": "[encoded data removed]",
      "text/plain": [
       "<Figure size 1152x576 with 1 Axes>"
      ]
     },
     "metadata": {
      "needs_background": "light"
     },
     "output_type": "display_data"
    }
   ],
   "source": [
    "#саггрегируем в таблицу суммарные продажи по платформама и годам выпуска\n",
    "platforms_sales_agg = data_games.pivot_table(index=['platform', 'year_of_release'], values='total_sales', aggfunc='sum')\n",
    "#выделим топ-10 платформ\n",
    "top_platforms_by_sales = data_games.groupby('platform')['total_sales'].sum().sort_values(ascending=False).head(18)\n",
    "#сохраним в список топ-18 платформ\n",
    "top_platforms = top_platforms_by_sales.index.to_list()\n",
    "#отфильтруем данные по топ-10 платформам через список и построим график\n",
    "platforms_sales_agg = platforms_sales_agg.loc[platforms_sales_agg.index.isin(top_platforms, level=0)]\n",
    "platforms_sales_agg.unstack(level=0).plot(figsize=(16, 8)) "
   ]
  },
  {
   "cell_type": "markdown",
   "metadata": {},
   "source": [
    "Как можно видеть из графика:\n",
    "- Самой стабильной платформой для продаж игр является персональный компьютер (pc).\n",
    "- Срок \"жизни\" же остальных платформ составляет около 6 лет. \n",
    "\n"
   ]
  },
  {
   "cell_type": "markdown",
   "metadata": {
    "scrolled": true
   },
   "source": [
    "#### 3.3 Определение актуального периода. Основной фактор — эти данные помогут построить прогноз на 2017 год"
   ]
  },
  {
   "cell_type": "code",
   "execution_count": 320,
   "metadata": {},
   "outputs": [
    {
     "data": {
      "text/html": [
       "<div>\n",
       "<style scoped>\n",
       "    .dataframe tbody tr th:only-of-type {\n",
       "        vertical-align: middle;\n",
       "    }\n",
       "\n",
       "    .dataframe tbody tr th {\n",
       "        vertical-align: top;\n",
       "    }\n",
       "\n",
       "    .dataframe thead th {\n",
       "        text-align: right;\n",
       "    }\n",
       "</style>\n",
       "<table border=\"1\" class=\"dataframe\">\n",
       "  <thead>\n",
       "    <tr style=\"text-align: right;\">\n",
       "      <th></th>\n",
       "      <th>name</th>\n",
       "      <th>platform</th>\n",
       "      <th>year_of_release</th>\n",
       "      <th>genre</th>\n",
       "      <th>na_sales</th>\n",
       "      <th>eu_sales</th>\n",
       "      <th>jp_sales</th>\n",
       "      <th>other_sales</th>\n",
       "      <th>critic_score</th>\n",
       "      <th>user_score</th>\n",
       "      <th>rating</th>\n",
       "      <th>total_sales</th>\n",
       "    </tr>\n",
       "  </thead>\n",
       "  <tbody>\n",
       "    <tr>\n",
       "      <td>0</td>\n",
       "      <td>wii sports</td>\n",
       "      <td>wii</td>\n",
       "      <td>2006-01-01</td>\n",
       "      <td>sports</td>\n",
       "      <td>41.36</td>\n",
       "      <td>28.96</td>\n",
       "      <td>3.77</td>\n",
       "      <td>8.45</td>\n",
       "      <td>76.0</td>\n",
       "      <td>8.0</td>\n",
       "      <td>E</td>\n",
       "      <td>82.54</td>\n",
       "    </tr>\n",
       "    <tr>\n",
       "      <td>2</td>\n",
       "      <td>mario kart wii</td>\n",
       "      <td>wii</td>\n",
       "      <td>2008-01-01</td>\n",
       "      <td>racing</td>\n",
       "      <td>15.68</td>\n",
       "      <td>12.76</td>\n",
       "      <td>3.79</td>\n",
       "      <td>3.29</td>\n",
       "      <td>82.0</td>\n",
       "      <td>8.3</td>\n",
       "      <td>E</td>\n",
       "      <td>35.52</td>\n",
       "    </tr>\n",
       "    <tr>\n",
       "      <td>3</td>\n",
       "      <td>wii sports resort</td>\n",
       "      <td>wii</td>\n",
       "      <td>2009-01-01</td>\n",
       "      <td>sports</td>\n",
       "      <td>15.61</td>\n",
       "      <td>10.93</td>\n",
       "      <td>3.28</td>\n",
       "      <td>2.95</td>\n",
       "      <td>80.0</td>\n",
       "      <td>8.0</td>\n",
       "      <td>E</td>\n",
       "      <td>32.77</td>\n",
       "    </tr>\n",
       "    <tr>\n",
       "      <td>6</td>\n",
       "      <td>new super mario bros.</td>\n",
       "      <td>ds</td>\n",
       "      <td>2006-01-01</td>\n",
       "      <td>platform</td>\n",
       "      <td>11.28</td>\n",
       "      <td>9.14</td>\n",
       "      <td>6.50</td>\n",
       "      <td>2.88</td>\n",
       "      <td>89.0</td>\n",
       "      <td>8.5</td>\n",
       "      <td>E</td>\n",
       "      <td>29.80</td>\n",
       "    </tr>\n",
       "    <tr>\n",
       "      <td>7</td>\n",
       "      <td>wii play</td>\n",
       "      <td>wii</td>\n",
       "      <td>2006-01-01</td>\n",
       "      <td>misc</td>\n",
       "      <td>13.96</td>\n",
       "      <td>9.18</td>\n",
       "      <td>2.93</td>\n",
       "      <td>2.84</td>\n",
       "      <td>58.0</td>\n",
       "      <td>6.6</td>\n",
       "      <td>E</td>\n",
       "      <td>28.91</td>\n",
       "    </tr>\n",
       "    <tr>\n",
       "      <td>...</td>\n",
       "      <td>...</td>\n",
       "      <td>...</td>\n",
       "      <td>...</td>\n",
       "      <td>...</td>\n",
       "      <td>...</td>\n",
       "      <td>...</td>\n",
       "      <td>...</td>\n",
       "      <td>...</td>\n",
       "      <td>...</td>\n",
       "      <td>...</td>\n",
       "      <td>...</td>\n",
       "      <td>...</td>\n",
       "    </tr>\n",
       "    <tr>\n",
       "      <td>16709</td>\n",
       "      <td>score international baja 1000: the official game</td>\n",
       "      <td>ps2</td>\n",
       "      <td>2008-01-01</td>\n",
       "      <td>racing</td>\n",
       "      <td>0.00</td>\n",
       "      <td>0.00</td>\n",
       "      <td>0.00</td>\n",
       "      <td>0.00</td>\n",
       "      <td>NaN</td>\n",
       "      <td>NaN</td>\n",
       "      <td>NaN</td>\n",
       "      <td>0.00</td>\n",
       "    </tr>\n",
       "    <tr>\n",
       "      <td>16710</td>\n",
       "      <td>samurai warriors: sanada maru</td>\n",
       "      <td>ps3</td>\n",
       "      <td>2016-01-01</td>\n",
       "      <td>action</td>\n",
       "      <td>0.00</td>\n",
       "      <td>0.00</td>\n",
       "      <td>0.01</td>\n",
       "      <td>0.00</td>\n",
       "      <td>NaN</td>\n",
       "      <td>NaN</td>\n",
       "      <td>NaN</td>\n",
       "      <td>0.01</td>\n",
       "    </tr>\n",
       "    <tr>\n",
       "      <td>16711</td>\n",
       "      <td>lma manager 2007</td>\n",
       "      <td>x360</td>\n",
       "      <td>2006-01-01</td>\n",
       "      <td>sports</td>\n",
       "      <td>0.00</td>\n",
       "      <td>0.01</td>\n",
       "      <td>0.00</td>\n",
       "      <td>0.00</td>\n",
       "      <td>NaN</td>\n",
       "      <td>NaN</td>\n",
       "      <td>NaN</td>\n",
       "      <td>0.01</td>\n",
       "    </tr>\n",
       "    <tr>\n",
       "      <td>16712</td>\n",
       "      <td>haitaka no psychedelica</td>\n",
       "      <td>psv</td>\n",
       "      <td>2016-01-01</td>\n",
       "      <td>adventure</td>\n",
       "      <td>0.00</td>\n",
       "      <td>0.00</td>\n",
       "      <td>0.01</td>\n",
       "      <td>0.00</td>\n",
       "      <td>NaN</td>\n",
       "      <td>NaN</td>\n",
       "      <td>NaN</td>\n",
       "      <td>0.01</td>\n",
       "    </tr>\n",
       "    <tr>\n",
       "      <td>16714</td>\n",
       "      <td>winning post 8 2016</td>\n",
       "      <td>psv</td>\n",
       "      <td>2016-01-01</td>\n",
       "      <td>simulation</td>\n",
       "      <td>0.00</td>\n",
       "      <td>0.00</td>\n",
       "      <td>0.01</td>\n",
       "      <td>0.00</td>\n",
       "      <td>NaN</td>\n",
       "      <td>NaN</td>\n",
       "      <td>NaN</td>\n",
       "      <td>0.01</td>\n",
       "    </tr>\n",
       "  </tbody>\n",
       "</table>\n",
       "<p>10333 rows × 12 columns</p>\n",
       "</div>"
      ],
      "text/plain": [
       "                                                   name platform  \\\n",
       "0                                            wii sports      wii   \n",
       "2                                        mario kart wii      wii   \n",
       "3                                     wii sports resort      wii   \n",
       "6                                 new super mario bros.       ds   \n",
       "7                                              wii play      wii   \n",
       "...                                                 ...      ...   \n",
       "16709  score international baja 1000: the official game      ps2   \n",
       "16710                     samurai warriors: sanada maru      ps3   \n",
       "16711                                  lma manager 2007     x360   \n",
       "16712                           haitaka no psychedelica      psv   \n",
       "16714                               winning post 8 2016      psv   \n",
       "\n",
       "      year_of_release       genre  na_sales  eu_sales  jp_sales  other_sales  \\\n",
       "0          2006-01-01      sports     41.36     28.96      3.77         8.45   \n",
       "2          2008-01-01      racing     15.68     12.76      3.79         3.29   \n",
       "3          2009-01-01      sports     15.61     10.93      3.28         2.95   \n",
       "6          2006-01-01    platform     11.28      9.14      6.50         2.88   \n",
       "7          2006-01-01        misc     13.96      9.18      2.93         2.84   \n",
       "...               ...         ...       ...       ...       ...          ...   \n",
       "16709      2008-01-01      racing      0.00      0.00      0.00         0.00   \n",
       "16710      2016-01-01      action      0.00      0.00      0.01         0.00   \n",
       "16711      2006-01-01      sports      0.00      0.01      0.00         0.00   \n",
       "16712      2016-01-01   adventure      0.00      0.00      0.01         0.00   \n",
       "16714      2016-01-01  simulation      0.00      0.00      0.01         0.00   \n",
       "\n",
       "       critic_score  user_score rating  total_sales  \n",
       "0              76.0         8.0      E        82.54  \n",
       "2              82.0         8.3      E        35.52  \n",
       "3              80.0         8.0      E        32.77  \n",
       "6              89.0         8.5      E        29.80  \n",
       "7              58.0         6.6      E        28.91  \n",
       "...             ...         ...    ...          ...  \n",
       "16709           NaN         NaN    NaN         0.00  \n",
       "16710           NaN         NaN    NaN         0.01  \n",
       "16711           NaN         NaN    NaN         0.01  \n",
       "16712           NaN         NaN    NaN         0.01  \n",
       "16714           NaN         NaN    NaN         0.01  \n",
       "\n",
       "[10333 rows x 12 columns]"
      ]
     },
     "execution_count": 320,
     "metadata": {},
     "output_type": "execute_result"
    }
   ],
   "source": [
    "#в качестве актуального периода возьмем данные, начиная с 2006 г. \n",
    "#На этот год приходится пики продаж основных платформ, которые тем или иным образом \"дожили\" до 2016 г. - типичный срок. \n",
    "\n",
    "good_data = data_games.loc[data_games['year_of_release'] >= '2006-01-01']\n",
    "good_data"
   ]
  },
  {
   "cell_type": "markdown",
   "metadata": {},
   "source": [
    "#### 3.4 Какие платформы лидируют по продажам, растут или падают? \n",
    "- Выбрать несколько потенциально прибыльных платформ"
   ]
  },
  {
   "cell_type": "code",
   "execution_count": 321,
   "metadata": {},
   "outputs": [],
   "source": [
    "#выделим потенциально прибыльные платформы\n",
    "major_platforms_list = ['ps4', 'ps3', 'x360', 'pc', 'wii', 'ds', 'xone']\n",
    "good_data = good_data.loc[good_data['platform'].isin(major_platforms_list)]"
   ]
  },
  {
   "cell_type": "markdown",
   "metadata": {},
   "source": [
    "- По продажам лидируют ps3, x360, wii, xone.\n",
    "- К началу 2017 г. можно отметить общий тренд продажи на всех платформах.\n",
    "- Однако в целом по объемам продаж можно выделить следуюшие потенциально прибыльные платформы: ps4, ps3, x360, pc, wii, ds, xone\n",
    "\n"
   ]
  },
  {
   "cell_type": "markdown",
   "metadata": {},
   "source": [
    "#### 3.5 Построить график «ящик с усами» по глобальным продажам каждой игры и разбивкой по платформам. \n",
    "- Велика ли разница в продажах? А в средних продажах на разных платформах? Описать результат."
   ]
  },
  {
   "cell_type": "code",
   "execution_count": 322,
   "metadata": {},
   "outputs": [
    {
     "data": {
      "text/plain": [
       "<matplotlib.axes._subplots.AxesSubplot at 0x7fc960f571d0>"
      ]
     },
     "execution_count": 322,
     "metadata": {},
     "output_type": "execute_result"
    },
    {
     "data": {
      "image/png": "[encoded data removed]",
      "text/plain": [
       "<Figure size 1440x576 with 1 Axes>"
      ]
     },
     "metadata": {
      "needs_background": "light"
     },
     "output_type": "display_data"
    }
   ],
   "source": [
    "#создадим сводную таблицу и сгруппируем глобальные продажи по играм на платформах\n",
    "\n",
    "major_platforms_sales = good_data.pivot_table(index=['platform', 'name'], values='total_sales', aggfunc='sum')\n",
    "major_platforms_sales.unstack(level=0).boxplot(figsize=(20, 8), showfliers=False) "
   ]
  },
  {
   "cell_type": "markdown",
   "metadata": {},
   "source": [
    "- Лидерами по \"выбросам\" и сборам в глобальных продажах являются платформы \"wii\" и \"x360\", \"ps3\", \"ps4\" и \"xone\".\n",
    "- На \"pc\" и \"ds\" продажи скромнее всего.\n",
    "- Равные средние показатели наблюдаются у пар \"x360\" и \"ps3\", а также у \"wii\" и \"ps4\". \n",
    "- \"Xone\" находится посередине между этими двумя парами.\n",
    "\n"
   ]
  },
  {
   "cell_type": "markdown",
   "metadata": {},
   "source": [
    "#### 3.6 Посмотреть, как влияют на продажи внутри одной популярной платформы отзывы пользователей и критиков. \n",
    "- Построить диаграмму рассеяния и посчитать корреляцию между отзывами и продажами. Сформулировать выводы.\n"
   ]
  },
  {
   "cell_type": "code",
   "execution_count": 323,
   "metadata": {},
   "outputs": [
    {
     "name": "stdout",
     "output_type": "stream",
     "text": [
      "Коэффициент корреляции критических отзывов и продаж: 0.4327589578997135\n",
      "Коэффициент корреляции оценок пользователей и продаж: 0.12841562938563028\n"
     ]
    },
    {
     "data": {
      "image/png": "[encoded data removed]",
      "text/plain": [
       "<Figure size 432x288 with 1 Axes>"
      ]
     },
     "metadata": {
      "needs_background": "light"
     },
     "output_type": "display_data"
    },
    {
     "data": {
      "text/plain": [
       "<matplotlib.axes._subplots.AxesSubplot at 0x7fc962192190>"
      ]
     },
     "execution_count": 323,
     "metadata": {},
     "output_type": "execute_result"
    },
    {
     "data": {
      "image/png": "[encoded data removed]",
      "text/plain": [
       "<Figure size 432x288 with 1 Axes>"
      ]
     },
     "metadata": {
      "needs_background": "light"
     },
     "output_type": "display_data"
    }
   ],
   "source": [
    "#в качестве примера возьмем платформу ps3\n",
    "print('Коэффициент корреляции критических отзывов и продаж:', good_data.query('platform == \"ps3\"')['critic_score'].corr(good_data.query('platform == \"ps3\"')['total_sales']))\n",
    "print('Коэффициент корреляции оценок пользователей и продаж:', good_data.query('platform == \"ps3\"')['user_score'].corr(good_data.query('platform == \"ps3\"')['total_sales']))\n",
    "good_data.query('platform == \"ps3\"').plot(x='critic_score', y='total_sales', kind='scatter', alpha=0.3)\n",
    "plt.show()\n",
    "good_data.query('platform == \"ps3\"').plot(x='user_score', y='total_sales', kind='scatter', alpha=0.3)\n"
   ]
  },
  {
   "cell_type": "markdown",
   "metadata": {},
   "source": [
    "- Коэффициэнт корреляции отзывов критиков и глобальных имеет на платформе ps3 положительное значение и составляет почти 0.43. Дастаточно устойчивая корреляция по сравнению с отзывами пользователей (0.11) - то есть корреляция выше в 4 раза.\n",
    "- Возможно, мнения критиков имеют определенное влияние на показатели продаж."
   ]
  },
  {
   "cell_type": "code",
   "execution_count": 324,
   "metadata": {},
   "outputs": [
    {
     "name": "stdout",
     "output_type": "stream",
     "text": [
      "Коэффициент корреляции критических отзывов и продаж: 0.1779072857759491\n",
      "Коэффициент корреляции оценок пользователей и продаж: 0.11283121360773772\n"
     ]
    },
    {
     "data": {
      "image/png": "[encoded data removed]",
      "text/plain": [
       "<Figure size 432x288 with 1 Axes>"
      ]
     },
     "metadata": {
      "needs_background": "light"
     },
     "output_type": "display_data"
    },
    {
     "data": {
      "text/plain": [
       "<matplotlib.axes._subplots.AxesSubplot at 0x7fc96794a090>"
      ]
     },
     "execution_count": 324,
     "metadata": {},
     "output_type": "execute_result"
    },
    {
     "data": {
      "image/png": "[encoded data removed]",
      "text/plain": [
       "<Figure size 432x288 with 1 Axes>"
      ]
     },
     "metadata": {
      "needs_background": "light"
     },
     "output_type": "display_data"
    }
   ],
   "source": [
    "#проверим корреляцию на платформе wii\n",
    "print('Коэффициент корреляции критических отзывов и продаж:', good_data.query('platform == \"wii\"')['critic_score'].corr(good_data.query('platform == \"wii\"')['total_sales']))\n",
    "print('Коэффициент корреляции оценок пользователей и продаж:', good_data.query('platform == \"wii\"')['user_score'].corr(good_data.query('platform == \"wii\"')['total_sales']))\n",
    "good_data.query('platform == \"wii\"').plot(x='critic_score', y='total_sales', kind='scatter', alpha=0.3)\n",
    "plt.show()\n",
    "good_data.query('platform == \"wii\"').plot(x='user_score', y='total_sales', kind='scatter', alpha=0.3)\n"
   ]
  },
  {
   "cell_type": "markdown",
   "metadata": {},
   "source": [
    "- На платформе wii отзывы критиков меньше влияют на продажи."
   ]
  },
  {
   "cell_type": "code",
   "execution_count": 325,
   "metadata": {},
   "outputs": [
    {
     "name": "stdout",
     "output_type": "stream",
     "text": [
      "Коэффициент корреляции критических отзывов и продаж: 0.2869193299236143\n",
      "Коэффициент корреляции оценок пользователей и продаж: -0.020555707172675495\n"
     ]
    },
    {
     "data": {
      "image/png": "[encoded data removed]",
      "text/plain": [
       "<Figure size 432x288 with 1 Axes>"
      ]
     },
     "metadata": {
      "needs_background": "light"
     },
     "output_type": "display_data"
    },
    {
     "data": {
      "text/plain": [
       "<matplotlib.axes._subplots.AxesSubplot at 0x7fc96745f410>"
      ]
     },
     "execution_count": 325,
     "metadata": {},
     "output_type": "execute_result"
    },
    {
     "data": {
      "image/png": "[encoded data removed]",
      "text/plain": [
       "<Figure size 432x288 with 1 Axes>"
      ]
     },
     "metadata": {
      "needs_background": "light"
     },
     "output_type": "display_data"
    }
   ],
   "source": [
    "#проверим корреляцию на платформе pc\n",
    "print('Коэффициент корреляции критических отзывов и продаж:', good_data.query('platform == \"pc\"')['critic_score'].corr(good_data.query('platform == \"pc\"')['total_sales']))\n",
    "print('Коэффициент корреляции оценок пользователей и продаж:', good_data.query('platform == \"pc\"')['user_score'].corr(good_data.query('platform == \"pc\"')['total_sales']))\n",
    "good_data.query('platform == \"pc\"').plot(x='critic_score', y='total_sales', kind='scatter', alpha=0.3)\n",
    "plt.show()\n",
    "good_data.query('platform == \"pc\"').plot(x='user_score', y='total_sales', kind='scatter', alpha=0.3)"
   ]
  },
  {
   "cell_type": "markdown",
   "metadata": {},
   "source": [
    "- На pc отзывы критиков и пользователей соотносятся с продажами совсем по-разному. У отзывов пользователей даже небольшая отрицательная корреляция с продажами.\n",
    "\n"
   ]
  },
  {
   "cell_type": "markdown",
   "metadata": {},
   "source": [
    "#### 3.7 Посмотреть на общее распределение игр по жанрам\n",
    "- Что можно сказать о самых прибыльных жанрах? Выделяются ли жанры с высокими и низкими продажами?"
   ]
  },
  {
   "cell_type": "code",
   "execution_count": 326,
   "metadata": {},
   "outputs": [
    {
     "data": {
      "text/plain": [
       "<matplotlib.axes._subplots.AxesSubplot at 0x7fc96203ad10>"
      ]
     },
     "execution_count": 326,
     "metadata": {},
     "output_type": "execute_result"
    },
    {
     "data": {
      "image/png": "[encoded data removed]",
      "text/plain": [
       "<Figure size 432x288 with 1 Axes>"
      ]
     },
     "metadata": {
      "needs_background": "light"
     },
     "output_type": "display_data"
    }
   ],
   "source": [
    "#посмотрим как распределены продажи по жанрам\n",
    "good_data.pivot_table(index='genre', values='total_sales', aggfunc='sum').sort_values(by='total_sales', ascending=False).plot(kind='bar')"
   ]
  },
  {
   "cell_type": "markdown",
   "metadata": {},
   "source": [
    "- Самыми прибыльными жанрами являются: action, shooter и sports.\n",
    "- Меньше всего разработчики игр зарабатывают на strategy, puzzle и adventure.\n",
    "\n"
   ]
  },
  {
   "cell_type": "markdown",
   "metadata": {},
   "source": [
    "### 4. Составить портрет пользователя каждого региона\n",
    "Определите для пользователя каждого региона (NA, EU, JP):\n",
    "- Самые популярные платформы (топ-5). Описать различия в долях продаж.\n",
    "- Самые популярные жанры (топ-5). Пояснить разницу.\n",
    "- Влияет ли рейтинг ESRB на продажи в отдельном регионе?"
   ]
  },
  {
   "cell_type": "markdown",
   "metadata": {},
   "source": [
    "#### Самые популярные платформы (топ-5)"
   ]
  },
  {
   "cell_type": "code",
   "execution_count": 327,
   "metadata": {},
   "outputs": [
    {
     "data": {
      "text/html": [
       "<div>\n",
       "<style scoped>\n",
       "    .dataframe tbody tr th:only-of-type {\n",
       "        vertical-align: middle;\n",
       "    }\n",
       "\n",
       "    .dataframe tbody tr th {\n",
       "        vertical-align: top;\n",
       "    }\n",
       "\n",
       "    .dataframe thead th {\n",
       "        text-align: right;\n",
       "    }\n",
       "</style>\n",
       "<table border=\"1\" class=\"dataframe\">\n",
       "  <thead>\n",
       "    <tr style=\"text-align: right;\">\n",
       "      <th></th>\n",
       "      <th>na_sales</th>\n",
       "      <th>total_sales</th>\n",
       "      <th>ratio</th>\n",
       "    </tr>\n",
       "    <tr>\n",
       "      <th>platform</th>\n",
       "      <th></th>\n",
       "      <th></th>\n",
       "      <th></th>\n",
       "    </tr>\n",
       "  </thead>\n",
       "  <tbody>\n",
       "    <tr>\n",
       "      <td>x360</td>\n",
       "      <td>588.84</td>\n",
       "      <td>952.99</td>\n",
       "      <td>0.617887</td>\n",
       "    </tr>\n",
       "    <tr>\n",
       "      <td>wii</td>\n",
       "      <td>486.87</td>\n",
       "      <td>891.18</td>\n",
       "      <td>0.546321</td>\n",
       "    </tr>\n",
       "    <tr>\n",
       "      <td>ps3</td>\n",
       "      <td>390.13</td>\n",
       "      <td>931.34</td>\n",
       "      <td>0.418891</td>\n",
       "    </tr>\n",
       "    <tr>\n",
       "      <td>ds</td>\n",
       "      <td>323.99</td>\n",
       "      <td>655.35</td>\n",
       "      <td>0.494377</td>\n",
       "    </tr>\n",
       "    <tr>\n",
       "      <td>ps4</td>\n",
       "      <td>108.74</td>\n",
       "      <td>314.14</td>\n",
       "      <td>0.346151</td>\n",
       "    </tr>\n",
       "  </tbody>\n",
       "</table>\n",
       "</div>"
      ],
      "text/plain": [
       "          na_sales  total_sales     ratio\n",
       "platform                                 \n",
       "x360        588.84       952.99  0.617887\n",
       "wii         486.87       891.18  0.546321\n",
       "ps3         390.13       931.34  0.418891\n",
       "ds          323.99       655.35  0.494377\n",
       "ps4         108.74       314.14  0.346151"
      ]
     },
     "execution_count": 327,
     "metadata": {},
     "output_type": "execute_result"
    }
   ],
   "source": [
    "#топ 5 платформ NA\n",
    "na_platform_ratio = good_data.pivot_table(index='platform', values=['na_sales', 'total_sales'], aggfunc='sum').sort_values(by='na_sales', ascending=False)\n",
    "na_platform_ratio = na_platform_ratio.nlargest(5, ['na_sales']) \n",
    "na_platform_ratio['ratio'] = na_platform_ratio['na_sales'] / na_platform_ratio['total_sales']\n",
    "na_platform_ratio"
   ]
  },
  {
   "cell_type": "code",
   "execution_count": 328,
   "metadata": {},
   "outputs": [
    {
     "data": {
      "text/html": [
       "<div>\n",
       "<style scoped>\n",
       "    .dataframe tbody tr th:only-of-type {\n",
       "        vertical-align: middle;\n",
       "    }\n",
       "\n",
       "    .dataframe tbody tr th {\n",
       "        vertical-align: top;\n",
       "    }\n",
       "\n",
       "    .dataframe thead th {\n",
       "        text-align: right;\n",
       "    }\n",
       "</style>\n",
       "<table border=\"1\" class=\"dataframe\">\n",
       "  <thead>\n",
       "    <tr style=\"text-align: right;\">\n",
       "      <th></th>\n",
       "      <th>eu_sales</th>\n",
       "      <th>total_sales</th>\n",
       "      <th>ratio</th>\n",
       "    </tr>\n",
       "    <tr>\n",
       "      <th>platform</th>\n",
       "      <th></th>\n",
       "      <th></th>\n",
       "      <th></th>\n",
       "    </tr>\n",
       "  </thead>\n",
       "  <tbody>\n",
       "    <tr>\n",
       "      <td>ps3</td>\n",
       "      <td>327.21</td>\n",
       "      <td>931.34</td>\n",
       "      <td>0.351332</td>\n",
       "    </tr>\n",
       "    <tr>\n",
       "      <td>x360</td>\n",
       "      <td>267.89</td>\n",
       "      <td>952.99</td>\n",
       "      <td>0.281105</td>\n",
       "    </tr>\n",
       "    <tr>\n",
       "      <td>wii</td>\n",
       "      <td>258.32</td>\n",
       "      <td>891.18</td>\n",
       "      <td>0.289863</td>\n",
       "    </tr>\n",
       "    <tr>\n",
       "      <td>ds</td>\n",
       "      <td>142.99</td>\n",
       "      <td>655.35</td>\n",
       "      <td>0.218189</td>\n",
       "    </tr>\n",
       "    <tr>\n",
       "      <td>ps4</td>\n",
       "      <td>141.09</td>\n",
       "      <td>314.14</td>\n",
       "      <td>0.449131</td>\n",
       "    </tr>\n",
       "  </tbody>\n",
       "</table>\n",
       "</div>"
      ],
      "text/plain": [
       "          eu_sales  total_sales     ratio\n",
       "platform                                 \n",
       "ps3         327.21       931.34  0.351332\n",
       "x360        267.89       952.99  0.281105\n",
       "wii         258.32       891.18  0.289863\n",
       "ds          142.99       655.35  0.218189\n",
       "ps4         141.09       314.14  0.449131"
      ]
     },
     "execution_count": 328,
     "metadata": {},
     "output_type": "execute_result"
    }
   ],
   "source": [
    "#топ 5 платформ EU\n",
    "eu_platform_ratio = good_data.pivot_table(index='platform', values=['eu_sales', 'total_sales'], aggfunc='sum').sort_values(by='eu_sales', ascending=False)\n",
    "eu_platform_ratio = eu_platform_ratio.nlargest(5, ['eu_sales']) \n",
    "eu_platform_ratio['ratio'] = eu_platform_ratio['eu_sales'] / eu_platform_ratio['total_sales']\n",
    "eu_platform_ratio"
   ]
  },
  {
   "cell_type": "code",
   "execution_count": 329,
   "metadata": {},
   "outputs": [
    {
     "data": {
      "text/html": [
       "<div>\n",
       "<style scoped>\n",
       "    .dataframe tbody tr th:only-of-type {\n",
       "        vertical-align: middle;\n",
       "    }\n",
       "\n",
       "    .dataframe tbody tr th {\n",
       "        vertical-align: top;\n",
       "    }\n",
       "\n",
       "    .dataframe thead th {\n",
       "        text-align: right;\n",
       "    }\n",
       "</style>\n",
       "<table border=\"1\" class=\"dataframe\">\n",
       "  <thead>\n",
       "    <tr style=\"text-align: right;\">\n",
       "      <th></th>\n",
       "      <th>jp_sales</th>\n",
       "      <th>total_sales</th>\n",
       "      <th>ratio</th>\n",
       "    </tr>\n",
       "    <tr>\n",
       "      <th>platform</th>\n",
       "      <th></th>\n",
       "      <th></th>\n",
       "      <th></th>\n",
       "    </tr>\n",
       "  </thead>\n",
       "  <tbody>\n",
       "    <tr>\n",
       "      <td>ds</td>\n",
       "      <td>141.49</td>\n",
       "      <td>655.35</td>\n",
       "      <td>0.215900</td>\n",
       "    </tr>\n",
       "    <tr>\n",
       "      <td>ps3</td>\n",
       "      <td>79.41</td>\n",
       "      <td>931.34</td>\n",
       "      <td>0.085264</td>\n",
       "    </tr>\n",
       "    <tr>\n",
       "      <td>wii</td>\n",
       "      <td>68.28</td>\n",
       "      <td>891.18</td>\n",
       "      <td>0.076618</td>\n",
       "    </tr>\n",
       "    <tr>\n",
       "      <td>ps4</td>\n",
       "      <td>15.96</td>\n",
       "      <td>314.14</td>\n",
       "      <td>0.050805</td>\n",
       "    </tr>\n",
       "    <tr>\n",
       "      <td>x360</td>\n",
       "      <td>12.02</td>\n",
       "      <td>952.99</td>\n",
       "      <td>0.012613</td>\n",
       "    </tr>\n",
       "  </tbody>\n",
       "</table>\n",
       "</div>"
      ],
      "text/plain": [
       "          jp_sales  total_sales     ratio\n",
       "platform                                 \n",
       "ds          141.49       655.35  0.215900\n",
       "ps3          79.41       931.34  0.085264\n",
       "wii          68.28       891.18  0.076618\n",
       "ps4          15.96       314.14  0.050805\n",
       "x360         12.02       952.99  0.012613"
      ]
     },
     "execution_count": 329,
     "metadata": {},
     "output_type": "execute_result"
    }
   ],
   "source": [
    "#топ 5 платформ JP\n",
    "jp_platform_ratio = good_data.pivot_table(index='platform', values=['jp_sales', 'total_sales'], aggfunc='sum').sort_values(by='jp_sales', ascending=False)\n",
    "jp_platform_ratio = jp_platform_ratio.nlargest(5, ['jp_sales']) \n",
    "jp_platform_ratio['ratio'] = jp_platform_ratio['jp_sales'] / jp_platform_ratio['total_sales']\n",
    "jp_platform_ratio"
   ]
  },
  {
   "cell_type": "markdown",
   "metadata": {},
   "source": [
    "- Из анализа популярности платформ по регионам можно увидеть, что третье место везде делит платформа \"wii\". По отношению к глобальным продажам выше всего ее доля в Северной Америке, а ниже всего - в Японии.\n",
    "- Платформа \"x360\" популярнее всего в Северной Америке, и на нее же там приходится большая доля в глобальных продажах. В Европе данная платформа тоже очень популярна, однако уступает место ps 3.\n",
    "- PC имеет распространение только в Европе. В Северной Америке и Японии в основном играют только в консоли."
   ]
  },
  {
   "cell_type": "markdown",
   "metadata": {},
   "source": [
    "#### Самые популярные жанры (топ-5)"
   ]
  },
  {
   "cell_type": "code",
   "execution_count": 330,
   "metadata": {},
   "outputs": [
    {
     "data": {
      "text/html": [
       "<div>\n",
       "<style scoped>\n",
       "    .dataframe tbody tr th:only-of-type {\n",
       "        vertical-align: middle;\n",
       "    }\n",
       "\n",
       "    .dataframe tbody tr th {\n",
       "        vertical-align: top;\n",
       "    }\n",
       "\n",
       "    .dataframe thead th {\n",
       "        text-align: right;\n",
       "    }\n",
       "</style>\n",
       "<table border=\"1\" class=\"dataframe\">\n",
       "  <thead>\n",
       "    <tr style=\"text-align: right;\">\n",
       "      <th></th>\n",
       "      <th>na_sales</th>\n",
       "      <th>total_sales</th>\n",
       "      <th>ratio</th>\n",
       "    </tr>\n",
       "    <tr>\n",
       "      <th>genre</th>\n",
       "      <th></th>\n",
       "      <th></th>\n",
       "      <th></th>\n",
       "    </tr>\n",
       "  </thead>\n",
       "  <tbody>\n",
       "    <tr>\n",
       "      <td>action</td>\n",
       "      <td>445.38</td>\n",
       "      <td>906.14</td>\n",
       "      <td>0.491513</td>\n",
       "    </tr>\n",
       "    <tr>\n",
       "      <td>shooter</td>\n",
       "      <td>354.01</td>\n",
       "      <td>677.67</td>\n",
       "      <td>0.522393</td>\n",
       "    </tr>\n",
       "    <tr>\n",
       "      <td>sports</td>\n",
       "      <td>346.65</td>\n",
       "      <td>675.89</td>\n",
       "      <td>0.512879</td>\n",
       "    </tr>\n",
       "    <tr>\n",
       "      <td>misc</td>\n",
       "      <td>254.18</td>\n",
       "      <td>469.72</td>\n",
       "      <td>0.541131</td>\n",
       "    </tr>\n",
       "    <tr>\n",
       "      <td>role-playing</td>\n",
       "      <td>155.53</td>\n",
       "      <td>356.01</td>\n",
       "      <td>0.436870</td>\n",
       "    </tr>\n",
       "  </tbody>\n",
       "</table>\n",
       "</div>"
      ],
      "text/plain": [
       "              na_sales  total_sales     ratio\n",
       "genre                                        \n",
       "action          445.38       906.14  0.491513\n",
       "shooter         354.01       677.67  0.522393\n",
       "sports          346.65       675.89  0.512879\n",
       "misc            254.18       469.72  0.541131\n",
       "role-playing    155.53       356.01  0.436870"
      ]
     },
     "execution_count": 330,
     "metadata": {},
     "output_type": "execute_result"
    }
   ],
   "source": [
    "#топ 5 жанров NA\n",
    "na_genre_ratio = good_data.pivot_table(index='genre', values=['na_sales', 'total_sales'], aggfunc='sum').sort_values(by='na_sales', ascending=False)\n",
    "na_genre_ratio = na_genre_ratio.nlargest(5, ['na_sales']) \n",
    "na_genre_ratio['ratio'] = na_genre_ratio['na_sales'] / na_genre_ratio['total_sales']\n",
    "na_genre_ratio\n"
   ]
  },
  {
   "cell_type": "code",
   "execution_count": 331,
   "metadata": {},
   "outputs": [
    {
     "data": {
      "text/html": [
       "<div>\n",
       "<style scoped>\n",
       "    .dataframe tbody tr th:only-of-type {\n",
       "        vertical-align: middle;\n",
       "    }\n",
       "\n",
       "    .dataframe tbody tr th {\n",
       "        vertical-align: top;\n",
       "    }\n",
       "\n",
       "    .dataframe thead th {\n",
       "        text-align: right;\n",
       "    }\n",
       "</style>\n",
       "<table border=\"1\" class=\"dataframe\">\n",
       "  <thead>\n",
       "    <tr style=\"text-align: right;\">\n",
       "      <th></th>\n",
       "      <th>eu_sales</th>\n",
       "      <th>total_sales</th>\n",
       "      <th>ratio</th>\n",
       "    </tr>\n",
       "    <tr>\n",
       "      <th>genre</th>\n",
       "      <th></th>\n",
       "      <th></th>\n",
       "      <th></th>\n",
       "    </tr>\n",
       "  </thead>\n",
       "  <tbody>\n",
       "    <tr>\n",
       "      <td>action</td>\n",
       "      <td>302.46</td>\n",
       "      <td>906.14</td>\n",
       "      <td>0.333789</td>\n",
       "    </tr>\n",
       "    <tr>\n",
       "      <td>shooter</td>\n",
       "      <td>228.93</td>\n",
       "      <td>677.67</td>\n",
       "      <td>0.337819</td>\n",
       "    </tr>\n",
       "    <tr>\n",
       "      <td>sports</td>\n",
       "      <td>225.48</td>\n",
       "      <td>675.89</td>\n",
       "      <td>0.333605</td>\n",
       "    </tr>\n",
       "    <tr>\n",
       "      <td>misc</td>\n",
       "      <td>127.38</td>\n",
       "      <td>469.72</td>\n",
       "      <td>0.271183</td>\n",
       "    </tr>\n",
       "    <tr>\n",
       "      <td>racing</td>\n",
       "      <td>92.91</td>\n",
       "      <td>231.05</td>\n",
       "      <td>0.402121</td>\n",
       "    </tr>\n",
       "  </tbody>\n",
       "</table>\n",
       "</div>"
      ],
      "text/plain": [
       "         eu_sales  total_sales     ratio\n",
       "genre                                   \n",
       "action     302.46       906.14  0.333789\n",
       "shooter    228.93       677.67  0.337819\n",
       "sports     225.48       675.89  0.333605\n",
       "misc       127.38       469.72  0.271183\n",
       "racing      92.91       231.05  0.402121"
      ]
     },
     "execution_count": 331,
     "metadata": {},
     "output_type": "execute_result"
    }
   ],
   "source": [
    "#топ 5 жанров EU\n",
    "eu_genre_ratio = good_data.pivot_table(index='genre', values=['eu_sales', 'total_sales'], aggfunc='sum').sort_values(by='eu_sales', ascending=False)\n",
    "eu_genre_ratio = eu_genre_ratio.nlargest(5, ['eu_sales']) \n",
    "eu_genre_ratio['ratio'] = eu_genre_ratio['eu_sales'] / eu_genre_ratio['total_sales']\n",
    "eu_genre_ratio"
   ]
  },
  {
   "cell_type": "code",
   "execution_count": 332,
   "metadata": {},
   "outputs": [
    {
     "data": {
      "text/html": [
       "<div>\n",
       "<style scoped>\n",
       "    .dataframe tbody tr th:only-of-type {\n",
       "        vertical-align: middle;\n",
       "    }\n",
       "\n",
       "    .dataframe tbody tr th {\n",
       "        vertical-align: top;\n",
       "    }\n",
       "\n",
       "    .dataframe thead th {\n",
       "        text-align: right;\n",
       "    }\n",
       "</style>\n",
       "<table border=\"1\" class=\"dataframe\">\n",
       "  <thead>\n",
       "    <tr style=\"text-align: right;\">\n",
       "      <th></th>\n",
       "      <th>jp_sales</th>\n",
       "      <th>total_sales</th>\n",
       "      <th>ratio</th>\n",
       "    </tr>\n",
       "    <tr>\n",
       "      <th>genre</th>\n",
       "      <th></th>\n",
       "      <th></th>\n",
       "      <th></th>\n",
       "    </tr>\n",
       "  </thead>\n",
       "  <tbody>\n",
       "    <tr>\n",
       "      <td>role-playing</td>\n",
       "      <td>81.24</td>\n",
       "      <td>356.01</td>\n",
       "      <td>0.228196</td>\n",
       "    </tr>\n",
       "    <tr>\n",
       "      <td>action</td>\n",
       "      <td>54.43</td>\n",
       "      <td>906.14</td>\n",
       "      <td>0.060068</td>\n",
       "    </tr>\n",
       "    <tr>\n",
       "      <td>misc</td>\n",
       "      <td>46.88</td>\n",
       "      <td>469.72</td>\n",
       "      <td>0.099804</td>\n",
       "    </tr>\n",
       "    <tr>\n",
       "      <td>sports</td>\n",
       "      <td>32.88</td>\n",
       "      <td>675.89</td>\n",
       "      <td>0.048647</td>\n",
       "    </tr>\n",
       "    <tr>\n",
       "      <td>platform</td>\n",
       "      <td>24.40</td>\n",
       "      <td>196.90</td>\n",
       "      <td>0.123921</td>\n",
       "    </tr>\n",
       "  </tbody>\n",
       "</table>\n",
       "</div>"
      ],
      "text/plain": [
       "              jp_sales  total_sales     ratio\n",
       "genre                                        \n",
       "role-playing     81.24       356.01  0.228196\n",
       "action           54.43       906.14  0.060068\n",
       "misc             46.88       469.72  0.099804\n",
       "sports           32.88       675.89  0.048647\n",
       "platform         24.40       196.90  0.123921"
      ]
     },
     "execution_count": 332,
     "metadata": {},
     "output_type": "execute_result"
    }
   ],
   "source": [
    "#топ 5 жанров JP\n",
    "jp_genre_ratio = good_data.pivot_table(index='genre', values=['jp_sales', 'total_sales'], aggfunc='sum').sort_values(by='jp_sales', ascending=False)\n",
    "jp_genre_ratio = jp_genre_ratio.nlargest(5, ['jp_sales']) \n",
    "jp_genre_ratio['ratio'] = jp_genre_ratio['jp_sales'] / jp_genre_ratio['total_sales']\n",
    "jp_genre_ratio\n"
   ]
  },
  {
   "cell_type": "markdown",
   "metadata": {},
   "source": [
    "- В Америке и Европе по убывания одинаково идут action, shooter, sports и misc. Но в Америке для всех этих жанров доля в глобальных продажах выше.\n",
    "- Европа опять отличилась своим уникальным жанром - racing. В Америке и Японии он не входит в топ-5.\n",
    "- В Японии на первом месте жанр ролевых игр, который в Америке занимает последее место (а в Европе его нет в топ-5)."
   ]
  },
  {
   "cell_type": "markdown",
   "metadata": {},
   "source": [
    "#### Влияет ли рейтинг ESRB на продажи в отдельном регионе?"
   ]
  },
  {
   "cell_type": "code",
   "execution_count": 333,
   "metadata": {},
   "outputs": [
    {
     "data": {
      "image/png": "[encoded data removed]",
      "text/plain": [
       "<Figure size 432x288 with 1 Axes>"
      ]
     },
     "metadata": {},
     "output_type": "display_data"
    },
    {
     "data": {
      "image/png": "[encoded data removed]",
      "text/plain": [
       "<Figure size 432x288 with 1 Axes>"
      ]
     },
     "metadata": {},
     "output_type": "display_data"
    },
    {
     "data": {
      "text/plain": [
       "<matplotlib.axes._subplots.AxesSubplot at 0x7fc961f34490>"
      ]
     },
     "execution_count": 333,
     "metadata": {},
     "output_type": "execute_result"
    },
    {
     "data": {
      "image/png": "[encoded data removed]",
      "text/plain": [
       "<Figure size 432x288 with 1 Axes>"
      ]
     },
     "metadata": {},
     "output_type": "display_data"
    }
   ],
   "source": [
    "\n",
    "plt.show()\n",
    "good_data.groupby('rating')['na_sales'].mean().plot(kind='pie', legend='na')\n",
    "plt.show()\n",
    "good_data.groupby('rating')['eu_sales'].mean().plot(kind='pie', legend='eu')\n",
    "plt.show()\n",
    "good_data.groupby('rating')['jp_sales'].mean().plot(kind='pie', legend='jp')"
   ]
  },
  {
   "cell_type": "markdown",
   "metadata": {},
   "source": [
    "- Во всех регионах выше всего продажи игр с рейтингом \"М\" - для взрослых.\n",
    "- В Японии популярны игры для подростков от 13 лет (\"Т\").\n",
    "- В Америке, в отличие от остальных регионов, в ходу игры для детей раннего возраста (\"EC\").\n",
    "\n",
    "\n"
   ]
  },
  {
   "cell_type": "markdown",
   "metadata": {},
   "source": [
    "### 5. Проверить гипотезы\n",
    "- Средние пользовательские рейтинги платформ Xbox One и PC одинаковые;\n",
    "- Средние пользовательские рейтинги жанров Action (англ. «действие», экшен-игры) и Sports (англ. «спортивные соревнования») разные."
   ]
  },
  {
   "cell_type": "markdown",
   "metadata": {},
   "source": [
    "#### 5.1 Средние пользовательские рейтинги платформ Xbox One и PC одинаковые?\n",
    "Для проверки гипотез проверим тест Стьюдента.\n",
    "- Нулевая гипотеза: \"Средние пользовательские рейтинги платформ Xbox One и PC равны\".\n",
    "- Альтернативная гипотеза: \"Средние пользовательские рейтинги платформ Xbox One и PC различаются\"."
   ]
  },
  {
   "cell_type": "code",
   "execution_count": 334,
   "metadata": {},
   "outputs": [
    {
     "name": "stdout",
     "output_type": "stream",
     "text": [
      "Дисперсия пользовательсеого рейтинга Xone: 1.9069968429360695\n",
      "Дисперсия пользовательсеого рейтинга PC: 2.3231900019831713\n",
      "p-значение: 3.442937492775816e-06\n",
      "Отвергаем нулевую гипотезу\n"
     ]
    }
   ],
   "source": [
    "#сохраним данные о пользовательских рейтингах в соответствующих переменных\n",
    "xbox_user_score = data_games.query('platform == \"xone\"')['user_score'].dropna()\n",
    "pc_user_score = data_games.query('platform == \"pc\"')['user_score'].dropna()\n",
    "\n",
    "#посмотрим дисперсии выборок\n",
    "print('Дисперсия пользовательсеого рейтинга Xone:', xbox_user_score.var())\n",
    "print('Дисперсия пользовательсеого рейтинга PC:', pc_user_score.var())\n",
    "\n",
    "alpha = 0.05 \n",
    "\n",
    "compare_scores = st.ttest_ind(xbox_user_score, pc_user_score, equal_var=False)\n",
    "\n",
    "print('p-значение:', compare_scores.pvalue)\n",
    "\n",
    "if (compare_scores.pvalue < alpha):\n",
    "    print(\"Отвергаем нулевую гипотезу\")\n",
    "else:\n",
    "    print(\"Не получилось отвергнуть нулевую гипотезу\")"
   ]
  },
  {
   "cell_type": "markdown",
   "metadata": {},
   "source": [
    "- Как видим, значение p-value крайне мало. Следовательно, вероятность близости средних генеральных совокупностей пользовательских оценок по их выборкам очень мала."
   ]
  },
  {
   "cell_type": "markdown",
   "metadata": {},
   "source": [
    "#### 5.2 Средние пользовательские рейтинги жанров Action и Sports разные?\n",
    "- Нулевая гипотеза: \"Средние пользовательские рейтинги жанров Action и Sports равны\".\n",
    "- Альтернативная гипотеза: \"Средние пользовательские рейтинги жанров Action и Sports различаются\"."
   ]
  },
  {
   "cell_type": "code",
   "execution_count": 335,
   "metadata": {},
   "outputs": [
    {
     "name": "stdout",
     "output_type": "stream",
     "text": [
      "Дисперсия пользовательского рейтинга жанра \"action\": 2.027493768262496\n",
      "Дисперсия пользовательского рейтинга жанра \"sports\": 2.623055812519272\n",
      "p-значение: 0.07370217419278534\n",
      "Не получилось отвергнуть нулевую гипотезу\n"
     ]
    }
   ],
   "source": [
    "#сохраним данные о пользовательских рейтингах в соответствующих переменных\n",
    "action_user_score = data_games.query('genre == \"action\"')['user_score'].dropna()\n",
    "sports_user_score = data_games.query('genre == \"sports\"')['user_score'].dropna()\n",
    "\n",
    "print('Дисперсия пользовательского рейтинга жанра \"action\":', action_user_score.var())\n",
    "print('Дисперсия пользовательского рейтинга жанра \"sports\":', sports_user_score.var())\n",
    "\n",
    "compare_scores_genres = st.ttest_ind(action_user_score, sports_user_score, equal_var=False)\n",
    "\n",
    "print('p-значение:', compare_scores_genres.pvalue)\n",
    "\n",
    "if (compare_scores_genres.pvalue < alpha):\n",
    "    print(\"Отвергаем нулевую гипотезу\")\n",
    "else:\n",
    "    print(\"Не получилось отвергнуть нулевую гипотезу\")"
   ]
  },
  {
   "cell_type": "markdown",
   "metadata": {},
   "source": [
    "- Высока вероятность того средние пользовательские рейтинги жанров Action и Sports равны.\n",
    "\n"
   ]
  },
  {
   "cell_type": "markdown",
   "metadata": {},
   "source": [
    "### Общие выводы\n",
    "\n",
    "#### Рынок платформ\n",
    "- По размеру рынка и объемам продаж лидируют следующие платформы:  ps3, x360 и wii. Однако по всем платформам наблюдаются нисходящие тренды. Новая консоль ps4 только входит на рынок и объемы продаж игр на ней еще не большие по сравнению с другими платформами.\n",
    "\n",
    "- Лидерами по \"выбросам\" и сборам в глобальных продажах являются платформы \"wii\" и \"x360\" и \"ps3\". На \"pc\" продажи продажи скромнее всего, но это самая стабильная платформа. Средние же показатели по продажам не почти не отличаются на различных платформах.\n",
    "\n",
    "#### Влияние рейтингов и отзывов\n",
    "\n",
    "- Хорошие отзывы критиков, как правило, означают большой спрос на игры. Например, у ps3 коэффициент корреляции критических отзывов и продаж: 0.4337315172826896.\n",
    "- Оценки пользователей слабо коррелируют с объемами продаж, или даже может быть отрицательным (pc).\n",
    "\n",
    "#### Жанры\n",
    "- Самыми прибыльными жанрами являются: action, shooter и sports.\n",
    "- Меньше всего разработчики игр зарабатывают на strategy, puzzle и adventure.\n",
    "\n",
    "### Региональные особенности\n",
    "\n",
    "#### Виды платформ\n",
    "- Платформа \"x360\" популярнее всего в Северной Америке, и на нее же там приходится большая доля в глобальных продажах. В Европе данная платформа тоже очень популярна, однако уступает место ps 3.\n",
    "- PC имеет распространение только в Европе. В Северной Америке и Японии в основном играют только в консоли.\n",
    "- Третье место везде делит платформа \"wii\". По отношению к глобальным продажам выше всего ее доля в Северной Америке, а ниже всего - в Японии.\n",
    "\n",
    "#### Жанры\n",
    "\n",
    "- В Америке и Европе по убывания одинаково идут action, shooter, sports и misc. Но в Америке для всех этих жанров доля в глобальных продажах выше.\n",
    "- Европа опять отличилась своим уникальным жанром - racing. В Америке и Японии он не входит в топ-5.\n",
    "- В Японии на первом месте жанр ролевых игр, который в Америке занимает последее место (а в Европе его нет в топ-5).\n",
    "\n",
    "#### Рейтинги\n",
    "\n",
    "- Во всех регионах выше всего продажи игр с рейтингом \"М\" - для взрослых.\n",
    "- В Японии популярны игры для подростков от 13 лет (\"Т\").\n",
    "- В Америке, в отличие от остальных регионов, в ходу игры для детей раннего возраста (\"EC\").\n",
    "\n",
    "#### Выводы по гипотезам\n",
    "\n",
    "- Пользователи одинаково любят жанры Action и Sports.\n",
    "- Пользователи по-разному оценивают игры на PC и Xbox One.\n",
    "\n",
    "#### Успешными играми могут быть\n",
    "- На платфомах  ps3, x360 и wii, xone\n",
    "- В жанрах action, shooter, sports и misc, racing - для Европы и Северной Америки. Для Японии также - role playing.\n",
    "- С рейтингами М, EC.\n",
    "- С высокими оценками от критиков\n"
   ]
  }
 ],
 "metadata": {
  "kernelspec": {
   "display_name": "Python 3",
   "language": "python",
   "name": "python3"
  },
  "language_info": {
   "codemirror_mode": {
    "name": "ipython",
    "version": 3
   },
   "file_extension": ".py",
   "mimetype": "text/x-python",
   "name": "python",
   "nbconvert_exporter": "python",
   "pygments_lexer": "ipython3",
   "version": "3.7.6"
  }
 },
 "nbformat": 4,
 "nbformat_minor": 2
}
