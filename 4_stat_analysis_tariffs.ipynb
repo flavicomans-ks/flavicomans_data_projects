{
 "cells": [
  {
   "cell_type": "markdown",
   "metadata": {},
   "source": [
    "## Определение перспективного тарифа для телеком компании\n",
    "### Постановка задачи\n",
    "Необходимо проанализировать тарифы федерального оператора сотовой связи \"Мегалайн\". Клиентам предлагают два тарифных плана: «Смарт» и «Ультра». Чтобы скорректировать рекламный бюджет, коммерческий департамент хочет понять, какой тариф приносит больше денег.\n",
    "Необходимо произвести  предварительный анализ тарифов на небольшой выборке клиентов. В вашем распоряжении данные 500 пользователей «Мегалайна»: кто они, откуда, каким тарифом пользуются, сколько звонков и сообщений каждый отправил за 2018 год. Нужно проанализировать поведение клиентов и сделать вывод — какой тариф лучше."
   ]
  },
  {
   "cell_type": "markdown",
   "metadata": {},
   "source": [
    "### Описание данных\n",
    "В нашем распоряжении находятся пять таблиц.\n",
    "##### Таблица users (информация о пользователях):\n",
    "- user_id — уникальный идентификатор пользователя\n",
    "- first_name — имя пользователя\n",
    "- last_name — фамилия пользователя\n",
    "- age — возраст пользователя (годы)\n",
    "- reg_date — дата подключения тарифа (день, месяц, год)\n",
    "- churn_date — дата прекращения пользования тарифом (если значение пропущено, то тариф ещё действовал на момент выгрузки данных)\n",
    "- city — город проживания пользователя\n",
    "- tariff — название тарифного плана\n",
    "\n",
    "##### Таблица calls (информация о звонках):\n",
    "- id — уникальный номер звонка\n",
    "- call_date — дата звонка\n",
    "- duration — длительность звонка в минутах\n",
    "- user_id — идентификатор пользователя, сделавшего звонок\n",
    "\n",
    "##### Таблица messages (информация о сообщениях):\n",
    "- id — уникальный номер сообщения\n",
    "- message_date — дата сообщения\n",
    "- user_id — идентификатор пользователя, отправившего сообщение\n",
    "\n",
    "##### Таблица internet (информация об интернет-сессиях):\n",
    "- id — уникальный номер сессии\n",
    "- mb_used — объём потраченного за сессию интернет-трафика (в мегабайтах)\n",
    "- session_date — дата интернет-сессии\n",
    "- user_id — идентификатор пользователя\n",
    "\n",
    "##### Таблица tariffs (информация о тарифах):\n",
    "- tariff_name — название тарифа\n",
    "- rub_monthly_fee — ежемесячная абонентская плата в рублях\n",
    "- minutes_included — количество минут разговора в месяц, включённых в абонентскую плату\n",
    "- messages_included — количество сообщений в месяц, включённых в абонентскую плату\n",
    "- mb_per_month_included — объём интернет-трафика, включённого в абонентскую плату (в мегабайтах)\n",
    "- rub_per_minute — стоимость минуты разговора сверх тарифного пакета (например, если в тарифе 100 минут разговора в месяц, то со 101 минуты будет взиматься плата)\n",
    "- rub_per_message — стоимость отправки сообщения сверх тарифного пакета\n",
    "- rub_per_gb — стоимость дополнительного гигабайта интернет-трафика сверх тарифного пакета (1 гигабайт = 1024 мегабайта)"
   ]
  },
  {
   "cell_type": "markdown",
   "metadata": {},
   "source": [
    "### 1. Открыть файл с данными и изучить общую информацию"
   ]
  },
  {
   "cell_type": "code",
   "execution_count": 4,
   "metadata": {},
   "outputs": [],
   "source": [
    "import pandas as pd\n",
    "from IPython.display import display\n",
    "import numpy as np\n",
    "import matplotlib.pyplot as plt\n",
    "from scipy import stats as st\n",
    "import pylab as pl\n",
    "data_calls = pd.read_csv('calls.csv')\n",
    "data_internet = pd.read_csv('internet.csv')\n",
    "data_messages = pd.read_csv('messages.csv')\n",
    "data_tariffs = pd.read_csv('tariffs.csv')\n",
    "data_users = pd.read_csv('users.csv')"
   ]
  },
  {
   "cell_type": "code",
   "execution_count": 5,
   "metadata": {},
   "outputs": [
    {
     "name": "stdout",
     "output_type": "stream",
     "text": [
      "---Информация о звонках---\n"
     ]
    },
    {
     "data": {
      "text/html": [
       "<div>\n",
       "<style scoped>\n",
       "    .dataframe tbody tr th:only-of-type {\n",
       "        vertical-align: middle;\n",
       "    }\n",
       "\n",
       "    .dataframe tbody tr th {\n",
       "        vertical-align: top;\n",
       "    }\n",
       "\n",
       "    .dataframe thead th {\n",
       "        text-align: right;\n",
       "    }\n",
       "</style>\n",
       "<table border=\"1\" class=\"dataframe\">\n",
       "  <thead>\n",
       "    <tr style=\"text-align: right;\">\n",
       "      <th></th>\n",
       "      <th>id</th>\n",
       "      <th>call_date</th>\n",
       "      <th>duration</th>\n",
       "      <th>user_id</th>\n",
       "    </tr>\n",
       "  </thead>\n",
       "  <tbody>\n",
       "    <tr>\n",
       "      <th>0</th>\n",
       "      <td>1000_0</td>\n",
       "      <td>2018-07-25</td>\n",
       "      <td>0.00</td>\n",
       "      <td>1000</td>\n",
       "    </tr>\n",
       "    <tr>\n",
       "      <th>1</th>\n",
       "      <td>1000_1</td>\n",
       "      <td>2018-08-17</td>\n",
       "      <td>0.00</td>\n",
       "      <td>1000</td>\n",
       "    </tr>\n",
       "    <tr>\n",
       "      <th>2</th>\n",
       "      <td>1000_2</td>\n",
       "      <td>2018-06-11</td>\n",
       "      <td>2.85</td>\n",
       "      <td>1000</td>\n",
       "    </tr>\n",
       "    <tr>\n",
       "      <th>3</th>\n",
       "      <td>1000_3</td>\n",
       "      <td>2018-09-21</td>\n",
       "      <td>13.80</td>\n",
       "      <td>1000</td>\n",
       "    </tr>\n",
       "    <tr>\n",
       "      <th>4</th>\n",
       "      <td>1000_4</td>\n",
       "      <td>2018-12-15</td>\n",
       "      <td>5.18</td>\n",
       "      <td>1000</td>\n",
       "    </tr>\n",
       "    <tr>\n",
       "      <th>5</th>\n",
       "      <td>1000_5</td>\n",
       "      <td>2018-11-02</td>\n",
       "      <td>0.00</td>\n",
       "      <td>1000</td>\n",
       "    </tr>\n",
       "    <tr>\n",
       "      <th>6</th>\n",
       "      <td>1000_6</td>\n",
       "      <td>2018-10-18</td>\n",
       "      <td>0.00</td>\n",
       "      <td>1000</td>\n",
       "    </tr>\n",
       "    <tr>\n",
       "      <th>7</th>\n",
       "      <td>1000_7</td>\n",
       "      <td>2018-08-22</td>\n",
       "      <td>18.31</td>\n",
       "      <td>1000</td>\n",
       "    </tr>\n",
       "    <tr>\n",
       "      <th>8</th>\n",
       "      <td>1000_8</td>\n",
       "      <td>2018-09-15</td>\n",
       "      <td>18.44</td>\n",
       "      <td>1000</td>\n",
       "    </tr>\n",
       "    <tr>\n",
       "      <th>9</th>\n",
       "      <td>1000_9</td>\n",
       "      <td>2018-08-15</td>\n",
       "      <td>0.00</td>\n",
       "      <td>1000</td>\n",
       "    </tr>\n",
       "  </tbody>\n",
       "</table>\n",
       "</div>"
      ],
      "text/plain": [
       "       id   call_date  duration  user_id\n",
       "0  1000_0  2018-07-25      0.00     1000\n",
       "1  1000_1  2018-08-17      0.00     1000\n",
       "2  1000_2  2018-06-11      2.85     1000\n",
       "3  1000_3  2018-09-21     13.80     1000\n",
       "4  1000_4  2018-12-15      5.18     1000\n",
       "5  1000_5  2018-11-02      0.00     1000\n",
       "6  1000_6  2018-10-18      0.00     1000\n",
       "7  1000_7  2018-08-22     18.31     1000\n",
       "8  1000_8  2018-09-15     18.44     1000\n",
       "9  1000_9  2018-08-15      0.00     1000"
      ]
     },
     "metadata": {},
     "output_type": "display_data"
    },
    {
     "name": "stdout",
     "output_type": "stream",
     "text": [
      "<class 'pandas.core.frame.DataFrame'>\n",
      "RangeIndex: 202607 entries, 0 to 202606\n",
      "Data columns (total 4 columns):\n",
      " #   Column     Non-Null Count   Dtype  \n",
      "---  ------     --------------   -----  \n",
      " 0   id         202607 non-null  object \n",
      " 1   call_date  202607 non-null  object \n",
      " 2   duration   202607 non-null  float64\n",
      " 3   user_id    202607 non-null  int64  \n",
      "dtypes: float64(1), int64(1), object(2)\n",
      "memory usage: 6.2+ MB\n"
     ]
    },
    {
     "data": {
      "text/plain": [
       "id           39613\n",
       "call_date    39613\n",
       "duration     39613\n",
       "user_id      39613\n",
       "dtype: int64"
      ]
     },
     "execution_count": 5,
     "metadata": {},
     "output_type": "execute_result"
    }
   ],
   "source": [
    "print('---Информация о звонках---')\n",
    "display(data_calls.head(10))\n",
    "data_calls.info()\n",
    "data_calls.query('duration == 0').count()"
   ]
  },
  {
   "cell_type": "markdown",
   "metadata": {},
   "source": [
    "##### Вывод\n",
    "- Датасет с информацией о звонках состоит из 202607 строк и 5 колонок.\n",
    "- В колонках содержится иформация: уникальный id звонка, дата звонка, продолжительность звонка и id пользователя.\n",
    "- Пропуски отсутствут.\n",
    "- Тип данных в колонке с датой определен как object, что является неверным типом (необходимо привести к datetime).\n",
    "- В колонке о продолжительности звонков ('duration') наблюдаем большое количесво звонков (39613) с продолжительностью, равной 0. Потребуется проверка."
   ]
  },
  {
   "cell_type": "code",
   "execution_count": 6,
   "metadata": {},
   "outputs": [
    {
     "name": "stdout",
     "output_type": "stream",
     "text": [
      "\n",
      "---Информация об интернет-сессиях---\n"
     ]
    },
    {
     "data": {
      "text/html": [
       "<div>\n",
       "<style scoped>\n",
       "    .dataframe tbody tr th:only-of-type {\n",
       "        vertical-align: middle;\n",
       "    }\n",
       "\n",
       "    .dataframe tbody tr th {\n",
       "        vertical-align: top;\n",
       "    }\n",
       "\n",
       "    .dataframe thead th {\n",
       "        text-align: right;\n",
       "    }\n",
       "</style>\n",
       "<table border=\"1\" class=\"dataframe\">\n",
       "  <thead>\n",
       "    <tr style=\"text-align: right;\">\n",
       "      <th></th>\n",
       "      <th>Unnamed: 0</th>\n",
       "      <th>id</th>\n",
       "      <th>mb_used</th>\n",
       "      <th>session_date</th>\n",
       "      <th>user_id</th>\n",
       "    </tr>\n",
       "  </thead>\n",
       "  <tbody>\n",
       "    <tr>\n",
       "      <th>0</th>\n",
       "      <td>0</td>\n",
       "      <td>1000_0</td>\n",
       "      <td>112.95</td>\n",
       "      <td>2018-11-25</td>\n",
       "      <td>1000</td>\n",
       "    </tr>\n",
       "    <tr>\n",
       "      <th>1</th>\n",
       "      <td>1</td>\n",
       "      <td>1000_1</td>\n",
       "      <td>1052.81</td>\n",
       "      <td>2018-09-07</td>\n",
       "      <td>1000</td>\n",
       "    </tr>\n",
       "    <tr>\n",
       "      <th>2</th>\n",
       "      <td>2</td>\n",
       "      <td>1000_2</td>\n",
       "      <td>1197.26</td>\n",
       "      <td>2018-06-25</td>\n",
       "      <td>1000</td>\n",
       "    </tr>\n",
       "    <tr>\n",
       "      <th>3</th>\n",
       "      <td>3</td>\n",
       "      <td>1000_3</td>\n",
       "      <td>550.27</td>\n",
       "      <td>2018-08-22</td>\n",
       "      <td>1000</td>\n",
       "    </tr>\n",
       "    <tr>\n",
       "      <th>4</th>\n",
       "      <td>4</td>\n",
       "      <td>1000_4</td>\n",
       "      <td>302.56</td>\n",
       "      <td>2018-09-24</td>\n",
       "      <td>1000</td>\n",
       "    </tr>\n",
       "    <tr>\n",
       "      <th>5</th>\n",
       "      <td>5</td>\n",
       "      <td>1000_5</td>\n",
       "      <td>399.97</td>\n",
       "      <td>2018-10-02</td>\n",
       "      <td>1000</td>\n",
       "    </tr>\n",
       "    <tr>\n",
       "      <th>6</th>\n",
       "      <td>6</td>\n",
       "      <td>1000_6</td>\n",
       "      <td>540.08</td>\n",
       "      <td>2018-09-07</td>\n",
       "      <td>1000</td>\n",
       "    </tr>\n",
       "    <tr>\n",
       "      <th>7</th>\n",
       "      <td>7</td>\n",
       "      <td>1000_7</td>\n",
       "      <td>415.70</td>\n",
       "      <td>2018-07-11</td>\n",
       "      <td>1000</td>\n",
       "    </tr>\n",
       "    <tr>\n",
       "      <th>8</th>\n",
       "      <td>8</td>\n",
       "      <td>1000_8</td>\n",
       "      <td>505.40</td>\n",
       "      <td>2018-10-08</td>\n",
       "      <td>1000</td>\n",
       "    </tr>\n",
       "    <tr>\n",
       "      <th>9</th>\n",
       "      <td>9</td>\n",
       "      <td>1000_9</td>\n",
       "      <td>345.54</td>\n",
       "      <td>2018-09-03</td>\n",
       "      <td>1000</td>\n",
       "    </tr>\n",
       "  </tbody>\n",
       "</table>\n",
       "</div>"
      ],
      "text/plain": [
       "   Unnamed: 0      id  mb_used session_date  user_id\n",
       "0           0  1000_0   112.95   2018-11-25     1000\n",
       "1           1  1000_1  1052.81   2018-09-07     1000\n",
       "2           2  1000_2  1197.26   2018-06-25     1000\n",
       "3           3  1000_3   550.27   2018-08-22     1000\n",
       "4           4  1000_4   302.56   2018-09-24     1000\n",
       "5           5  1000_5   399.97   2018-10-02     1000\n",
       "6           6  1000_6   540.08   2018-09-07     1000\n",
       "7           7  1000_7   415.70   2018-07-11     1000\n",
       "8           8  1000_8   505.40   2018-10-08     1000\n",
       "9           9  1000_9   345.54   2018-09-03     1000"
      ]
     },
     "metadata": {},
     "output_type": "display_data"
    },
    {
     "name": "stdout",
     "output_type": "stream",
     "text": [
      "<class 'pandas.core.frame.DataFrame'>\n",
      "RangeIndex: 149396 entries, 0 to 149395\n",
      "Data columns (total 5 columns):\n",
      " #   Column        Non-Null Count   Dtype  \n",
      "---  ------        --------------   -----  \n",
      " 0   Unnamed: 0    149396 non-null  int64  \n",
      " 1   id            149396 non-null  object \n",
      " 2   mb_used       149396 non-null  float64\n",
      " 3   session_date  149396 non-null  object \n",
      " 4   user_id       149396 non-null  int64  \n",
      "dtypes: float64(1), int64(2), object(2)\n",
      "memory usage: 5.7+ MB\n"
     ]
    },
    {
     "data": {
      "text/plain": [
       "0              0\n",
       "1              1\n",
       "2              2\n",
       "3              3\n",
       "4              4\n",
       "           ...  \n",
       "149391    149391\n",
       "149392    149392\n",
       "149393    149393\n",
       "149394    149394\n",
       "149395    149395\n",
       "Name: Unnamed: 0, Length: 149396, dtype: int64"
      ]
     },
     "execution_count": 6,
     "metadata": {},
     "output_type": "execute_result"
    }
   ],
   "source": [
    "print()\n",
    "print('---Информация об интернет-сессиях---')\n",
    "display(data_internet.head(10))\n",
    "data_internet.info()\n",
    "data_internet['Unnamed: 0']"
   ]
  },
  {
   "cell_type": "markdown",
   "metadata": {},
   "source": [
    "##### Вывод\n",
    "- Датасет с информацией об Интернет-сессиях состоит из 149396 строк и 5 колонок.\n",
    "- Присутствует колонка 'Unnamed: 0', которая не содержит какой-либо качественной информации, помимо дублирования индекса. Похоже на ошибку в выгрузке данных. Данную колонку удалим.\n",
    "- Пропуски отсутствуют.\n",
    "- Колонка с датой неверно отражена по типу данных (как object).\n"
   ]
  },
  {
   "cell_type": "code",
   "execution_count": 7,
   "metadata": {},
   "outputs": [
    {
     "name": "stdout",
     "output_type": "stream",
     "text": [
      "---Информация о сообщениях---\n"
     ]
    },
    {
     "data": {
      "text/html": [
       "<div>\n",
       "<style scoped>\n",
       "    .dataframe tbody tr th:only-of-type {\n",
       "        vertical-align: middle;\n",
       "    }\n",
       "\n",
       "    .dataframe tbody tr th {\n",
       "        vertical-align: top;\n",
       "    }\n",
       "\n",
       "    .dataframe thead th {\n",
       "        text-align: right;\n",
       "    }\n",
       "</style>\n",
       "<table border=\"1\" class=\"dataframe\">\n",
       "  <thead>\n",
       "    <tr style=\"text-align: right;\">\n",
       "      <th></th>\n",
       "      <th>id</th>\n",
       "      <th>message_date</th>\n",
       "      <th>user_id</th>\n",
       "    </tr>\n",
       "  </thead>\n",
       "  <tbody>\n",
       "    <tr>\n",
       "      <th>0</th>\n",
       "      <td>1000_0</td>\n",
       "      <td>2018-06-27</td>\n",
       "      <td>1000</td>\n",
       "    </tr>\n",
       "    <tr>\n",
       "      <th>1</th>\n",
       "      <td>1000_1</td>\n",
       "      <td>2018-10-08</td>\n",
       "      <td>1000</td>\n",
       "    </tr>\n",
       "    <tr>\n",
       "      <th>2</th>\n",
       "      <td>1000_2</td>\n",
       "      <td>2018-08-04</td>\n",
       "      <td>1000</td>\n",
       "    </tr>\n",
       "    <tr>\n",
       "      <th>3</th>\n",
       "      <td>1000_3</td>\n",
       "      <td>2018-06-16</td>\n",
       "      <td>1000</td>\n",
       "    </tr>\n",
       "    <tr>\n",
       "      <th>4</th>\n",
       "      <td>1000_4</td>\n",
       "      <td>2018-12-05</td>\n",
       "      <td>1000</td>\n",
       "    </tr>\n",
       "    <tr>\n",
       "      <th>5</th>\n",
       "      <td>1000_5</td>\n",
       "      <td>2018-06-20</td>\n",
       "      <td>1000</td>\n",
       "    </tr>\n",
       "    <tr>\n",
       "      <th>6</th>\n",
       "      <td>1000_6</td>\n",
       "      <td>2018-11-19</td>\n",
       "      <td>1000</td>\n",
       "    </tr>\n",
       "    <tr>\n",
       "      <th>7</th>\n",
       "      <td>1000_7</td>\n",
       "      <td>2018-10-29</td>\n",
       "      <td>1000</td>\n",
       "    </tr>\n",
       "    <tr>\n",
       "      <th>8</th>\n",
       "      <td>1000_8</td>\n",
       "      <td>2018-06-25</td>\n",
       "      <td>1000</td>\n",
       "    </tr>\n",
       "    <tr>\n",
       "      <th>9</th>\n",
       "      <td>1000_9</td>\n",
       "      <td>2018-12-18</td>\n",
       "      <td>1000</td>\n",
       "    </tr>\n",
       "  </tbody>\n",
       "</table>\n",
       "</div>"
      ],
      "text/plain": [
       "       id message_date  user_id\n",
       "0  1000_0   2018-06-27     1000\n",
       "1  1000_1   2018-10-08     1000\n",
       "2  1000_2   2018-08-04     1000\n",
       "3  1000_3   2018-06-16     1000\n",
       "4  1000_4   2018-12-05     1000\n",
       "5  1000_5   2018-06-20     1000\n",
       "6  1000_6   2018-11-19     1000\n",
       "7  1000_7   2018-10-29     1000\n",
       "8  1000_8   2018-06-25     1000\n",
       "9  1000_9   2018-12-18     1000"
      ]
     },
     "metadata": {},
     "output_type": "display_data"
    },
    {
     "name": "stdout",
     "output_type": "stream",
     "text": [
      "<class 'pandas.core.frame.DataFrame'>\n",
      "RangeIndex: 123036 entries, 0 to 123035\n",
      "Data columns (total 3 columns):\n",
      " #   Column        Non-Null Count   Dtype \n",
      "---  ------        --------------   ----- \n",
      " 0   id            123036 non-null  object\n",
      " 1   message_date  123036 non-null  object\n",
      " 2   user_id       123036 non-null  int64 \n",
      "dtypes: int64(1), object(2)\n",
      "memory usage: 2.8+ MB\n"
     ]
    }
   ],
   "source": [
    "print('---Информация о сообщениях---')\n",
    "display(data_messages.head(10))\n",
    "data_messages.info()"
   ]
  },
  {
   "cell_type": "markdown",
   "metadata": {},
   "source": [
    "##### Вывод\n",
    "- Датафрейм с информацией о сообщениях состоит из 123036 строк и 3 колонок.\n",
    "- Пропуски отсутствуют.\n",
    "- Колонка с датой неверно отражена в качестве типа object.\n"
   ]
  },
  {
   "cell_type": "code",
   "execution_count": 8,
   "metadata": {},
   "outputs": [
    {
     "name": "stdout",
     "output_type": "stream",
     "text": [
      "---Информация о пользователях---\n"
     ]
    },
    {
     "data": {
      "text/html": [
       "<div>\n",
       "<style scoped>\n",
       "    .dataframe tbody tr th:only-of-type {\n",
       "        vertical-align: middle;\n",
       "    }\n",
       "\n",
       "    .dataframe tbody tr th {\n",
       "        vertical-align: top;\n",
       "    }\n",
       "\n",
       "    .dataframe thead th {\n",
       "        text-align: right;\n",
       "    }\n",
       "</style>\n",
       "<table border=\"1\" class=\"dataframe\">\n",
       "  <thead>\n",
       "    <tr style=\"text-align: right;\">\n",
       "      <th></th>\n",
       "      <th>user_id</th>\n",
       "      <th>age</th>\n",
       "      <th>churn_date</th>\n",
       "      <th>city</th>\n",
       "      <th>first_name</th>\n",
       "      <th>last_name</th>\n",
       "      <th>reg_date</th>\n",
       "      <th>tariff</th>\n",
       "    </tr>\n",
       "  </thead>\n",
       "  <tbody>\n",
       "    <tr>\n",
       "      <th>0</th>\n",
       "      <td>1000</td>\n",
       "      <td>52</td>\n",
       "      <td>NaN</td>\n",
       "      <td>Краснодар</td>\n",
       "      <td>Рафаил</td>\n",
       "      <td>Верещагин</td>\n",
       "      <td>2018-05-25</td>\n",
       "      <td>ultra</td>\n",
       "    </tr>\n",
       "    <tr>\n",
       "      <th>1</th>\n",
       "      <td>1001</td>\n",
       "      <td>41</td>\n",
       "      <td>NaN</td>\n",
       "      <td>Москва</td>\n",
       "      <td>Иван</td>\n",
       "      <td>Ежов</td>\n",
       "      <td>2018-11-01</td>\n",
       "      <td>smart</td>\n",
       "    </tr>\n",
       "    <tr>\n",
       "      <th>2</th>\n",
       "      <td>1002</td>\n",
       "      <td>59</td>\n",
       "      <td>NaN</td>\n",
       "      <td>Стерлитамак</td>\n",
       "      <td>Евгений</td>\n",
       "      <td>Абрамович</td>\n",
       "      <td>2018-06-17</td>\n",
       "      <td>smart</td>\n",
       "    </tr>\n",
       "    <tr>\n",
       "      <th>3</th>\n",
       "      <td>1003</td>\n",
       "      <td>23</td>\n",
       "      <td>NaN</td>\n",
       "      <td>Москва</td>\n",
       "      <td>Белла</td>\n",
       "      <td>Белякова</td>\n",
       "      <td>2018-08-17</td>\n",
       "      <td>ultra</td>\n",
       "    </tr>\n",
       "    <tr>\n",
       "      <th>4</th>\n",
       "      <td>1004</td>\n",
       "      <td>68</td>\n",
       "      <td>NaN</td>\n",
       "      <td>Новокузнецк</td>\n",
       "      <td>Татьяна</td>\n",
       "      <td>Авдеенко</td>\n",
       "      <td>2018-05-14</td>\n",
       "      <td>ultra</td>\n",
       "    </tr>\n",
       "    <tr>\n",
       "      <th>5</th>\n",
       "      <td>1005</td>\n",
       "      <td>67</td>\n",
       "      <td>NaN</td>\n",
       "      <td>Набережные Челны</td>\n",
       "      <td>Афанасий</td>\n",
       "      <td>Горлов</td>\n",
       "      <td>2018-01-25</td>\n",
       "      <td>smart</td>\n",
       "    </tr>\n",
       "    <tr>\n",
       "      <th>6</th>\n",
       "      <td>1006</td>\n",
       "      <td>21</td>\n",
       "      <td>NaN</td>\n",
       "      <td>Ульяновск</td>\n",
       "      <td>Леонид</td>\n",
       "      <td>Ермолаев</td>\n",
       "      <td>2018-02-26</td>\n",
       "      <td>smart</td>\n",
       "    </tr>\n",
       "    <tr>\n",
       "      <th>7</th>\n",
       "      <td>1007</td>\n",
       "      <td>65</td>\n",
       "      <td>NaN</td>\n",
       "      <td>Москва</td>\n",
       "      <td>Юна</td>\n",
       "      <td>Березина</td>\n",
       "      <td>2018-04-19</td>\n",
       "      <td>smart</td>\n",
       "    </tr>\n",
       "    <tr>\n",
       "      <th>8</th>\n",
       "      <td>1008</td>\n",
       "      <td>63</td>\n",
       "      <td>NaN</td>\n",
       "      <td>Челябинск</td>\n",
       "      <td>Рустэм</td>\n",
       "      <td>Пономарёв</td>\n",
       "      <td>2018-12-19</td>\n",
       "      <td>smart</td>\n",
       "    </tr>\n",
       "    <tr>\n",
       "      <th>9</th>\n",
       "      <td>1009</td>\n",
       "      <td>24</td>\n",
       "      <td>NaN</td>\n",
       "      <td>Пермь</td>\n",
       "      <td>Василиса</td>\n",
       "      <td>Блинова</td>\n",
       "      <td>2018-03-22</td>\n",
       "      <td>smart</td>\n",
       "    </tr>\n",
       "  </tbody>\n",
       "</table>\n",
       "</div>"
      ],
      "text/plain": [
       "   user_id  age churn_date              city first_name  last_name  \\\n",
       "0     1000   52        NaN         Краснодар     Рафаил  Верещагин   \n",
       "1     1001   41        NaN            Москва       Иван       Ежов   \n",
       "2     1002   59        NaN       Стерлитамак    Евгений  Абрамович   \n",
       "3     1003   23        NaN            Москва      Белла   Белякова   \n",
       "4     1004   68        NaN       Новокузнецк    Татьяна   Авдеенко   \n",
       "5     1005   67        NaN  Набережные Челны   Афанасий     Горлов   \n",
       "6     1006   21        NaN         Ульяновск     Леонид   Ермолаев   \n",
       "7     1007   65        NaN            Москва        Юна   Березина   \n",
       "8     1008   63        NaN         Челябинск     Рустэм  Пономарёв   \n",
       "9     1009   24        NaN             Пермь   Василиса    Блинова   \n",
       "\n",
       "     reg_date tariff  \n",
       "0  2018-05-25  ultra  \n",
       "1  2018-11-01  smart  \n",
       "2  2018-06-17  smart  \n",
       "3  2018-08-17  ultra  \n",
       "4  2018-05-14  ultra  \n",
       "5  2018-01-25  smart  \n",
       "6  2018-02-26  smart  \n",
       "7  2018-04-19  smart  \n",
       "8  2018-12-19  smart  \n",
       "9  2018-03-22  smart  "
      ]
     },
     "metadata": {},
     "output_type": "display_data"
    },
    {
     "name": "stdout",
     "output_type": "stream",
     "text": [
      "<class 'pandas.core.frame.DataFrame'>\n",
      "RangeIndex: 500 entries, 0 to 499\n",
      "Data columns (total 8 columns):\n",
      " #   Column      Non-Null Count  Dtype \n",
      "---  ------      --------------  ----- \n",
      " 0   user_id     500 non-null    int64 \n",
      " 1   age         500 non-null    int64 \n",
      " 2   churn_date  38 non-null     object\n",
      " 3   city        500 non-null    object\n",
      " 4   first_name  500 non-null    object\n",
      " 5   last_name   500 non-null    object\n",
      " 6   reg_date    500 non-null    object\n",
      " 7   tariff      500 non-null    object\n",
      "dtypes: int64(2), object(6)\n",
      "memory usage: 31.4+ KB\n"
     ]
    }
   ],
   "source": [
    "print('---Информация о пользователях---')\n",
    "display(data_users.head(10))\n",
    "data_users.info()"
   ]
  },
  {
   "cell_type": "markdown",
   "metadata": {},
   "source": [
    "##### Вывод\n",
    "- Датафрейм с информацией о пользователях состоит из 500 строк и 8 колонок.\n",
    "- В колонке 'churn_date' - дата прекращения пользования тарифом - пропущено 462 значения. Однако это означает, что тариф еще действовал на момент выгрузки данных, и, следовательно, данные пропуски не требуют замены. Также у данной переменной неверно отражен тип данных в качестве object.  \n",
    "- Колонка с датой подключения тарифа ('reg_date') неверно отражена по типу данных как object."
   ]
  },
  {
   "cell_type": "code",
   "execution_count": 9,
   "metadata": {},
   "outputs": [
    {
     "name": "stdout",
     "output_type": "stream",
     "text": [
      "---Информация о тарифах---\n"
     ]
    },
    {
     "data": {
      "text/html": [
       "<div>\n",
       "<style scoped>\n",
       "    .dataframe tbody tr th:only-of-type {\n",
       "        vertical-align: middle;\n",
       "    }\n",
       "\n",
       "    .dataframe tbody tr th {\n",
       "        vertical-align: top;\n",
       "    }\n",
       "\n",
       "    .dataframe thead th {\n",
       "        text-align: right;\n",
       "    }\n",
       "</style>\n",
       "<table border=\"1\" class=\"dataframe\">\n",
       "  <thead>\n",
       "    <tr style=\"text-align: right;\">\n",
       "      <th></th>\n",
       "      <th>messages_included</th>\n",
       "      <th>mb_per_month_included</th>\n",
       "      <th>minutes_included</th>\n",
       "      <th>rub_monthly_fee</th>\n",
       "      <th>rub_per_gb</th>\n",
       "      <th>rub_per_message</th>\n",
       "      <th>rub_per_minute</th>\n",
       "      <th>tariff_name</th>\n",
       "    </tr>\n",
       "  </thead>\n",
       "  <tbody>\n",
       "    <tr>\n",
       "      <th>0</th>\n",
       "      <td>50</td>\n",
       "      <td>15360</td>\n",
       "      <td>500</td>\n",
       "      <td>550</td>\n",
       "      <td>200</td>\n",
       "      <td>3</td>\n",
       "      <td>3</td>\n",
       "      <td>smart</td>\n",
       "    </tr>\n",
       "    <tr>\n",
       "      <th>1</th>\n",
       "      <td>1000</td>\n",
       "      <td>30720</td>\n",
       "      <td>3000</td>\n",
       "      <td>1950</td>\n",
       "      <td>150</td>\n",
       "      <td>1</td>\n",
       "      <td>1</td>\n",
       "      <td>ultra</td>\n",
       "    </tr>\n",
       "  </tbody>\n",
       "</table>\n",
       "</div>"
      ],
      "text/plain": [
       "   messages_included  mb_per_month_included  minutes_included  \\\n",
       "0                 50                  15360               500   \n",
       "1               1000                  30720              3000   \n",
       "\n",
       "   rub_monthly_fee  rub_per_gb  rub_per_message  rub_per_minute tariff_name  \n",
       "0              550         200                3               3       smart  \n",
       "1             1950         150                1               1       ultra  "
      ]
     },
     "metadata": {},
     "output_type": "display_data"
    },
    {
     "name": "stdout",
     "output_type": "stream",
     "text": [
      "<class 'pandas.core.frame.DataFrame'>\n",
      "RangeIndex: 2 entries, 0 to 1\n",
      "Data columns (total 8 columns):\n",
      " #   Column                 Non-Null Count  Dtype \n",
      "---  ------                 --------------  ----- \n",
      " 0   messages_included      2 non-null      int64 \n",
      " 1   mb_per_month_included  2 non-null      int64 \n",
      " 2   minutes_included       2 non-null      int64 \n",
      " 3   rub_monthly_fee        2 non-null      int64 \n",
      " 4   rub_per_gb             2 non-null      int64 \n",
      " 5   rub_per_message        2 non-null      int64 \n",
      " 6   rub_per_minute         2 non-null      int64 \n",
      " 7   tariff_name            2 non-null      object\n",
      "dtypes: int64(7), object(1)\n",
      "memory usage: 256.0+ bytes\n"
     ]
    }
   ],
   "source": [
    "print('---Информация о тарифах---')\n",
    "display(data_tariffs)\n",
    "data_tariffs.info()\n"
   ]
  },
  {
   "cell_type": "markdown",
   "metadata": {},
   "source": [
    "##### Вывод\n",
    "- Датафрейм с информацией о тарифах содержит 2 строки и 8 колонок.\n"
   ]
  },
  {
   "cell_type": "markdown",
   "metadata": {},
   "source": [
    "#### Общий вывод по результатам первичного обзора данных:\n",
    "- В нашем распоряжении пять датафреймов, четыре из которых в том или ином виде содержат информацию о пользователях и их активности в пользовании услугами связи (информация о произведенных и отправленных каждым пользователем звонках, сообщениях и интернет сессиях, а также список самих пользователей, нформация о чьих звонках, сообщениях и интернет-сессиях отражена в соответствующих других датафреймах). Последний пятый датафрейм содержит информацию о парамаетрах двух имеющихся тарифов \"Смарт\" и \"Ультра\".\n",
    "- Общим столбцом всех датафреймов о пользователях является 'user_id' c идентификационным номером пользователя. Данная переманная выражена в целочисленном типе int, однако по своему характеру является категориальной так как отражает уникального пользователя.\n",
    "- Данные во всех датафреймах в целом выгружены корректно, пропуски содежатся только в колонке 'churn_date', однако это показатель того, что клиент все еще пользуется тарифом.\n",
    "- Остальные переменные, которые будут необходимы для проведения расчетов, являются числовыми - данные о количестве мегабайт, продолжительности звонков и количестве сообщени.\n",
    "- Местами содержатся ошибки в виде некорректного отражения типа переменных с данными о времени.\n",
    "- Присутствует колонка 'Unnamed: 0', которая не содержит какой-либо качественной информации, помимо дублирования индекса. Похоже на ошибку в выгрузке данных. Данную колонку удалим.\n",
    "- В датафрейме о звонках в колонке о продолжительности звонков ('duration') наблюдаем большое количесво звонков (39613) с продолжительностью, равной 0. Потребуется проверка.\n"
   ]
  },
  {
   "cell_type": "markdown",
   "metadata": {},
   "source": [
    "<font color='green'>Данные загружены и изучены. Используются верные методы для получения общей информации о таблице. Найдены немногочисленные проблемы. Действительно, данные типа id можно привести к типу object: мы не собираемся применять к ним какие-либо арифметические операции, а в случае, если это все же произойдет, мы бы хотели увидеть ошибку."
   ]
  },
  {
   "cell_type": "markdown",
   "metadata": {},
   "source": [
    "### 2. Предобработка данных"
   ]
  },
  {
   "cell_type": "code",
   "execution_count": 10,
   "metadata": {},
   "outputs": [],
   "source": [
    "#заменим типы данных с датами на тип datetime\n",
    "data_calls['call_date'] = pd.to_datetime(data_calls['call_date'])\n",
    "data_internet['session_date'] = pd.to_datetime(data_internet['session_date'])\n",
    "data_messages['message_date'] = pd.to_datetime(data_messages['message_date'])\n",
    "data_users['reg_date'] = pd.to_datetime(data_users['reg_date'])\n",
    "data_users['churn_date'] = pd.to_datetime(data_users['churn_date'])"
   ]
  },
  {
   "cell_type": "code",
   "execution_count": 11,
   "metadata": {},
   "outputs": [
    {
     "data": {
      "text/plain": [
       "0"
      ]
     },
     "execution_count": 11,
     "metadata": {},
     "output_type": "execute_result"
    }
   ],
   "source": [
    "#проверим данные на дубликаты\n",
    "data_calls.duplicated().sum()\n",
    "data_internet.duplicated().sum()\n",
    "data_messages.duplicated().sum()\n",
    "data_users.duplicated().sum()\n"
   ]
  },
  {
   "cell_type": "markdown",
   "metadata": {},
   "source": [
    "##### Вывод\n",
    "- Дубликаты отсутствуют."
   ]
  },
  {
   "cell_type": "code",
   "execution_count": 12,
   "metadata": {},
   "outputs": [
    {
     "data": {
      "text/html": [
       "<div>\n",
       "<style scoped>\n",
       "    .dataframe tbody tr th:only-of-type {\n",
       "        vertical-align: middle;\n",
       "    }\n",
       "\n",
       "    .dataframe tbody tr th {\n",
       "        vertical-align: top;\n",
       "    }\n",
       "\n",
       "    .dataframe thead th {\n",
       "        text-align: right;\n",
       "    }\n",
       "</style>\n",
       "<table border=\"1\" class=\"dataframe\">\n",
       "  <thead>\n",
       "    <tr style=\"text-align: right;\">\n",
       "      <th></th>\n",
       "      <th>id</th>\n",
       "      <th>mb_used</th>\n",
       "      <th>session_date</th>\n",
       "      <th>user_id</th>\n",
       "    </tr>\n",
       "  </thead>\n",
       "  <tbody>\n",
       "    <tr>\n",
       "      <th>0</th>\n",
       "      <td>1000_0</td>\n",
       "      <td>112.95</td>\n",
       "      <td>2018-11-25</td>\n",
       "      <td>1000</td>\n",
       "    </tr>\n",
       "    <tr>\n",
       "      <th>1</th>\n",
       "      <td>1000_1</td>\n",
       "      <td>1052.81</td>\n",
       "      <td>2018-09-07</td>\n",
       "      <td>1000</td>\n",
       "    </tr>\n",
       "    <tr>\n",
       "      <th>2</th>\n",
       "      <td>1000_2</td>\n",
       "      <td>1197.26</td>\n",
       "      <td>2018-06-25</td>\n",
       "      <td>1000</td>\n",
       "    </tr>\n",
       "    <tr>\n",
       "      <th>3</th>\n",
       "      <td>1000_3</td>\n",
       "      <td>550.27</td>\n",
       "      <td>2018-08-22</td>\n",
       "      <td>1000</td>\n",
       "    </tr>\n",
       "    <tr>\n",
       "      <th>4</th>\n",
       "      <td>1000_4</td>\n",
       "      <td>302.56</td>\n",
       "      <td>2018-09-24</td>\n",
       "      <td>1000</td>\n",
       "    </tr>\n",
       "    <tr>\n",
       "      <th>...</th>\n",
       "      <td>...</td>\n",
       "      <td>...</td>\n",
       "      <td>...</td>\n",
       "      <td>...</td>\n",
       "    </tr>\n",
       "    <tr>\n",
       "      <th>149391</th>\n",
       "      <td>1499_152</td>\n",
       "      <td>318.90</td>\n",
       "      <td>2018-10-03</td>\n",
       "      <td>1499</td>\n",
       "    </tr>\n",
       "    <tr>\n",
       "      <th>149392</th>\n",
       "      <td>1499_153</td>\n",
       "      <td>490.13</td>\n",
       "      <td>2018-12-14</td>\n",
       "      <td>1499</td>\n",
       "    </tr>\n",
       "    <tr>\n",
       "      <th>149393</th>\n",
       "      <td>1499_154</td>\n",
       "      <td>0.00</td>\n",
       "      <td>2018-10-27</td>\n",
       "      <td>1499</td>\n",
       "    </tr>\n",
       "    <tr>\n",
       "      <th>149394</th>\n",
       "      <td>1499_155</td>\n",
       "      <td>1246.32</td>\n",
       "      <td>2018-11-26</td>\n",
       "      <td>1499</td>\n",
       "    </tr>\n",
       "    <tr>\n",
       "      <th>149395</th>\n",
       "      <td>1499_156</td>\n",
       "      <td>544.37</td>\n",
       "      <td>2018-10-26</td>\n",
       "      <td>1499</td>\n",
       "    </tr>\n",
       "  </tbody>\n",
       "</table>\n",
       "<p>149396 rows × 4 columns</p>\n",
       "</div>"
      ],
      "text/plain": [
       "              id  mb_used session_date  user_id\n",
       "0         1000_0   112.95   2018-11-25     1000\n",
       "1         1000_1  1052.81   2018-09-07     1000\n",
       "2         1000_2  1197.26   2018-06-25     1000\n",
       "3         1000_3   550.27   2018-08-22     1000\n",
       "4         1000_4   302.56   2018-09-24     1000\n",
       "...          ...      ...          ...      ...\n",
       "149391  1499_152   318.90   2018-10-03     1499\n",
       "149392  1499_153   490.13   2018-12-14     1499\n",
       "149393  1499_154     0.00   2018-10-27     1499\n",
       "149394  1499_155  1246.32   2018-11-26     1499\n",
       "149395  1499_156   544.37   2018-10-26     1499\n",
       "\n",
       "[149396 rows x 4 columns]"
      ]
     },
     "execution_count": 12,
     "metadata": {},
     "output_type": "execute_result"
    }
   ],
   "source": [
    "#удалим столбец с дубликатами индексов в датафрейме об интернет-сессиях\n",
    "data_internet.drop(columns='Unnamed: 0', axis=1, inplace=True)\n",
    "data_internet"
   ]
  },
  {
   "cell_type": "code",
   "execution_count": 13,
   "metadata": {},
   "outputs": [
    {
     "data": {
      "text/plain": [
       "(user_id\n",
       " 1377    336\n",
       " 1168    308\n",
       " 1453    295\n",
       " 1375    290\n",
       " 1196    262\n",
       "        ... \n",
       " 1206      6\n",
       " 1442      5\n",
       " 1406      5\n",
       " 1084      5\n",
       " 1424      5\n",
       " Name: id, Length: 492, dtype: int64,\n",
       " array([[<matplotlib.axes._subplots.AxesSubplot object at 0x00000235C5C13608>]],\n",
       "       dtype=object))"
      ]
     },
     "execution_count": 13,
     "metadata": {},
     "output_type": "execute_result"
    },
    {
     "data": {
      "image/png": "[encoded data removed]",
      "text/plain": [
       "<Figure size 432x288 with 1 Axes>"
      ]
     },
     "metadata": {
      "needs_background": "light"
     },
     "output_type": "display_data"
    }
   ],
   "source": [
    "#исследует аномальные \"нулевые\" звонки датафрейме о звонках\n",
    "null_calls = data_calls.loc[data_calls['duration'] == 0]\n",
    "#сгруппируем строки с \"нулевыми звонками\" по пользователям, а также построим гистограмму продолжительности звонков меньще 1 мин\n",
    "null_calls.groupby('user_id')['id'].count().sort_values(ascending=False), data_calls.query('duration < 1').hist(column='duration', bins=50, range=(0, 1))"
   ]
  },
  {
   "cell_type": "markdown",
   "metadata": {},
   "source": [
    "##### Вывод\n",
    "- Как видно из группировки данных по пользователям, практически у всех пользователей (в 492 из 500) присутствуют \"нулевые\" звонки. \n",
    "- Данные наблюдения не позволяют сделать обоснованных утверждений о наличии каких-либо закономерностей или зависимостей в распределении \"нулевых\" звонков.  Можно предположить, что это эти значения отобразились в результате либо (1) сброса или недозвона, либо (2) ошибки в выгрузке данных.\n",
    "- Оставим эти значения и не будем их засчитывать для подсчета стоимости звонков."
   ]
  },
  {
   "cell_type": "markdown",
   "metadata": {},
   "source": [
    "<font color='green'>Согласен, в данных есть очень короткие разговоры, то есть нули это что-то другое. Очень вероятно, что сброшенные/неотвеченные звонки."
   ]
  },
  {
   "cell_type": "code",
   "execution_count": 14,
   "metadata": {},
   "outputs": [
    {
     "data": {
      "text/plain": [
       "'---Инфомация о звонках---'"
      ]
     },
     "metadata": {},
     "output_type": "display_data"
    },
    {
     "data": {
      "text/html": [
       "<div>\n",
       "<style scoped>\n",
       "    .dataframe tbody tr th:only-of-type {\n",
       "        vertical-align: middle;\n",
       "    }\n",
       "\n",
       "    .dataframe tbody tr th {\n",
       "        vertical-align: top;\n",
       "    }\n",
       "\n",
       "    .dataframe thead th {\n",
       "        text-align: right;\n",
       "    }\n",
       "</style>\n",
       "<table border=\"1\" class=\"dataframe\">\n",
       "  <thead>\n",
       "    <tr style=\"text-align: right;\">\n",
       "      <th></th>\n",
       "      <th>id</th>\n",
       "      <th>call_date</th>\n",
       "      <th>duration</th>\n",
       "      <th>user_id</th>\n",
       "    </tr>\n",
       "  </thead>\n",
       "  <tbody>\n",
       "    <tr>\n",
       "      <th>0</th>\n",
       "      <td>1000_0</td>\n",
       "      <td>2018-07-25</td>\n",
       "      <td>0</td>\n",
       "      <td>1000</td>\n",
       "    </tr>\n",
       "    <tr>\n",
       "      <th>1</th>\n",
       "      <td>1000_1</td>\n",
       "      <td>2018-08-17</td>\n",
       "      <td>0</td>\n",
       "      <td>1000</td>\n",
       "    </tr>\n",
       "    <tr>\n",
       "      <th>2</th>\n",
       "      <td>1000_2</td>\n",
       "      <td>2018-06-11</td>\n",
       "      <td>3</td>\n",
       "      <td>1000</td>\n",
       "    </tr>\n",
       "    <tr>\n",
       "      <th>3</th>\n",
       "      <td>1000_3</td>\n",
       "      <td>2018-09-21</td>\n",
       "      <td>14</td>\n",
       "      <td>1000</td>\n",
       "    </tr>\n",
       "    <tr>\n",
       "      <th>4</th>\n",
       "      <td>1000_4</td>\n",
       "      <td>2018-12-15</td>\n",
       "      <td>6</td>\n",
       "      <td>1000</td>\n",
       "    </tr>\n",
       "    <tr>\n",
       "      <th>5</th>\n",
       "      <td>1000_5</td>\n",
       "      <td>2018-11-02</td>\n",
       "      <td>0</td>\n",
       "      <td>1000</td>\n",
       "    </tr>\n",
       "    <tr>\n",
       "      <th>6</th>\n",
       "      <td>1000_6</td>\n",
       "      <td>2018-10-18</td>\n",
       "      <td>0</td>\n",
       "      <td>1000</td>\n",
       "    </tr>\n",
       "    <tr>\n",
       "      <th>7</th>\n",
       "      <td>1000_7</td>\n",
       "      <td>2018-08-22</td>\n",
       "      <td>19</td>\n",
       "      <td>1000</td>\n",
       "    </tr>\n",
       "    <tr>\n",
       "      <th>8</th>\n",
       "      <td>1000_8</td>\n",
       "      <td>2018-09-15</td>\n",
       "      <td>19</td>\n",
       "      <td>1000</td>\n",
       "    </tr>\n",
       "    <tr>\n",
       "      <th>9</th>\n",
       "      <td>1000_9</td>\n",
       "      <td>2018-08-15</td>\n",
       "      <td>0</td>\n",
       "      <td>1000</td>\n",
       "    </tr>\n",
       "  </tbody>\n",
       "</table>\n",
       "</div>"
      ],
      "text/plain": [
       "       id  call_date  duration  user_id\n",
       "0  1000_0 2018-07-25         0     1000\n",
       "1  1000_1 2018-08-17         0     1000\n",
       "2  1000_2 2018-06-11         3     1000\n",
       "3  1000_3 2018-09-21        14     1000\n",
       "4  1000_4 2018-12-15         6     1000\n",
       "5  1000_5 2018-11-02         0     1000\n",
       "6  1000_6 2018-10-18         0     1000\n",
       "7  1000_7 2018-08-22        19     1000\n",
       "8  1000_8 2018-09-15        19     1000\n",
       "9  1000_9 2018-08-15         0     1000"
      ]
     },
     "metadata": {},
     "output_type": "display_data"
    },
    {
     "data": {
      "text/plain": [
       "'---Информация об интернет-сессиях'"
      ]
     },
     "metadata": {},
     "output_type": "display_data"
    },
    {
     "data": {
      "text/html": [
       "<div>\n",
       "<style scoped>\n",
       "    .dataframe tbody tr th:only-of-type {\n",
       "        vertical-align: middle;\n",
       "    }\n",
       "\n",
       "    .dataframe tbody tr th {\n",
       "        vertical-align: top;\n",
       "    }\n",
       "\n",
       "    .dataframe thead th {\n",
       "        text-align: right;\n",
       "    }\n",
       "</style>\n",
       "<table border=\"1\" class=\"dataframe\">\n",
       "  <thead>\n",
       "    <tr style=\"text-align: right;\">\n",
       "      <th></th>\n",
       "      <th>id</th>\n",
       "      <th>mb_used</th>\n",
       "      <th>session_date</th>\n",
       "      <th>user_id</th>\n",
       "    </tr>\n",
       "  </thead>\n",
       "  <tbody>\n",
       "    <tr>\n",
       "      <th>0</th>\n",
       "      <td>1000_0</td>\n",
       "      <td>113</td>\n",
       "      <td>2018-11-25</td>\n",
       "      <td>1000</td>\n",
       "    </tr>\n",
       "    <tr>\n",
       "      <th>1</th>\n",
       "      <td>1000_1</td>\n",
       "      <td>1053</td>\n",
       "      <td>2018-09-07</td>\n",
       "      <td>1000</td>\n",
       "    </tr>\n",
       "    <tr>\n",
       "      <th>2</th>\n",
       "      <td>1000_2</td>\n",
       "      <td>1198</td>\n",
       "      <td>2018-06-25</td>\n",
       "      <td>1000</td>\n",
       "    </tr>\n",
       "    <tr>\n",
       "      <th>3</th>\n",
       "      <td>1000_3</td>\n",
       "      <td>551</td>\n",
       "      <td>2018-08-22</td>\n",
       "      <td>1000</td>\n",
       "    </tr>\n",
       "    <tr>\n",
       "      <th>4</th>\n",
       "      <td>1000_4</td>\n",
       "      <td>303</td>\n",
       "      <td>2018-09-24</td>\n",
       "      <td>1000</td>\n",
       "    </tr>\n",
       "  </tbody>\n",
       "</table>\n",
       "</div>"
      ],
      "text/plain": [
       "       id  mb_used session_date  user_id\n",
       "0  1000_0      113   2018-11-25     1000\n",
       "1  1000_1     1053   2018-09-07     1000\n",
       "2  1000_2     1198   2018-06-25     1000\n",
       "3  1000_3      551   2018-08-22     1000\n",
       "4  1000_4      303   2018-09-24     1000"
      ]
     },
     "metadata": {},
     "output_type": "display_data"
    }
   ],
   "source": [
    "#округлим значения количества мин. звонков и интернет-трафика\n",
    "data_calls['duration'] = np.ceil(data_calls.duration).astype('int')\n",
    "data_internet['mb_used'] = np.ceil(data_internet.mb_used).astype('int')\n",
    "display('---Инфомация о звонках---', data_calls.head(10))\n",
    "display('---Информация об интернет-сессиях', data_internet.head())"
   ]
  },
  {
   "cell_type": "markdown",
   "metadata": {},
   "source": [
    "<font color='green'>Молодец, что не забыл не только округлить, но и поменять тип."
   ]
  },
  {
   "cell_type": "markdown",
   "metadata": {},
   "source": [
    "### 3. Исследовательский анализ данных\n",
    "#### 3.1. Посчитать для каждого пользователя:\n",
    "\n",
    "1) количество сделанных звонков и израсходованных минут разговора по месяцам;\n",
    "\n",
    "2) количество отправленных сообщений по месяцам;\n",
    "\n",
    "3) объем израсходованного интернет-трафика по месяцам;\n",
    "\n",
    "4) помесячную выручку с каждого пользователя (вычтите бесплатный лимит из суммарного количества звонков, сообщений и интернет-трафика; остаток умножьте на значение из тарифного плана; прибавьте абонентскую плату, соответствующую тарифному плану).\n"
   ]
  },
  {
   "cell_type": "markdown",
   "metadata": {},
   "source": [
    "#### Добавим столбец с номером месяца в каждый из трех датафреймов (звонки, сообщения, интернет)"
   ]
  },
  {
   "cell_type": "code",
   "execution_count": 15,
   "metadata": {},
   "outputs": [],
   "source": [
    "#добавим в таблицу звонков столбец с номером месяца для каждого звонка\n",
    "data_calls['month'] = data_calls['call_date'].dt.month\n",
    "#добавим в таблицу звонков столбец с номером месяца для каждого сообщения\n",
    "data_messages['month'] = data_messages['message_date'].dt.month\n",
    "#добавим столбец c номером месяца для каждой интернет-сессии\n",
    "data_internet['month'] = data_internet['session_date'].dt.month"
   ]
  },
  {
   "cell_type": "markdown",
   "metadata": {},
   "source": [
    "#### Сгруппируем даныее по месяцам для каждого пользователя (количество звонков, мегабай, сообщений, минут)"
   ]
  },
  {
   "cell_type": "code",
   "execution_count": 16,
   "metadata": {},
   "outputs": [],
   "source": [
    "#выведем количество звонков по месяцам\n",
    "month_calls_count = data_calls.groupby('user_id').agg({'month': ['value_counts']})\n",
    "month_calls_count = month_calls_count.reset_index()\n",
    "month_calls_count.columns = ['user_id', 'month', 'calls']\n",
    "#сгруппируем количество израсходованных минут по месяцам на каждого пользователя\n",
    "minutes_calls_sum = data_calls.groupby(['user_id', 'month']).agg({'duration': ['sum']})\n",
    "minutes_calls_sum = minutes_calls_sum.reset_index()\n",
    "minutes_calls_sum.columns = ['user_id', 'month', 'minutes']\n",
    "#сгруппируем количество отправленных сообщений по месяцам на каждого пользователя\n",
    "month_messages_count = data_messages.groupby('user_id').agg({'month': ['value_counts']})\n",
    "month_messages_count = month_messages_count.reset_index()\n",
    "month_messages_count.columns = ['user_id', 'month', 'messages']\n",
    "#найдем объем израсходанного интернет-траффика по месяцам\n",
    "month_internet_sum = data_internet.groupby(['user_id', 'month']).agg({'mb_used': ['sum']})\n",
    "month_internet_sum = month_internet_sum.reset_index()\n",
    "month_internet_sum.columns = ['user_id', 'month', 'mb_agg']"
   ]
  },
  {
   "cell_type": "markdown",
   "metadata": {},
   "source": [
    "<font color='green'>В таблицу успешно добавлена информация о месяцах. Данные аггрегированы\n",
    "    ."
   ]
  },
  {
   "cell_type": "markdown",
   "metadata": {},
   "source": [
    "#### Подсчитаем помесячную выручку на каждого пользователя\n",
    "\n",
    "Для этого сформируем итоговую таблицу для последующих расчетов выручки и проверки гипотез"
   ]
  },
  {
   "cell_type": "code",
   "execution_count": 17,
   "metadata": {},
   "outputs": [
    {
     "data": {
      "text/html": [
       "<div>\n",
       "<style scoped>\n",
       "    .dataframe tbody tr th:only-of-type {\n",
       "        vertical-align: middle;\n",
       "    }\n",
       "\n",
       "    .dataframe tbody tr th {\n",
       "        vertical-align: top;\n",
       "    }\n",
       "\n",
       "    .dataframe thead th {\n",
       "        text-align: right;\n",
       "    }\n",
       "</style>\n",
       "<table border=\"1\" class=\"dataframe\">\n",
       "  <thead>\n",
       "    <tr style=\"text-align: right;\">\n",
       "      <th></th>\n",
       "      <th>user_id</th>\n",
       "      <th>month</th>\n",
       "      <th>calls</th>\n",
       "      <th>minutes</th>\n",
       "      <th>messages</th>\n",
       "      <th>mb_agg</th>\n",
       "      <th>tariff</th>\n",
       "      <th>city</th>\n",
       "    </tr>\n",
       "  </thead>\n",
       "  <tbody>\n",
       "    <tr>\n",
       "      <th>0</th>\n",
       "      <td>1000</td>\n",
       "      <td>9.0</td>\n",
       "      <td>58.0</td>\n",
       "      <td>466.0</td>\n",
       "      <td>57.0</td>\n",
       "      <td>15.0</td>\n",
       "      <td>ultra</td>\n",
       "      <td>Краснодар</td>\n",
       "    </tr>\n",
       "    <tr>\n",
       "      <th>1</th>\n",
       "      <td>1000</td>\n",
       "      <td>10.0</td>\n",
       "      <td>57.0</td>\n",
       "      <td>350.0</td>\n",
       "      <td>73.0</td>\n",
       "      <td>15.0</td>\n",
       "      <td>ultra</td>\n",
       "      <td>Краснодар</td>\n",
       "    </tr>\n",
       "    <tr>\n",
       "      <th>2</th>\n",
       "      <td>1000</td>\n",
       "      <td>8.0</td>\n",
       "      <td>52.0</td>\n",
       "      <td>408.0</td>\n",
       "      <td>81.0</td>\n",
       "      <td>14.0</td>\n",
       "      <td>ultra</td>\n",
       "      <td>Краснодар</td>\n",
       "    </tr>\n",
       "    <tr>\n",
       "      <th>3</th>\n",
       "      <td>1000</td>\n",
       "      <td>7.0</td>\n",
       "      <td>47.0</td>\n",
       "      <td>340.0</td>\n",
       "      <td>75.0</td>\n",
       "      <td>14.0</td>\n",
       "      <td>ultra</td>\n",
       "      <td>Краснодар</td>\n",
       "    </tr>\n",
       "    <tr>\n",
       "      <th>4</th>\n",
       "      <td>1000</td>\n",
       "      <td>12.0</td>\n",
       "      <td>46.0</td>\n",
       "      <td>333.0</td>\n",
       "      <td>70.0</td>\n",
       "      <td>10.0</td>\n",
       "      <td>ultra</td>\n",
       "      <td>Краснодар</td>\n",
       "    </tr>\n",
       "    <tr>\n",
       "      <th>...</th>\n",
       "      <td>...</td>\n",
       "      <td>...</td>\n",
       "      <td>...</td>\n",
       "      <td>...</td>\n",
       "      <td>...</td>\n",
       "      <td>...</td>\n",
       "      <td>...</td>\n",
       "      <td>...</td>\n",
       "    </tr>\n",
       "    <tr>\n",
       "      <th>3211</th>\n",
       "      <td>1489</td>\n",
       "      <td>10.0</td>\n",
       "      <td>0.0</td>\n",
       "      <td>0.0</td>\n",
       "      <td>21.0</td>\n",
       "      <td>20.0</td>\n",
       "      <td>smart</td>\n",
       "      <td>Санкт-Петербург</td>\n",
       "    </tr>\n",
       "    <tr>\n",
       "      <th>3212</th>\n",
       "      <td>1489</td>\n",
       "      <td>11.0</td>\n",
       "      <td>0.0</td>\n",
       "      <td>0.0</td>\n",
       "      <td>20.0</td>\n",
       "      <td>18.0</td>\n",
       "      <td>smart</td>\n",
       "      <td>Санкт-Петербург</td>\n",
       "    </tr>\n",
       "    <tr>\n",
       "      <th>3213</th>\n",
       "      <td>1489</td>\n",
       "      <td>8.0</td>\n",
       "      <td>0.0</td>\n",
       "      <td>0.0</td>\n",
       "      <td>17.0</td>\n",
       "      <td>11.0</td>\n",
       "      <td>smart</td>\n",
       "      <td>Санкт-Петербург</td>\n",
       "    </tr>\n",
       "    <tr>\n",
       "      <th>3214</th>\n",
       "      <td>1128</td>\n",
       "      <td>0.0</td>\n",
       "      <td>0.0</td>\n",
       "      <td>0.0</td>\n",
       "      <td>0.0</td>\n",
       "      <td>0.0</td>\n",
       "      <td>0</td>\n",
       "      <td>Волжский</td>\n",
       "    </tr>\n",
       "    <tr>\n",
       "      <th>3215</th>\n",
       "      <td>1371</td>\n",
       "      <td>0.0</td>\n",
       "      <td>0.0</td>\n",
       "      <td>0.0</td>\n",
       "      <td>0.0</td>\n",
       "      <td>0.0</td>\n",
       "      <td>0</td>\n",
       "      <td>Омск</td>\n",
       "    </tr>\n",
       "  </tbody>\n",
       "</table>\n",
       "<p>3216 rows × 8 columns</p>\n",
       "</div>"
      ],
      "text/plain": [
       "      user_id  month  calls  minutes  messages  mb_agg tariff             city\n",
       "0        1000    9.0   58.0    466.0      57.0    15.0  ultra        Краснодар\n",
       "1        1000   10.0   57.0    350.0      73.0    15.0  ultra        Краснодар\n",
       "2        1000    8.0   52.0    408.0      81.0    14.0  ultra        Краснодар\n",
       "3        1000    7.0   47.0    340.0      75.0    14.0  ultra        Краснодар\n",
       "4        1000   12.0   46.0    333.0      70.0    10.0  ultra        Краснодар\n",
       "...       ...    ...    ...      ...       ...     ...    ...              ...\n",
       "3211     1489   10.0    0.0      0.0      21.0    20.0  smart  Санкт-Петербург\n",
       "3212     1489   11.0    0.0      0.0      20.0    18.0  smart  Санкт-Петербург\n",
       "3213     1489    8.0    0.0      0.0      17.0    11.0  smart  Санкт-Петербург\n",
       "3214     1128    0.0    0.0      0.0       0.0     0.0      0         Волжский\n",
       "3215     1371    0.0    0.0      0.0       0.0     0.0      0             Омск\n",
       "\n",
       "[3216 rows x 8 columns]"
      ]
     },
     "execution_count": 17,
     "metadata": {},
     "output_type": "execute_result"
    }
   ],
   "source": [
    "#создадим в два этапа единую таблицу с данными о расходовании звонков, интернет-траффика и сообщений \n",
    "#посредством соединения соответствующих таблиц по колонкам 'month' и 'user_is'\n",
    "#новую промежуточную таблицу назовем \"data_agg\"\n",
    "merge_1 = pd.merge(pd.merge(month_calls_count,minutes_calls_sum, on=['user_id', 'month'], how='outer'),month_messages_count, on=['user_id', 'month'], how='outer')\n",
    "general_count = pd.merge(merge_1, month_internet_sum, on=['user_id', 'month'], how='outer')\n",
    "data_agg = pd.merge(general_count, data_users[['user_id','tariff']], on='user_id', how='left')\n",
    "data_cities = data_users[['user_id', 'city']]\n",
    "data_agg = pd.merge(data_agg, data_cities, on='user_id', how='outer')\n",
    "data_agg = data_agg.fillna(0)\n",
    "data_agg['mb_agg'] = data_agg['mb_agg']/1000\n",
    "data_agg['mb_agg'] = data_agg.mb_agg.round()\n",
    "data_agg"
   ]
  },
  {
   "cell_type": "markdown",
   "metadata": {},
   "source": [
    "<font color='green'>Данные объеденены верно. Получилась очень удобная компактная таблица, содержащая все необходимые данные. Молодец, что используешь метод объединения outer, так мы не теряем строки."
   ]
  },
  {
   "cell_type": "markdown",
   "metadata": {},
   "source": [
    "#### Посчитаем выручку на кажого пользователя по месяцам в соответствии с тарифами"
   ]
  },
  {
   "cell_type": "code",
   "execution_count": 18,
   "metadata": {},
   "outputs": [],
   "source": [
    "#создадим функцию для расчета выручки в соответствии с тарифами\n",
    "#переменные тарифа \"Ультра\"\n",
    "minutes_included_ultra = data_tariffs.loc[1, 'minutes_included']\n",
    "messages_included_ultra = data_tariffs.loc[1, 'messages_included']\n",
    "rub_per_gb_ultra = data_tariffs.loc[1, 'rub_per_gb']\n",
    "mb_per_month_included_ultra = data_tariffs.loc[1, 'mb_per_month_included']\n",
    "rub_monthly_fee_ultra = data_tariffs.loc[1, 'rub_monthly_fee']\n",
    "rub_per_minute_ultra =  data_tariffs.loc[1, 'rub_per_minute']\n",
    "rub_per_message_ultra = data_tariffs.loc[1, 'rub_per_message']\n",
    "#переменные тарифа \"Смарт\"\n",
    "minutes_included_smart = data_tariffs.loc[0, 'minutes_included']\n",
    "messages_included_smart = data_tariffs.loc[0, 'messages_included']\n",
    "rub_per_gb_smart = data_tariffs.loc[0, 'rub_per_gb']\n",
    "mb_per_month_included_smart = data_tariffs.loc[0, 'mb_per_month_included']\n",
    "rub_monthly_fee_smart = data_tariffs.loc[0, 'rub_monthly_fee']\n",
    "rub_per_minute_smart =  data_tariffs.loc[0, 'rub_per_minute']\n",
    "rub_per_message_smart = data_tariffs.loc[0, 'rub_per_message']\n",
    "\n",
    "def income_calculation(users_data):\n",
    "        minutes = users_data['minutes']\n",
    "        messages = users_data['messages']\n",
    "        mb_agg = users_data['mb_agg']\n",
    "        for row in users_data: # здесь начинается расчет выручки по тарифу \"Ультра\"\n",
    "            if users_data['tariff'] == 'ultra':\n",
    "                if minutes <= minutes_included_ultra:\n",
    "                    calls_income = 0\n",
    "                else: #создадим три переменные для расчета выручки по виду услуг (звонки, сообщения, интернет)\n",
    "                    calls_income = (minutes - minutes_included_ultra)*rub_per_minute_ultra\n",
    "                if messages <= messages_included_ultra:\n",
    "                    messages_income = 0\n",
    "                else:\n",
    "                    messages_income = (messages - messages_included_ultra)*rub_per_message_ultra\n",
    "                if mb_agg <= mb_per_month_included_ultra:\n",
    "                    internet_income = 0\n",
    "                else:\n",
    "                    internet_income = (mb_agg - mb_per_month_included_ultra)*rub_per_gb_ultra\n",
    "                income = calls_income + messages_income + internet_income + rub_monthly_fee_ultra  #общая выручка равна сумме выручек по виоду услуг и абонентской платы\n",
    "                return income\n",
    "            # здесь расчет выручки по тарифу \"Смарт\"\n",
    "            if users_data['tariff'] == 'smart': \n",
    "                if minutes <= minutes_included_smart:\n",
    "                    calls_income = 0\n",
    "                else:\n",
    "                    calls_income = (minutes - minutes_included_smart)*rub_per_minute_smart\n",
    "                if messages <= messages_included_smart:\n",
    "                    messages_income = 0\n",
    "                else:\n",
    "                    messages_income = (messages - messages_included_smart)*rub_per_message_smart\n",
    "                if mb_agg <= mb_per_month_included_smart:\n",
    "                    internet_income = 0\n",
    "                else:\n",
    "                    internet_income = (mb_agg - mb_per_month_included_smart)*rub_per_gb_smart\n",
    "                income = calls_income + messages_income + internet_income + rub_monthly_fee_smart\n",
    "                return income\n",
    "\n",
    "           \n",
    "\n",
    "data_agg['income'] = data_agg.apply(income_calculation, axis=1)\n",
    "\n",
    "data_agg = data_agg.fillna(0)\n"
   ]
  },
  {
   "cell_type": "code",
   "execution_count": 19,
   "metadata": {},
   "outputs": [],
   "source": [
    "data_agg.columns = ['user_id', 'month', 'calls', 'minutes', 'messages', 'gb_agg', 'tariff', 'city', 'income']"
   ]
  },
  {
   "cell_type": "code",
   "execution_count": 20,
   "metadata": {},
   "outputs": [
    {
     "data": {
      "text/html": [
       "<div>\n",
       "<style scoped>\n",
       "    .dataframe tbody tr th:only-of-type {\n",
       "        vertical-align: middle;\n",
       "    }\n",
       "\n",
       "    .dataframe tbody tr th {\n",
       "        vertical-align: top;\n",
       "    }\n",
       "\n",
       "    .dataframe thead th {\n",
       "        text-align: right;\n",
       "    }\n",
       "</style>\n",
       "<table border=\"1\" class=\"dataframe\">\n",
       "  <thead>\n",
       "    <tr style=\"text-align: right;\">\n",
       "      <th></th>\n",
       "      <th>user_id</th>\n",
       "      <th>month</th>\n",
       "      <th>calls</th>\n",
       "      <th>minutes</th>\n",
       "      <th>messages</th>\n",
       "      <th>gb_agg</th>\n",
       "      <th>tariff</th>\n",
       "      <th>city</th>\n",
       "      <th>income</th>\n",
       "    </tr>\n",
       "  </thead>\n",
       "  <tbody>\n",
       "    <tr>\n",
       "      <th>0</th>\n",
       "      <td>1000</td>\n",
       "      <td>9.0</td>\n",
       "      <td>58.0</td>\n",
       "      <td>466.0</td>\n",
       "      <td>57.0</td>\n",
       "      <td>15.0</td>\n",
       "      <td>ultra</td>\n",
       "      <td>Краснодар</td>\n",
       "      <td>1950.0</td>\n",
       "    </tr>\n",
       "    <tr>\n",
       "      <th>1</th>\n",
       "      <td>1000</td>\n",
       "      <td>10.0</td>\n",
       "      <td>57.0</td>\n",
       "      <td>350.0</td>\n",
       "      <td>73.0</td>\n",
       "      <td>15.0</td>\n",
       "      <td>ultra</td>\n",
       "      <td>Краснодар</td>\n",
       "      <td>1950.0</td>\n",
       "    </tr>\n",
       "    <tr>\n",
       "      <th>2</th>\n",
       "      <td>1000</td>\n",
       "      <td>8.0</td>\n",
       "      <td>52.0</td>\n",
       "      <td>408.0</td>\n",
       "      <td>81.0</td>\n",
       "      <td>14.0</td>\n",
       "      <td>ultra</td>\n",
       "      <td>Краснодар</td>\n",
       "      <td>1950.0</td>\n",
       "    </tr>\n",
       "    <tr>\n",
       "      <th>3</th>\n",
       "      <td>1000</td>\n",
       "      <td>7.0</td>\n",
       "      <td>47.0</td>\n",
       "      <td>340.0</td>\n",
       "      <td>75.0</td>\n",
       "      <td>14.0</td>\n",
       "      <td>ultra</td>\n",
       "      <td>Краснодар</td>\n",
       "      <td>1950.0</td>\n",
       "    </tr>\n",
       "    <tr>\n",
       "      <th>4</th>\n",
       "      <td>1000</td>\n",
       "      <td>12.0</td>\n",
       "      <td>46.0</td>\n",
       "      <td>333.0</td>\n",
       "      <td>70.0</td>\n",
       "      <td>10.0</td>\n",
       "      <td>ultra</td>\n",
       "      <td>Краснодар</td>\n",
       "      <td>1950.0</td>\n",
       "    </tr>\n",
       "    <tr>\n",
       "      <th>...</th>\n",
       "      <td>...</td>\n",
       "      <td>...</td>\n",
       "      <td>...</td>\n",
       "      <td>...</td>\n",
       "      <td>...</td>\n",
       "      <td>...</td>\n",
       "      <td>...</td>\n",
       "      <td>...</td>\n",
       "      <td>...</td>\n",
       "    </tr>\n",
       "    <tr>\n",
       "      <th>3211</th>\n",
       "      <td>1489</td>\n",
       "      <td>10.0</td>\n",
       "      <td>0.0</td>\n",
       "      <td>0.0</td>\n",
       "      <td>21.0</td>\n",
       "      <td>20.0</td>\n",
       "      <td>smart</td>\n",
       "      <td>Санкт-Петербург</td>\n",
       "      <td>550.0</td>\n",
       "    </tr>\n",
       "    <tr>\n",
       "      <th>3212</th>\n",
       "      <td>1489</td>\n",
       "      <td>11.0</td>\n",
       "      <td>0.0</td>\n",
       "      <td>0.0</td>\n",
       "      <td>20.0</td>\n",
       "      <td>18.0</td>\n",
       "      <td>smart</td>\n",
       "      <td>Санкт-Петербург</td>\n",
       "      <td>550.0</td>\n",
       "    </tr>\n",
       "    <tr>\n",
       "      <th>3213</th>\n",
       "      <td>1489</td>\n",
       "      <td>8.0</td>\n",
       "      <td>0.0</td>\n",
       "      <td>0.0</td>\n",
       "      <td>17.0</td>\n",
       "      <td>11.0</td>\n",
       "      <td>smart</td>\n",
       "      <td>Санкт-Петербург</td>\n",
       "      <td>550.0</td>\n",
       "    </tr>\n",
       "    <tr>\n",
       "      <th>3214</th>\n",
       "      <td>1128</td>\n",
       "      <td>0.0</td>\n",
       "      <td>0.0</td>\n",
       "      <td>0.0</td>\n",
       "      <td>0.0</td>\n",
       "      <td>0.0</td>\n",
       "      <td>0</td>\n",
       "      <td>Волжский</td>\n",
       "      <td>0.0</td>\n",
       "    </tr>\n",
       "    <tr>\n",
       "      <th>3215</th>\n",
       "      <td>1371</td>\n",
       "      <td>0.0</td>\n",
       "      <td>0.0</td>\n",
       "      <td>0.0</td>\n",
       "      <td>0.0</td>\n",
       "      <td>0.0</td>\n",
       "      <td>0</td>\n",
       "      <td>Омск</td>\n",
       "      <td>0.0</td>\n",
       "    </tr>\n",
       "  </tbody>\n",
       "</table>\n",
       "<p>3216 rows × 9 columns</p>\n",
       "</div>"
      ],
      "text/plain": [
       "      user_id  month  calls  minutes  messages  gb_agg tariff  \\\n",
       "0        1000    9.0   58.0    466.0      57.0    15.0  ultra   \n",
       "1        1000   10.0   57.0    350.0      73.0    15.0  ultra   \n",
       "2        1000    8.0   52.0    408.0      81.0    14.0  ultra   \n",
       "3        1000    7.0   47.0    340.0      75.0    14.0  ultra   \n",
       "4        1000   12.0   46.0    333.0      70.0    10.0  ultra   \n",
       "...       ...    ...    ...      ...       ...     ...    ...   \n",
       "3211     1489   10.0    0.0      0.0      21.0    20.0  smart   \n",
       "3212     1489   11.0    0.0      0.0      20.0    18.0  smart   \n",
       "3213     1489    8.0    0.0      0.0      17.0    11.0  smart   \n",
       "3214     1128    0.0    0.0      0.0       0.0     0.0      0   \n",
       "3215     1371    0.0    0.0      0.0       0.0     0.0      0   \n",
       "\n",
       "                 city  income  \n",
       "0           Краснодар  1950.0  \n",
       "1           Краснодар  1950.0  \n",
       "2           Краснодар  1950.0  \n",
       "3           Краснодар  1950.0  \n",
       "4           Краснодар  1950.0  \n",
       "...               ...     ...  \n",
       "3211  Санкт-Петербург   550.0  \n",
       "3212  Санкт-Петербург   550.0  \n",
       "3213  Санкт-Петербург   550.0  \n",
       "3214         Волжский     0.0  \n",
       "3215             Омск     0.0  \n",
       "\n",
       "[3216 rows x 9 columns]"
      ]
     },
     "execution_count": 20,
     "metadata": {},
     "output_type": "execute_result"
    }
   ],
   "source": [
    "data_agg"
   ]
  },
  {
   "cell_type": "markdown",
   "metadata": {},
   "source": [
    "\n",
    "#### 3.2. Анализ активности пользователей тарифов  \"Смарт\" и \"Ультра\"\n",
    "- Сколько минут разговора, сколько сообщений и какой объём интернет-трафика требуется пользователям каждого тарифа в месяц?\n",
    "- Посчитать среднее количество, дисперсию и стандартное отклонение. \n",
    "- Построить гистограммы. Опишите распределения."
   ]
  },
  {
   "cell_type": "markdown",
   "metadata": {},
   "source": [
    "### Звонки"
   ]
  },
  {
   "cell_type": "code",
   "execution_count": 21,
   "metadata": {},
   "outputs": [
    {
     "name": "stdout",
     "output_type": "stream",
     "text": [
      "Дисперсия затраченных минут пользователей тарифа \"Смарт\": 36219.315784344246\n",
      "Дисперсия затраченных минут пользователей тарифа \"Ультра\": 100873.63339730087\n"
     ]
    },
    {
     "data": {
      "image/png": "[encoded data removed]",
      "text/plain": [
       "<Figure size 432x288 with 1 Axes>"
      ]
     },
     "metadata": {
      "needs_background": "light"
     },
     "output_type": "display_data"
    },
    {
     "data": {
      "text/plain": [
       "'Тариф \"Смарт\"'"
      ]
     },
     "metadata": {},
     "output_type": "display_data"
    },
    {
     "data": {
      "text/plain": [
       "count    2229.000000\n",
       "mean      417.934948\n",
       "std       190.313730\n",
       "min         0.000000\n",
       "25%       282.000000\n",
       "50%       422.000000\n",
       "75%       545.000000\n",
       "max      1435.000000\n",
       "Name: minutes, dtype: float64"
      ]
     },
     "metadata": {},
     "output_type": "display_data"
    },
    {
     "data": {
      "text/plain": [
       "'Тариф \"Ультра\"'"
      ]
     },
     "metadata": {},
     "output_type": "display_data"
    },
    {
     "data": {
      "text/plain": [
       "count     985.000000\n",
       "mean      526.623350\n",
       "std       317.606098\n",
       "min         0.000000\n",
       "25%       284.000000\n",
       "50%       518.000000\n",
       "75%       752.000000\n",
       "max      1673.000000\n",
       "Name: minutes, dtype: float64"
      ]
     },
     "metadata": {},
     "output_type": "display_data"
    }
   ],
   "source": [
    "#показатели по звонкам \n",
    "print('Дисперсия затраченных минут пользователей тарифа \"Смарт\":', data_agg.loc[data_agg['tariff'] == 'smart', 'minutes'].var())\n",
    "print('Дисперсия затраченных минут пользователей тарифа \"Ультра\":', data_agg.loc[data_agg['tariff'] == 'ultra', 'minutes'].var())\n",
    "%matplotlib inline\n",
    "pl.title(\"Подолжительность звонков (мес.)\")\n",
    "minutes_smart = data_agg.loc[data_agg['tariff'] == 'smart', 'minutes']\n",
    "minutes_ultra = data_agg.loc[data_agg['tariff'] == 'ultra', 'minutes']\n",
    "\n",
    "plt.hist(minutes_smart, bins=100, label='smart')\n",
    "plt.hist(minutes_ultra, bins=100, alpha=0.8, label='ultra')\n",
    "plt.legend(loc='best')\n",
    "plt.show()\n",
    "display('Тариф \"Смарт\"', data_agg.loc[data_agg['tariff'] == 'smart', 'minutes'].describe())\n",
    "display ('Тариф \"Ультра\"', data_agg.loc[data_agg['tariff'] == 'ultra', 'minutes'].describe())"
   ]
  },
  {
   "cell_type": "markdown",
   "metadata": {},
   "source": [
    "##### Вывод по тарифу \"Смарт\"\n",
    "- В среднем в месяц каждый пользователь тарифа \"Смарт\" тратит около 417 минут (в пределах включенного в пакет лимита).\n",
    "- Гистограмма выглядит несемметрично в силу резкого снижения количества пользователей, чьи разговоры составляют более 600 мин. в месяц.\n",
    "- Количество звонков с превышением пакетного лимита составляет около четверти в месяц. \n",
    "- Гистограмма упирается в ноль, поскольку ранее мы отмечали большое количество \"нулевых\" зконков.\n",
    "\n",
    "##### Вывод по тарифу \"Ультра\"\n",
    "- Средняя продолжительность звонка в месяц пользователей с тарифом \"Ультра\" составляет 526 мин (примерно половина пользователей также разговаривают не более этой продолжительности). "
   ]
  },
  {
   "cell_type": "markdown",
   "metadata": {},
   "source": [
    "### Сообщения"
   ]
  },
  {
   "cell_type": "code",
   "execution_count": 22,
   "metadata": {},
   "outputs": [
    {
     "name": "stdout",
     "output_type": "stream",
     "text": [
      "Дисперсия отправляемых сообщений пользователей тарифа \"Смарт\": 796.8129584480083\n",
      "Дисперсия отправляемых сообщений пользователей тарифа \"Ультра\": 2285.2661425446818\n"
     ]
    },
    {
     "data": {
      "image/png": "[encoded data removed]",
      "text/plain": [
       "<Figure size 432x288 with 1 Axes>"
      ]
     },
     "metadata": {
      "needs_background": "light"
     },
     "output_type": "display_data"
    },
    {
     "data": {
      "text/plain": [
       "'Тариф \"Смарт\"'"
      ]
     },
     "metadata": {},
     "output_type": "display_data"
    },
    {
     "data": {
      "text/plain": [
       "count    2229.000000\n",
       "mean       33.384029\n",
       "std        28.227876\n",
       "min         0.000000\n",
       "25%        10.000000\n",
       "50%        28.000000\n",
       "75%        51.000000\n",
       "max       143.000000\n",
       "Name: messages, dtype: float64"
      ]
     },
     "metadata": {},
     "output_type": "display_data"
    },
    {
     "data": {
      "text/plain": [
       "'Тариф \"Ультра\"'"
      ]
     },
     "metadata": {},
     "output_type": "display_data"
    },
    {
     "data": {
      "text/plain": [
       "count    985.000000\n",
       "mean      49.363452\n",
       "std       47.804457\n",
       "min        0.000000\n",
       "25%        6.000000\n",
       "50%       38.000000\n",
       "75%       79.000000\n",
       "max      224.000000\n",
       "Name: messages, dtype: float64"
      ]
     },
     "metadata": {},
     "output_type": "display_data"
    }
   ],
   "source": [
    "#показатели по сообщениям\n",
    "messages_smart = data_agg.loc[data_agg['tariff'] == 'smart', 'messages']\n",
    "messages_ultra = data_agg.loc[data_agg['tariff'] == 'ultra', 'messages']\n",
    "print('Дисперсия отправляемых сообщений пользователей тарифа \"Смарт\":', messages_smart.var())\n",
    "print('Дисперсия отправляемых сообщений пользователей тарифа \"Ультра\":', messages_ultra.var())\n",
    "%matplotlib inline\n",
    "pl.title(\"Количество сообщений (мес.)\")\n",
    "\n",
    "plt.hist(messages_smart, bins=100, label='smart')\n",
    "plt.hist(messages_ultra, bins=100, alpha=0.6, label='ultra')\n",
    "plt.legend(loc='best')\n",
    "plt.show()\n",
    "display('Тариф \"Смарт\"', messages_smart.describe())\n",
    "display ('Тариф \"Ультра\"', messages_ultra.describe())\n"
   ]
  },
  {
   "cell_type": "markdown",
   "metadata": {},
   "source": [
    "##### Вывод по тарифу \"Смарт\"\n",
    "- Среднее количество сообщений пользователей тарифа \"Смарт\" составляет 33 сообщения в месяц (в пределах лимита, полностью включенные сообщения в пакет не расходуются).\n",
    "- С превышением доступного лимита сообщения отправляют около четверти всех отправляемых сообщений.\n",
    "- Примерно в 1/8 случаев пользователи не пользуется сообщениями в течение месяца вообще.\n",
    "\n",
    "##### Вывод по тарифу \"Смарт\"\n",
    "- Среднее количество сообщений пользователей с тарифом \"Ультра\" составляет 49 сообщений в месяц."
   ]
  },
  {
   "cell_type": "markdown",
   "metadata": {},
   "source": [
    "### Интернет"
   ]
  },
  {
   "cell_type": "code",
   "execution_count": 23,
   "metadata": {},
   "outputs": [
    {
     "name": "stdout",
     "output_type": "stream",
     "text": [
      "Дисперсия израсходованного траффика пользователей тарифа \"Смарт\": 34.64748101772532\n",
      "Дисперсия израсходованного траффика пользователей тарифа \"Ультра\": 101.96338780900524\n"
     ]
    },
    {
     "data": {
      "image/png": "[encoded data removed]",
      "text/plain": [
       "<Figure size 432x288 with 1 Axes>"
      ]
     },
     "metadata": {
      "needs_background": "light"
     },
     "output_type": "display_data"
    },
    {
     "data": {
      "text/plain": [
       "'Тариф \"Смарт\"'"
      ]
     },
     "metadata": {},
     "output_type": "display_data"
    },
    {
     "data": {
      "text/plain": [
       "count    2229.000000\n",
       "mean       16.226559\n",
       "std         5.886211\n",
       "min         0.000000\n",
       "25%        13.000000\n",
       "50%        17.000000\n",
       "75%        20.000000\n",
       "max        39.000000\n",
       "Name: gb_agg, dtype: float64"
      ]
     },
     "metadata": {},
     "output_type": "display_data"
    },
    {
     "data": {
      "text/plain": [
       "'Тариф \"Ультра\"'"
      ]
     },
     "metadata": {},
     "output_type": "display_data"
    },
    {
     "data": {
      "text/plain": [
       "count    985.000000\n",
       "mean      19.483249\n",
       "std       10.097692\n",
       "min        0.000000\n",
       "25%       12.000000\n",
       "50%       19.000000\n",
       "75%       27.000000\n",
       "max       50.000000\n",
       "Name: gb_agg, dtype: float64"
      ]
     },
     "metadata": {},
     "output_type": "display_data"
    }
   ],
   "source": [
    "#показатели по интернет-траффику\n",
    "internet_smart = data_agg.loc[data_agg['tariff'] == 'smart', 'gb_agg']\n",
    "internet_ultra = data_agg.loc[data_agg['tariff'] == 'ultra', 'gb_agg']\n",
    "print('Дисперсия израсходованного траффика пользователей тарифа \"Смарт\":', internet_smart.var())\n",
    "print('Дисперсия израсходованного траффика пользователей тарифа \"Ультра\":', internet_ultra.var())\n",
    "%matplotlib inline\n",
    "\n",
    "pl.title(\"Интернет-траффик (мес.)\")\n",
    "\n",
    "plt.hist(internet_smart, bins=100, label='smart')\n",
    "plt.hist(internet_ultra, bins=100, alpha=0.6, label='ultra')\n",
    "plt.legend(loc='best')\n",
    "plt.show()\n",
    "display('Тариф \"Смарт\"', internet_smart.describe())\n",
    "display ('Тариф \"Ультра\"', internet_ultra.describe())\n",
    "\n"
   ]
  },
  {
   "cell_type": "markdown",
   "metadata": {},
   "source": [
    "##### Вывод по тарифу \"Смарт\"\n",
    "- Распределение расходуемых гигабайт в мес. тарифа \"Смарт\" близко к нормальному, то есть средний объем интернет-траффика в месяц, который составляет около 16 Гб и 200 Мб практически совпадает с медианным значением (16 Гб и 531 Мб).\n",
    "- Половина пользователей укладывается в бесплатный пакет, а половина использует интернет сверх бесплатного лимита.\n",
    "\n",
    "##### Вывод по тарифу \"Ультра\"\n",
    "- Распределение по интернет-траффику близко к нормальному. Среднее количество израсходованного траффика в месяц составляет около 19.5 Гб (примерно столько же приходится и на медианное значение).\n",
    "- Большая часть пользователей тарифа \"Ультра\" испольозуют интернет в пределах доступного лимита (около 30 Гб)."
   ]
  },
  {
   "cell_type": "markdown",
   "metadata": {},
   "source": [
    "### 4. Проверка гипотез\n",
    "#### 4.1. Гипотеза: средняя выручка пользователей тарифов «Ультра» и «Смарт» различается"
   ]
  },
  {
   "cell_type": "code",
   "execution_count": 30,
   "metadata": {},
   "outputs": [
    {
     "name": "stdout",
     "output_type": "stream",
     "text": [
      "Средняя выручка пользователей тарифа \"Ультра\" составляет: 1950 рублей\n",
      "Cредняя выручка пользователей тарифа \"Смарт\" составляет: 692 рублей\n",
      "Дисперсия выручки по тарифу \"Ультра\" составляет: 0.0\n",
      "Дисперсия выручки по тарифу \"Смарт\" составляет: 68131.24162440197\n"
     ]
    }
   ],
   "source": [
    "#выделим в отдельные массивы выборки с данными о выручке с пользователей соответствующих тарифив\n",
    "income_ultra = data_agg.loc[data_agg['tariff'] == 'ultra', 'income']\n",
    "income_smart = data_agg.loc[data_agg['tariff'] == 'smart', 'income']\n",
    "\n",
    "\n",
    "#посчитаем среднюю выручку для пользователей \n",
    "print('Средняя выручка пользователей тарифа \"Ультра\" составляет:', round(income_ultra.mean()), 'рублей')\n",
    "print('Cредняя выручка пользователей тарифа \"Смарт\" составляет:', round(income_smart.mean()), 'рублей')\n",
    "#посмотрим на дисперсию этих выборок\n",
    "print('Дисперсия выручки по тарифу \"Ультра\" составляет:', income_ultra.var())\n",
    "print('Дисперсия выручки по тарифу \"Смарт\" составляет:', income_smart.var())"
   ]
  },
  {
   "cell_type": "markdown",
   "metadata": {},
   "source": [
    "Проверим гипотезу о том, что средние выручки по тарифам различаются. Для этого сформулируем нулевую и альтернативную гипотезы:\n",
    "- Нулевая гипотеза: \"Средняя выручка с пользователей тарифа \"Ультра\" равна средней выручки пользователей тарифа \"Смарт\".\n",
    "- Альтернативная гипотеза: \"Средняя выручка с пользователей тарифа \"Ультра\" не равна средней выручки пользователей тарифа \"Смарт\" (разница между ними существенная)\".\n",
    "\n",
    "Вывод будет зависеть от выведенного значения p-value. Если оно окажется меньше заданного уровня статистической значимости (возьмем значимость в 0.05), то нулевая гипотеза должна быть отвергнута. Если же p-value будет больше выбранного уровня значимости, то вероятность нулевой гипотезы быть близкой к истине можно считать значительной и не отвергать ее.  \n"
   ]
  },
  {
   "cell_type": "code",
   "execution_count": 31,
   "metadata": {},
   "outputs": [
    {
     "name": "stdout",
     "output_type": "stream",
     "text": [
      "p-значение: 0.0\n",
      "Отвергаем нулевую гипотезу\n"
     ]
    }
   ],
   "source": [
    "alpha = .05 \n",
    "\n",
    "compare_tariffs = st.ttest_ind(\n",
    "    income_ultra, \n",
    "    income_smart)\n",
    "\n",
    "print('p-значение:', compare_tariffs.pvalue)\n",
    "\n",
    "if (compare_tariffs.pvalue < alpha):\n",
    "    print(\"Отвергаем нулевую гипотезу\")\n",
    "else:\n",
    "    print(\"Не получилось отвергнуть нулевую гипотезу\")"
   ]
  },
  {
   "cell_type": "markdown",
   "metadata": {},
   "source": [
    "##### Вывод\n",
    "- Не можем принять нулевую гипотезу. Средние выручки с каждого пользователя тарифов \"Смарт\" и \"Ультра\" различаются."
   ]
  },
  {
   "cell_type": "markdown",
   "metadata": {},
   "source": [
    "#### 4.2. Средняя выручка пользователей из Москвы отличается от выручки пользователей из других регионов.\n",
    "- Нулевая гипотеза: \"Средняя выручка с жителей Москвы равна средней выручке пользователей из других регионов\".\n",
    "- Альтернативная гипотеза: \"Средняя выручка с жителей Москвы не равна средней выручке пользователей из других регионов\"."
   ]
  },
  {
   "cell_type": "code",
   "execution_count": 32,
   "metadata": {},
   "outputs": [
    {
     "name": "stdout",
     "output_type": "stream",
     "text": [
      "Средняя выручка с жителей Москвы: 1147.859247135843 руб.\n",
      "Средняя выручка с жителей Москвы: 1060.4065259117083 руб.\n",
      "Дисперсия по  Москве: 410704.0063856655\n",
      "Дисперсия по регионам: 376543.9648575496\n",
      "p-значение: 0.0016841459404615233\n",
      "Отвергаем нулевую гипотезу\n"
     ]
    }
   ],
   "source": [
    "#выделим в отдельные переменные выручку с жителей Москвы (data_income_moscow) и регионов (data_income_regions)\n",
    "data_income_moscow = data_agg.loc[data_agg['city'] == 'Москва', 'income']\n",
    "data_income_regions = data_agg.loc[data_agg['city'] != 'Москва', 'income']\n",
    "\n",
    "print('Средняя выручка с жителей Москвы:', data_income_moscow.mean(), 'руб.')\n",
    "print('Средняя выручка с жителей Москвы:', data_income_regions.mean(), 'руб.')\n",
    "print('Дисперсия по  Москве:', data_income_moscow.var())\n",
    "print('Дисперсия по регионам:', data_income_regions.var())\n",
    "\n",
    "compare_regions = st.ttest_ind(\n",
    "    data_income_moscow, \n",
    "    data_income_regions)\n",
    "\n",
    "print('p-значение:', compare_regions.pvalue)\n",
    "\n",
    "if (compare_regions.pvalue < alpha):\n",
    "    print(\"Отвергаем нулевую гипотезу\")\n",
    "else:\n",
    "    print(\"Не получилось отвергнуть нулевую гипотезу\")"
   ]
  },
  {
   "cell_type": "markdown",
   "metadata": {},
   "source": [
    "#### Вывод\n",
    "- Нулевую гипотезу отвергаем. Средняя выручка с жителей Москвы сильно отличается от средней выручки с жителей других регионов. "
   ]
  },
  {
   "cell_type": "markdown",
   "metadata": {},
   "source": [
    "### Общий вывод\n",
    "\n",
    "##### Выводы по активности пользователей тарифов \"Смарт\" и \"Ультра\"\n",
    "- Средняя продолжительность звонков по обоим тарифам не превышает 500 мин. В целом пользователи разговаривают в пределах доступных лимитов соответствующих тарифов. С превышением лимитов разговаривает только четверть пользователей тарифа \"Смарт\".\n",
    "- Среднее количество отправляемых сообщенией в месяц пользователей тарифа \"Ультра\" выше чем у пользователей тарифа \"Смарт\" (49 против 33).\n",
    "- Пользователи тарифа \"Ультра\" более активно проводят время в интернете, так как среднее количество израсходованных ими Гб составляет примерно 19 против 16 пользователей тарифа \"Смарт\". При этом половина пользователей тарифа \"Смарт\" использует интернет сверх лимита, а пользователи тарифа \"Ультра\" в основном укладываются в лимит.  \n",
    "\n",
    "##### Выводы по выручке\n",
    "- Средние выручки с пользователей тарифов \"Смарт\" и \"Ультра\" существенно различаются. Средняя выручка пользователей тарифа \"Ультра\" из нашей выборки составляет: 1950.0 рублей, в то время как средняя выручка пользователей тарифа \"Смарт\" из выборки -  692.0 рублей. При этом по данным выручки с пользователей тарифа \"Ультра\" разброс равен нулю. Следовательно, тариф \"Ультра\" является более прибыльным.\n",
    "- Средняя выручка в Москве выше, чем в регионах."
   ]
  }
 ],
 "metadata": {
  "kernelspec": {
   "display_name": "Python 3",
   "language": "python",
   "name": "python3"
  },
  "language_info": {
   "codemirror_mode": {
    "name": "ipython",
    "version": 3
   },
   "file_extension": ".py",
   "mimetype": "text/x-python",
   "name": "python",
   "nbconvert_exporter": "python",
   "pygments_lexer": "ipython3",
   "version": "3.7.6"
  }
 },
 "nbformat": 4,
 "nbformat_minor": 2
}
