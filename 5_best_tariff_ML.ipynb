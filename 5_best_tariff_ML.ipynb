{
 "cells": [
  {
   "cell_type": "markdown",
   "metadata": {},
   "source": [
    "# Рекомендация тарифов"
   ]
  },
  {
   "cell_type": "markdown",
   "metadata": {},
   "source": [
    "В вашем распоряжении данные о поведении клиентов, которые уже перешли на эти тарифы (из проекта курса «Статистический анализ данных»). Нужно построить модель для задачи классификации, которая выберет подходящий тариф. Предобработка данных не понадобится — вы её уже сделали.\n",
    "\n",
    "Постройте модель с максимально большим значением *accuracy*. Чтобы сдать проект успешно, нужно довести долю правильных ответов по крайней мере до 0.75. Проверьте *accuracy* на тестовой выборке самостоятельно."
   ]
  },
  {
   "cell_type": "markdown",
   "metadata": {},
   "source": [
    "## 1. Общая информация\n"
   ]
  },
  {
   "cell_type": "code",
   "execution_count": 226,
   "metadata": {},
   "outputs": [],
   "source": [
    "import pandas as pd\n",
    "from sklearn.ensemble import RandomForestClassifier\n",
    "from sklearn.metrics import accuracy_score\n",
    "from sklearn.model_selection import train_test_split\n",
    "import numpy as np\n",
    "from sklearn.tree import DecisionTreeClassifier\n",
    "from sklearn.metrics import mean_squared_error\n",
    "from sklearn.linear_model import LogisticRegression\n",
    "\n",
    "import numpy as np\n",
    "import matplotlib.pyplot as plt\n",
    "%matplotlib inline\n",
    "import math\n",
    "users_df = pd.read_csv('users_behavior.csv')"
   ]
  },
  {
   "cell_type": "code",
   "execution_count": 227,
   "metadata": {},
   "outputs": [
    {
     "data": {
      "text/html": [
       "<div>\n",
       "<style scoped>\n",
       "    .dataframe tbody tr th:only-of-type {\n",
       "        vertical-align: middle;\n",
       "    }\n",
       "\n",
       "    .dataframe tbody tr th {\n",
       "        vertical-align: top;\n",
       "    }\n",
       "\n",
       "    .dataframe thead th {\n",
       "        text-align: right;\n",
       "    }\n",
       "</style>\n",
       "<table border=\"1\" class=\"dataframe\">\n",
       "  <thead>\n",
       "    <tr style=\"text-align: right;\">\n",
       "      <th></th>\n",
       "      <th>calls</th>\n",
       "      <th>minutes</th>\n",
       "      <th>messages</th>\n",
       "      <th>mb_used</th>\n",
       "      <th>is_ultra</th>\n",
       "    </tr>\n",
       "  </thead>\n",
       "  <tbody>\n",
       "    <tr>\n",
       "      <td>0</td>\n",
       "      <td>40.0</td>\n",
       "      <td>311.90</td>\n",
       "      <td>83.0</td>\n",
       "      <td>19915.42</td>\n",
       "      <td>0</td>\n",
       "    </tr>\n",
       "    <tr>\n",
       "      <td>1</td>\n",
       "      <td>85.0</td>\n",
       "      <td>516.75</td>\n",
       "      <td>56.0</td>\n",
       "      <td>22696.96</td>\n",
       "      <td>0</td>\n",
       "    </tr>\n",
       "    <tr>\n",
       "      <td>2</td>\n",
       "      <td>77.0</td>\n",
       "      <td>467.66</td>\n",
       "      <td>86.0</td>\n",
       "      <td>21060.45</td>\n",
       "      <td>0</td>\n",
       "    </tr>\n",
       "    <tr>\n",
       "      <td>3</td>\n",
       "      <td>106.0</td>\n",
       "      <td>745.53</td>\n",
       "      <td>81.0</td>\n",
       "      <td>8437.39</td>\n",
       "      <td>1</td>\n",
       "    </tr>\n",
       "    <tr>\n",
       "      <td>4</td>\n",
       "      <td>66.0</td>\n",
       "      <td>418.74</td>\n",
       "      <td>1.0</td>\n",
       "      <td>14502.75</td>\n",
       "      <td>0</td>\n",
       "    </tr>\n",
       "    <tr>\n",
       "      <td>...</td>\n",
       "      <td>...</td>\n",
       "      <td>...</td>\n",
       "      <td>...</td>\n",
       "      <td>...</td>\n",
       "      <td>...</td>\n",
       "    </tr>\n",
       "    <tr>\n",
       "      <td>3209</td>\n",
       "      <td>122.0</td>\n",
       "      <td>910.98</td>\n",
       "      <td>20.0</td>\n",
       "      <td>35124.90</td>\n",
       "      <td>1</td>\n",
       "    </tr>\n",
       "    <tr>\n",
       "      <td>3210</td>\n",
       "      <td>25.0</td>\n",
       "      <td>190.36</td>\n",
       "      <td>0.0</td>\n",
       "      <td>3275.61</td>\n",
       "      <td>0</td>\n",
       "    </tr>\n",
       "    <tr>\n",
       "      <td>3211</td>\n",
       "      <td>97.0</td>\n",
       "      <td>634.44</td>\n",
       "      <td>70.0</td>\n",
       "      <td>13974.06</td>\n",
       "      <td>0</td>\n",
       "    </tr>\n",
       "    <tr>\n",
       "      <td>3212</td>\n",
       "      <td>64.0</td>\n",
       "      <td>462.32</td>\n",
       "      <td>90.0</td>\n",
       "      <td>31239.78</td>\n",
       "      <td>0</td>\n",
       "    </tr>\n",
       "    <tr>\n",
       "      <td>3213</td>\n",
       "      <td>80.0</td>\n",
       "      <td>566.09</td>\n",
       "      <td>6.0</td>\n",
       "      <td>29480.52</td>\n",
       "      <td>1</td>\n",
       "    </tr>\n",
       "  </tbody>\n",
       "</table>\n",
       "<p>3214 rows × 5 columns</p>\n",
       "</div>"
      ],
      "text/plain": [
       "      calls  minutes  messages   mb_used  is_ultra\n",
       "0      40.0   311.90      83.0  19915.42         0\n",
       "1      85.0   516.75      56.0  22696.96         0\n",
       "2      77.0   467.66      86.0  21060.45         0\n",
       "3     106.0   745.53      81.0   8437.39         1\n",
       "4      66.0   418.74       1.0  14502.75         0\n",
       "...     ...      ...       ...       ...       ...\n",
       "3209  122.0   910.98      20.0  35124.90         1\n",
       "3210   25.0   190.36       0.0   3275.61         0\n",
       "3211   97.0   634.44      70.0  13974.06         0\n",
       "3212   64.0   462.32      90.0  31239.78         0\n",
       "3213   80.0   566.09       6.0  29480.52         1\n",
       "\n",
       "[3214 rows x 5 columns]"
      ]
     },
     "execution_count": 227,
     "metadata": {},
     "output_type": "execute_result"
    }
   ],
   "source": [
    "users_df"
   ]
  },
  {
   "cell_type": "markdown",
   "metadata": {},
   "source": [
    "## 2. Разбить данные на выборки"
   ]
  },
  {
   "cell_type": "code",
   "execution_count": 228,
   "metadata": {},
   "outputs": [],
   "source": [
    "#разобьем выборку на три части: обучающую (60% от первоначального), валилидационную и тестовую (по 20% от первоначального)\n",
    "users_df_train, users_df_interim = train_test_split(users_df, test_size=0.40, random_state=12345)\n",
    "users_df_valid, users_df_test = train_test_split(users_df_interim, test_size=0.50, random_state=12345)\n",
    "#выделим признаки для обучающей выборки и целевые классы\n",
    "features_train = users_df_train.drop(['is_ultra',], axis=1)\n",
    "target_train = users_df_train['is_ultra']\n",
    "#выделим признаки для валидационной выборки и целевые классы\n",
    "features_valid = users_df_valid.drop(['is_ultra'], axis=1)\n",
    "target_valid = users_df_valid['is_ultra']\n",
    "\n",
    "users_df_test_valid = users_df_test['is_ultra']\n",
    "users_df_test = users_df_test.drop(['is_ultra'], axis=1)\n"
   ]
  },
  {
   "cell_type": "markdown",
   "metadata": {},
   "source": [
    "## 3. Исследовать модели"
   ]
  },
  {
   "cell_type": "code",
   "execution_count": 229,
   "metadata": {},
   "outputs": [
    {
     "name": "stdout",
     "output_type": "stream",
     "text": [
      "Decision Tree\n",
      "max_depth = 1 : 0.7542768273716952\n",
      "max_depth = 6 : 0.7900466562986003\n",
      "max_depth = 11 : 0.7527216174183515\n",
      "max_depth = 16 : 0.7325038880248833\n",
      "max_depth = 21 : 0.7340590979782271\n",
      "max_depth = 26 : 0.7340590979782271\n",
      "max_depth = 31 : 0.7340590979782271\n",
      "max_depth = 36 : 0.7340590979782271\n",
      "max_depth = 41 : 0.7340590979782271\n",
      "max_depth = 46 : 0.7340590979782271\n"
     ]
    }
   ],
   "source": [
    "#проведем классификацию по модели DecisionTree\n",
    "print('Decision Tree')\n",
    "for depth in range(1, 50, 5):\n",
    "    model = DecisionTreeClassifier(random_state=12345, max_depth=depth, criterion='entropy', min_samples_split=5, min_samples_leaf=5)\n",
    "    model.fit(features_train, target_train)\n",
    "    predictions_valid = model.predict(features_valid)\n",
    "    print(\"max_depth =\", depth, \": \", end='')\n",
    "    print(accuracy_score(target_valid, predictions_valid))"
   ]
  },
  {
   "cell_type": "code",
   "execution_count": 230,
   "metadata": {},
   "outputs": [
    {
     "name": "stdout",
     "output_type": "stream",
     "text": [
      "Random Forest\n",
      "n_estimators = 1 : 0.7853810264385692\n",
      "n_estimators = 6 : 0.7869362363919129\n",
      "n_estimators = 11 : 0.7978227060653188\n",
      "n_estimators = 16 : 0.7978227060653188\n",
      "n_estimators = 21 : 0.807153965785381\n",
      "n_estimators = 26 : 0.8009331259720062\n",
      "n_estimators = 31 : 0.80248833592535\n",
      "n_estimators = 36 : 0.8055987558320373\n",
      "n_estimators = 41 : 0.80248833592535\n",
      "n_estimators = 46 : 0.8040435458786936\n",
      "n_estimators = 51 : 0.80248833592535\n",
      "n_estimators = 56 : 0.7993779160186625\n",
      "n_estimators = 61 : 0.8009331259720062\n",
      "n_estimators = 66 : 0.80248833592535\n",
      "n_estimators = 71 : 0.80248833592535\n",
      "n_estimators = 76 : 0.8009331259720062\n",
      "n_estimators = 81 : 0.80248833592535\n",
      "n_estimators = 86 : 0.8009331259720062\n",
      "n_estimators = 91 : 0.8009331259720062\n",
      "n_estimators = 96 : 0.80248833592535\n",
      "n_estimators = 101 : 0.80248833592535\n",
      "n_estimators = 106 : 0.80248833592535\n",
      "n_estimators = 111 : 0.80248833592535\n",
      "n_estimators = 116 : 0.80248833592535\n",
      "n_estimators = 121 : 0.80248833592535\n",
      "n_estimators = 126 : 0.80248833592535\n",
      "n_estimators = 131 : 0.8040435458786936\n",
      "n_estimators = 136 : 0.80248833592535\n",
      "n_estimators = 141 : 0.80248833592535\n",
      "n_estimators = 146 : 0.8040435458786936\n"
     ]
    }
   ],
   "source": [
    "#проведем классификацию по модели RandomForest\n",
    "print('Random Forest')\n",
    "for estim in range(1, 151, 5):\n",
    "    model_forest = RandomForestClassifier(random_state=12345, max_depth=6, n_estimators=estim, criterion='entropy')\n",
    "    model_forest.fit(features_train, target_train)\n",
    "    predictions_valid = model_forest.predict(features_valid)\n",
    "    print(\"n_estimators =\", estim, \": \", end='')\n",
    "    print(accuracy_score(target_valid, predictions_valid))"
   ]
  },
  {
   "cell_type": "code",
   "execution_count": 231,
   "metadata": {},
   "outputs": [
    {
     "name": "stdout",
     "output_type": "stream",
     "text": [
      "Logistic Regression\n",
      "0.7340590979782271\n"
     ]
    },
    {
     "name": "stderr",
     "output_type": "stream",
     "text": [
      "/opt/conda/lib/python3.7/site-packages/sklearn/linear_model/logistic.py:432: FutureWarning: Default solver will be changed to 'lbfgs' in 0.22. Specify a solver to silence this warning.\n",
      "  FutureWarning)\n"
     ]
    }
   ],
   "source": [
    "#проведем классификацию по модели LogisticRegression\n",
    "print('Logistic Regression')\n",
    "model_log = LogisticRegression(random_state=12345)\n",
    "model_log.fit(features_train, target_train)\n",
    "predictions_valid_log = model.predict(features_valid)\n",
    "print(accuracy_score(target_valid, predictions_valid_log))"
   ]
  },
  {
   "cell_type": "markdown",
   "metadata": {},
   "source": [
    "### Вывод\n",
    "\n",
    "- Наилучший результат покала модель randomforest с max_depth = 6 / n_estimators=41.\n",
    "- Проверим на тестовой выборке."
   ]
  },
  {
   "cell_type": "markdown",
   "metadata": {},
   "source": [
    "## 4. Проверить модель на тестовой выборке"
   ]
  },
  {
   "cell_type": "code",
   "execution_count": 235,
   "metadata": {},
   "outputs": [
    {
     "name": "stdout",
     "output_type": "stream",
     "text": [
      "0.7947122861586314\n"
     ]
    }
   ],
   "source": [
    "\n",
    "model_forest = RandomForestClassifier(random_state=12345, max_depth=6, n_estimators=41)\n",
    "model_forest.fit(features_train, target_train)\n",
    "predictions_valid = model_forest.predict(users_df_test)\n",
    "print(accuracy_score(users_df_test_valid, predictions_valid))"
   ]
  },
  {
   "cell_type": "markdown",
   "metadata": {},
   "source": [
    "#### Вывод\n",
    "- Спасибо! Замечания исправлены, напутал со сплитом тестовой выборки."
   ]
  },
  {
   "cell_type": "markdown",
   "metadata": {},
   "source": [
    "## 5. (бонус) Проверить модели на адекватность"
   ]
  },
  {
   "cell_type": "code",
   "execution_count": 233,
   "metadata": {},
   "outputs": [
    {
     "name": "stdout",
     "output_type": "stream",
     "text": [
      "Точность константной нулевой модели равна 0.7060653188180405\n"
     ]
    }
   ],
   "source": [
    "\n",
    "print(\n",
    "'Точность константной нулевой модели равна',\n",
    "accuracy_score(target_valid, np.zeros(target_valid.shape[0]))\n",
    ")"
   ]
  },
  {
   "cell_type": "markdown",
   "metadata": {},
   "source": [
    "#### Выводы\n",
    "Для проверки на адекватность вставил target валидационной выборки. Ее точность 70%, но все равно хуже чем получился с лесом (79%)."
   ]
  },
  {
   "cell_type": "code",
   "execution_count": null,
   "metadata": {},
   "outputs": [],
   "source": []
  }
 ],
 "metadata": {
  "kernelspec": {
   "display_name": "Python 3",
   "language": "python",
   "name": "python3"
  },
  "language_info": {
   "codemirror_mode": {
    "name": "ipython",
    "version": 3
   },
   "file_extension": ".py",
   "mimetype": "text/x-python",
   "name": "python",
   "nbconvert_exporter": "python",
   "pygments_lexer": "ipython3",
   "version": "3.7.6"
  }
 },
 "nbformat": 4,
 "nbformat_minor": 2
}
